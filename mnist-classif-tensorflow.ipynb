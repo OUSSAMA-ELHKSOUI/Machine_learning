{
 "cells": [
  {
   "cell_type": "code",
   "execution_count": 1,
   "id": "6b01df3d",
   "metadata": {
    "_cell_guid": "b1076dfc-b9ad-4769-8c92-a6c4dae69d19",
    "_uuid": "8f2839f25d086af736a60e9eeb907d3b93b6e0e5",
    "execution": {
     "iopub.execute_input": "2023-10-15T16:01:26.538837Z",
     "iopub.status.busy": "2023-10-15T16:01:26.537600Z",
     "iopub.status.idle": "2023-10-15T16:01:37.550950Z",
     "shell.execute_reply": "2023-10-15T16:01:37.549530Z"
    },
    "papermill": {
     "duration": 11.022001,
     "end_time": "2023-10-15T16:01:37.553828",
     "exception": false,
     "start_time": "2023-10-15T16:01:26.531827",
     "status": "completed"
    },
    "tags": []
   },
   "outputs": [],
   "source": [
    "import tensorflow as tf"
   ]
  },
  {
   "cell_type": "code",
   "execution_count": 2,
   "id": "7a5b737b",
   "metadata": {
    "execution": {
     "iopub.execute_input": "2023-10-15T16:01:37.565523Z",
     "iopub.status.busy": "2023-10-15T16:01:37.564674Z",
     "iopub.status.idle": "2023-10-15T16:01:37.570615Z",
     "shell.execute_reply": "2023-10-15T16:01:37.569226Z"
    },
    "papermill": {
     "duration": 0.01291,
     "end_time": "2023-10-15T16:01:37.572870",
     "exception": false,
     "start_time": "2023-10-15T16:01:37.559960",
     "status": "completed"
    },
    "tags": []
   },
   "outputs": [],
   "source": [
    "data = tf.keras.datasets.mnist"
   ]
  },
  {
   "cell_type": "code",
   "execution_count": 3,
   "id": "64b2f4f3",
   "metadata": {
    "execution": {
     "iopub.execute_input": "2023-10-15T16:01:37.580839Z",
     "iopub.status.busy": "2023-10-15T16:01:37.580473Z",
     "iopub.status.idle": "2023-10-15T16:01:38.077657Z",
     "shell.execute_reply": "2023-10-15T16:01:38.076426Z"
    },
    "papermill": {
     "duration": 0.504324,
     "end_time": "2023-10-15T16:01:38.080499",
     "exception": false,
     "start_time": "2023-10-15T16:01:37.576175",
     "status": "completed"
    },
    "tags": []
   },
   "outputs": [
    {
     "name": "stdout",
     "output_type": "stream",
     "text": [
      "Downloading data from https://storage.googleapis.com/tensorflow/tf-keras-datasets/mnist.npz\n",
      "11490434/11490434 [==============================] - 0s 0us/step\n"
     ]
    },
    {
     "data": {
      "text/plain": [
       "array([[[0, 0, 0, ..., 0, 0, 0],\n",
       "        [0, 0, 0, ..., 0, 0, 0],\n",
       "        [0, 0, 0, ..., 0, 0, 0],\n",
       "        ...,\n",
       "        [0, 0, 0, ..., 0, 0, 0],\n",
       "        [0, 0, 0, ..., 0, 0, 0],\n",
       "        [0, 0, 0, ..., 0, 0, 0]],\n",
       "\n",
       "       [[0, 0, 0, ..., 0, 0, 0],\n",
       "        [0, 0, 0, ..., 0, 0, 0],\n",
       "        [0, 0, 0, ..., 0, 0, 0],\n",
       "        ...,\n",
       "        [0, 0, 0, ..., 0, 0, 0],\n",
       "        [0, 0, 0, ..., 0, 0, 0],\n",
       "        [0, 0, 0, ..., 0, 0, 0]],\n",
       "\n",
       "       [[0, 0, 0, ..., 0, 0, 0],\n",
       "        [0, 0, 0, ..., 0, 0, 0],\n",
       "        [0, 0, 0, ..., 0, 0, 0],\n",
       "        ...,\n",
       "        [0, 0, 0, ..., 0, 0, 0],\n",
       "        [0, 0, 0, ..., 0, 0, 0],\n",
       "        [0, 0, 0, ..., 0, 0, 0]],\n",
       "\n",
       "       ...,\n",
       "\n",
       "       [[0, 0, 0, ..., 0, 0, 0],\n",
       "        [0, 0, 0, ..., 0, 0, 0],\n",
       "        [0, 0, 0, ..., 0, 0, 0],\n",
       "        ...,\n",
       "        [0, 0, 0, ..., 0, 0, 0],\n",
       "        [0, 0, 0, ..., 0, 0, 0],\n",
       "        [0, 0, 0, ..., 0, 0, 0]],\n",
       "\n",
       "       [[0, 0, 0, ..., 0, 0, 0],\n",
       "        [0, 0, 0, ..., 0, 0, 0],\n",
       "        [0, 0, 0, ..., 0, 0, 0],\n",
       "        ...,\n",
       "        [0, 0, 0, ..., 0, 0, 0],\n",
       "        [0, 0, 0, ..., 0, 0, 0],\n",
       "        [0, 0, 0, ..., 0, 0, 0]],\n",
       "\n",
       "       [[0, 0, 0, ..., 0, 0, 0],\n",
       "        [0, 0, 0, ..., 0, 0, 0],\n",
       "        [0, 0, 0, ..., 0, 0, 0],\n",
       "        ...,\n",
       "        [0, 0, 0, ..., 0, 0, 0],\n",
       "        [0, 0, 0, ..., 0, 0, 0],\n",
       "        [0, 0, 0, ..., 0, 0, 0]]], dtype=uint8)"
      ]
     },
     "execution_count": 3,
     "metadata": {},
     "output_type": "execute_result"
    }
   ],
   "source": [
    "(x_train, y_train), (x_test, y_test) = data.load_data()\n",
    "x_train"
   ]
  },
  {
   "cell_type": "code",
   "execution_count": 4,
   "id": "ecdefc34",
   "metadata": {
    "execution": {
     "iopub.execute_input": "2023-10-15T16:01:38.090131Z",
     "iopub.status.busy": "2023-10-15T16:01:38.089395Z",
     "iopub.status.idle": "2023-10-15T16:01:38.096744Z",
     "shell.execute_reply": "2023-10-15T16:01:38.095632Z"
    },
    "papermill": {
     "duration": 0.014876,
     "end_time": "2023-10-15T16:01:38.098974",
     "exception": false,
     "start_time": "2023-10-15T16:01:38.084098",
     "status": "completed"
    },
    "tags": []
   },
   "outputs": [
    {
     "data": {
      "text/plain": [
       "(10000, 28, 28)"
      ]
     },
     "execution_count": 4,
     "metadata": {},
     "output_type": "execute_result"
    }
   ],
   "source": [
    "x_test.shape"
   ]
  },
  {
   "cell_type": "code",
   "execution_count": 5,
   "id": "878eb33e",
   "metadata": {
    "execution": {
     "iopub.execute_input": "2023-10-15T16:01:38.108911Z",
     "iopub.status.busy": "2023-10-15T16:01:38.108173Z",
     "iopub.status.idle": "2023-10-15T16:01:38.431918Z",
     "shell.execute_reply": "2023-10-15T16:01:38.430892Z"
    },
    "papermill": {
     "duration": 0.331764,
     "end_time": "2023-10-15T16:01:38.434651",
     "exception": false,
     "start_time": "2023-10-15T16:01:38.102887",
     "status": "completed"
    },
    "tags": []
   },
   "outputs": [],
   "source": [
    "x_train = x_train/255.0\n",
    "x_test = x_test/255.0"
   ]
  },
  {
   "cell_type": "code",
   "execution_count": 6,
   "id": "f8c76be1",
   "metadata": {
    "execution": {
     "iopub.execute_input": "2023-10-15T16:01:38.444446Z",
     "iopub.status.busy": "2023-10-15T16:01:38.443958Z",
     "iopub.status.idle": "2023-10-15T16:03:03.233692Z",
     "shell.execute_reply": "2023-10-15T16:03:03.232166Z"
    },
    "papermill": {
     "duration": 84.798321,
     "end_time": "2023-10-15T16:03:03.236797",
     "exception": false,
     "start_time": "2023-10-15T16:01:38.438476",
     "status": "completed"
    },
    "tags": []
   },
   "outputs": [
    {
     "name": "stdout",
     "output_type": "stream",
     "text": [
      "Epoch 1/10\n",
      "1875/1875 [==============================] - 9s 5ms/step - loss: 0.3020 - accuracy: 0.9119 - val_loss: 0.1441 - val_accuracy: 0.9568\n",
      "Epoch 2/10\n",
      "1875/1875 [==============================] - 9s 5ms/step - loss: 0.1473 - accuracy: 0.9570 - val_loss: 0.1022 - val_accuracy: 0.9682\n",
      "Epoch 3/10\n",
      "1875/1875 [==============================] - 8s 4ms/step - loss: 0.1113 - accuracy: 0.9660 - val_loss: 0.0868 - val_accuracy: 0.9739\n",
      "Epoch 4/10\n",
      "1875/1875 [==============================] - 8s 4ms/step - loss: 0.0904 - accuracy: 0.9722 - val_loss: 0.0789 - val_accuracy: 0.9743\n",
      "Epoch 5/10\n",
      "1875/1875 [==============================] - 8s 4ms/step - loss: 0.0769 - accuracy: 0.9763 - val_loss: 0.0769 - val_accuracy: 0.9775\n",
      "Epoch 6/10\n",
      "1875/1875 [==============================] - 8s 4ms/step - loss: 0.0672 - accuracy: 0.9783 - val_loss: 0.0693 - val_accuracy: 0.9781\n",
      "Epoch 7/10\n",
      "1875/1875 [==============================] - 8s 4ms/step - loss: 0.0603 - accuracy: 0.9807 - val_loss: 0.0702 - val_accuracy: 0.9782\n",
      "Epoch 8/10\n",
      "1875/1875 [==============================] - 8s 4ms/step - loss: 0.0536 - accuracy: 0.9826 - val_loss: 0.0707 - val_accuracy: 0.9784\n",
      "Epoch 9/10\n",
      "1875/1875 [==============================] - 8s 4ms/step - loss: 0.0498 - accuracy: 0.9833 - val_loss: 0.0693 - val_accuracy: 0.9785\n",
      "Epoch 10/10\n",
      "1875/1875 [==============================] - 8s 4ms/step - loss: 0.0445 - accuracy: 0.9854 - val_loss: 0.0676 - val_accuracy: 0.9804\n"
     ]
    }
   ],
   "source": [
    "model = tf.keras.models.Sequential([\n",
    "    tf.keras.layers.Flatten(input_shape=(28, 28)),\n",
    "    tf.keras.layers.Dense(128, activation='relu'),\n",
    "    tf.keras.layers.Dropout(0.2),\n",
    "    tf.keras.layers.Dense(10, activation=\"softmax\")\n",
    "])\n",
    "model.compile(optimizer=\"adam\",\n",
    "             loss=\"sparse_categorical_crossentropy\",\n",
    "             metrics=['accuracy'])\n",
    "r = model.fit(x_train, y_train, validation_data=(x_test, y_test), epochs=10)"
   ]
  },
  {
   "cell_type": "code",
   "execution_count": 7,
   "id": "f4502018",
   "metadata": {
    "execution": {
     "iopub.execute_input": "2023-10-15T16:03:03.506591Z",
     "iopub.status.busy": "2023-10-15T16:03:03.505445Z",
     "iopub.status.idle": "2023-10-15T16:03:03.816303Z",
     "shell.execute_reply": "2023-10-15T16:03:03.814932Z"
    },
    "papermill": {
     "duration": 0.397487,
     "end_time": "2023-10-15T16:03:03.818597",
     "exception": false,
     "start_time": "2023-10-15T16:03:03.421110",
     "status": "completed"
    },
    "tags": []
   },
   "outputs": [
    {
     "data": {
      "text/plain": [
       "<matplotlib.legend.Legend at 0x784985e6aa10>"
      ]
     },
     "execution_count": 7,
     "metadata": {},
     "output_type": "execute_result"
    },
    {
     "data": {
      "image/png": "[encoded data removed]",
      "text/plain": [
       "<Figure size 640x480 with 1 Axes>"
      ]
     },
     "metadata": {},
     "output_type": "display_data"
    }
   ],
   "source": [
    "import matplotlib.pyplot as plt\n",
    "plt.plot(r.history[\"loss\"], label=\"loss\")\n",
    "plt.plot(r.history[\"val_loss\"], label=\"val_loss\")\n",
    "plt.legend()"
   ]
  },
  {
   "cell_type": "code",
   "execution_count": 8,
   "id": "f4c01258",
   "metadata": {
    "execution": {
     "iopub.execute_input": "2023-10-15T16:03:03.982536Z",
     "iopub.status.busy": "2023-10-15T16:03:03.981353Z",
     "iopub.status.idle": "2023-10-15T16:03:04.265680Z",
     "shell.execute_reply": "2023-10-15T16:03:04.264461Z"
    },
    "papermill": {
     "duration": 0.369979,
     "end_time": "2023-10-15T16:03:04.268116",
     "exception": false,
     "start_time": "2023-10-15T16:03:03.898137",
     "status": "completed"
    },
    "tags": []
   },
   "outputs": [
    {
     "data": {
      "text/plain": [
       "<matplotlib.legend.Legend at 0x7849644b2ad0>"
      ]
     },
     "execution_count": 8,
     "metadata": {},
     "output_type": "execute_result"
    },
    {
     "data": {
      "image/png": "[encoded data removed]",
      "text/plain": [
       "<Figure size 640x480 with 1 Axes>"
      ]
     },
     "metadata": {},
     "output_type": "display_data"
    }
   ],
   "source": [
    "plt.plot(r.history[\"accuracy\"], label=\"accuracy\")\n",
    "plt.plot(r.history[\"val_accuracy\"], label=\"val_accuracy\")\n",
    "plt.legend()"
   ]
  },
  {
   "cell_type": "code",
   "execution_count": 9,
   "id": "6d6cc488",
   "metadata": {
    "execution": {
     "iopub.execute_input": "2023-10-15T16:03:04.439347Z",
     "iopub.status.busy": "2023-10-15T16:03:04.438891Z",
     "iopub.status.idle": "2023-10-15T16:03:05.255855Z",
     "shell.execute_reply": "2023-10-15T16:03:05.254458Z"
    },
    "papermill": {
     "duration": 0.906211,
     "end_time": "2023-10-15T16:03:05.258396",
     "exception": false,
     "start_time": "2023-10-15T16:03:04.352185",
     "status": "completed"
    },
    "tags": []
   },
   "outputs": [
    {
     "name": "stdout",
     "output_type": "stream",
     "text": [
      "313/313 [==============================] - 1s 2ms/step - loss: 0.0676 - accuracy: 0.9804\n"
     ]
    },
    {
     "data": {
      "text/plain": [
       "[0.06764449179172516, 0.980400025844574]"
      ]
     },
     "execution_count": 9,
     "metadata": {},
     "output_type": "execute_result"
    }
   ],
   "source": [
    "model.evaluate(x_test,y_test)"
   ]
  },
  {
   "cell_type": "code",
   "execution_count": 10,
   "id": "1d8e9155",
   "metadata": {
    "execution": {
     "iopub.execute_input": "2023-10-15T16:03:05.425321Z",
     "iopub.status.busy": "2023-10-15T16:03:05.424834Z",
     "iopub.status.idle": "2023-10-15T16:03:07.191849Z",
     "shell.execute_reply": "2023-10-15T16:03:07.190954Z"
    },
    "papermill": {
     "duration": 1.852835,
     "end_time": "2023-10-15T16:03:07.194164",
     "exception": false,
     "start_time": "2023-10-15T16:03:05.341329",
     "status": "completed"
    },
    "tags": []
   },
   "outputs": [
    {
     "name": "stdout",
     "output_type": "stream",
     "text": [
      "313/313 [==============================] - 1s 2ms/step\n"
     ]
    },
    {
     "data": {
      "text/plain": [
       "array([[ 970,    1,    1,    1,    1,    1,    2,    1,    2,    0],\n",
       "       [   0, 1128,    1,    1,    1,    0,    2,    0,    2,    0],\n",
       "       [   0,    2, 1012,    2,    0,    0,    1,    7,    8,    0],\n",
       "       [   0,    0,    2,  992,    0,    2,    0,    4,    5,    5],\n",
       "       [   0,    0,    2,    0,  973,    0,    3,    0,    2,    2],\n",
       "       [   2,    0,    0,   10,    2,  868,    4,    2,    3,    1],\n",
       "       [   4,    2,    2,    1,    4,    5,  936,    0,    4,    0],\n",
       "       [   2,    3,   11,    3,    2,    0,    0,  999,    2,    6],\n",
       "       [   4,    0,    3,    4,    4,    5,    1,    3,  946,    4],\n",
       "       [   1,    3,    1,    2,   14,    2,    0,    4,    2,  980]])"
      ]
     },
     "execution_count": 10,
     "metadata": {},
     "output_type": "execute_result"
    }
   ],
   "source": [
    "from sklearn.metrics import confusion_matrix\n",
    "\n",
    "p_test = model.predict(x_test).argmax(axis=1)\n",
    "cm = confusion_matrix(y_test, p_test)\n",
    "cm"
   ]
  }
 ],
 "metadata": {
  "kernelspec": {
   "display_name": "Python 3",
   "language": "python",
   "name": "python3"
  },
  "language_info": {
   "codemirror_mode": {
    "name": "ipython",
    "version": 3
   },
   "file_extension": ".py",
   "mimetype": "text/x-python",
   "name": "python",
   "nbconvert_exporter": "python",
   "pygments_lexer": "ipython3",
   "version": "3.10.12"
  },
  "papermill": {
   "default_parameters": {},
   "duration": 107.563317,
   "end_time": "2023-10-15T16:03:10.429689",
   "environment_variables": {},
   "exception": null,
   "input_path": "__notebook__.ipynb",
   "output_path": "__notebook__.ipynb",
   "parameters": {},
   "start_time": "2023-10-15T16:01:22.866372",
   "version": "2.4.0"
  }
 },
 "nbformat": 4,
 "nbformat_minor": 5
}
