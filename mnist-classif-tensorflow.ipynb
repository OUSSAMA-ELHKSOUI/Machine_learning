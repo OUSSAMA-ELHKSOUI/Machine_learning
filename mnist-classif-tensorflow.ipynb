{
 "cells": [
  {
   "cell_type": "code",
   "execution_count": 1,
   "id": "5e60b9a0",
   "metadata": {
    "_cell_guid": "b1076dfc-b9ad-4769-8c92-a6c4dae69d19",
    "_uuid": "8f2839f25d086af736a60e9eeb907d3b93b6e0e5",
    "execution": {
     "iopub.execute_input": "2023-10-15T14:15:08.812220Z",
     "iopub.status.busy": "2023-10-15T14:15:08.811824Z",
     "iopub.status.idle": "2023-10-15T14:15:17.704924Z",
     "shell.execute_reply": "2023-10-15T14:15:17.704009Z"
    },
    "papermill": {
     "duration": 8.900485,
     "end_time": "2023-10-15T14:15:17.707576",
     "exception": false,
     "start_time": "2023-10-15T14:15:08.807091",
     "status": "completed"
    },
    "tags": []
   },
   "outputs": [],
   "source": [
    "import tensorflow as tf"
   ]
  },
  {
   "cell_type": "code",
   "execution_count": 2,
   "id": "d2258502",
   "metadata": {
    "execution": {
     "iopub.execute_input": "2023-10-15T14:15:17.716309Z",
     "iopub.status.busy": "2023-10-15T14:15:17.715736Z",
     "iopub.status.idle": "2023-10-15T14:15:17.720354Z",
     "shell.execute_reply": "2023-10-15T14:15:17.719403Z"
    },
    "papermill": {
     "duration": 0.009769,
     "end_time": "2023-10-15T14:15:17.722056",
     "exception": false,
     "start_time": "2023-10-15T14:15:17.712287",
     "status": "completed"
    },
    "tags": []
   },
   "outputs": [],
   "source": [
    "data = tf.keras.datasets.mnist"
   ]
  },
  {
   "cell_type": "code",
   "execution_count": 3,
   "id": "aee0467c",
   "metadata": {
    "collapsed": true,
    "execution": {
     "iopub.execute_input": "2023-10-15T14:15:17.727887Z",
     "iopub.status.busy": "2023-10-15T14:15:17.727582Z",
     "iopub.status.idle": "2023-10-15T14:15:18.359836Z",
     "shell.execute_reply": "2023-10-15T14:15:18.358727Z"
    },
    "jupyter": {
     "outputs_hidden": true
    },
    "papermill": {
     "duration": 0.637415,
     "end_time": "2023-10-15T14:15:18.361893",
     "exception": false,
     "start_time": "2023-10-15T14:15:17.724478",
     "status": "completed"
    },
    "tags": []
   },
   "outputs": [
    {
     "name": "stdout",
     "output_type": "stream",
     "text": [
      "Downloading data from https://storage.googleapis.com/tensorflow/tf-keras-datasets/mnist.npz\n",
      "11490434/11490434 [==============================] - 0s 0us/step\n"
     ]
    },
    {
     "data": {
      "text/plain": [
       "array([[[0, 0, 0, ..., 0, 0, 0],\n",
       "        [0, 0, 0, ..., 0, 0, 0],\n",
       "        [0, 0, 0, ..., 0, 0, 0],\n",
       "        ...,\n",
       "        [0, 0, 0, ..., 0, 0, 0],\n",
       "        [0, 0, 0, ..., 0, 0, 0],\n",
       "        [0, 0, 0, ..., 0, 0, 0]],\n",
       "\n",
       "       [[0, 0, 0, ..., 0, 0, 0],\n",
       "        [0, 0, 0, ..., 0, 0, 0],\n",
       "        [0, 0, 0, ..., 0, 0, 0],\n",
       "        ...,\n",
       "        [0, 0, 0, ..., 0, 0, 0],\n",
       "        [0, 0, 0, ..., 0, 0, 0],\n",
       "        [0, 0, 0, ..., 0, 0, 0]],\n",
       "\n",
       "       [[0, 0, 0, ..., 0, 0, 0],\n",
       "        [0, 0, 0, ..., 0, 0, 0],\n",
       "        [0, 0, 0, ..., 0, 0, 0],\n",
       "        ...,\n",
       "        [0, 0, 0, ..., 0, 0, 0],\n",
       "        [0, 0, 0, ..., 0, 0, 0],\n",
       "        [0, 0, 0, ..., 0, 0, 0]],\n",
       "\n",
       "       ...,\n",
       "\n",
       "       [[0, 0, 0, ..., 0, 0, 0],\n",
       "        [0, 0, 0, ..., 0, 0, 0],\n",
       "        [0, 0, 0, ..., 0, 0, 0],\n",
       "        ...,\n",
       "        [0, 0, 0, ..., 0, 0, 0],\n",
       "        [0, 0, 0, ..., 0, 0, 0],\n",
       "        [0, 0, 0, ..., 0, 0, 0]],\n",
       "\n",
       "       [[0, 0, 0, ..., 0, 0, 0],\n",
       "        [0, 0, 0, ..., 0, 0, 0],\n",
       "        [0, 0, 0, ..., 0, 0, 0],\n",
       "        ...,\n",
       "        [0, 0, 0, ..., 0, 0, 0],\n",
       "        [0, 0, 0, ..., 0, 0, 0],\n",
       "        [0, 0, 0, ..., 0, 0, 0]],\n",
       "\n",
       "       [[0, 0, 0, ..., 0, 0, 0],\n",
       "        [0, 0, 0, ..., 0, 0, 0],\n",
       "        [0, 0, 0, ..., 0, 0, 0],\n",
       "        ...,\n",
       "        [0, 0, 0, ..., 0, 0, 0],\n",
       "        [0, 0, 0, ..., 0, 0, 0],\n",
       "        [0, 0, 0, ..., 0, 0, 0]]], dtype=uint8)"
      ]
     },
     "execution_count": 3,
     "metadata": {},
     "output_type": "execute_result"
    }
   ],
   "source": [
    "(x_train, y_train), (x_test, y_test) = data.load_data()\n",
    "x_train"
   ]
  },
  {
   "cell_type": "code",
   "execution_count": 4,
   "id": "11d315ef",
   "metadata": {
    "execution": {
     "iopub.execute_input": "2023-10-15T14:15:18.369098Z",
     "iopub.status.busy": "2023-10-15T14:15:18.368761Z",
     "iopub.status.idle": "2023-10-15T14:15:18.375161Z",
     "shell.execute_reply": "2023-10-15T14:15:18.374140Z"
    },
    "papermill": {
     "duration": 0.012267,
     "end_time": "2023-10-15T14:15:18.377033",
     "exception": false,
     "start_time": "2023-10-15T14:15:18.364766",
     "status": "completed"
    },
    "tags": []
   },
   "outputs": [
    {
     "data": {
      "text/plain": [
       "(10000, 28, 28)"
      ]
     },
     "execution_count": 4,
     "metadata": {},
     "output_type": "execute_result"
    }
   ],
   "source": [
    "x_test.shape"
   ]
  },
  {
   "cell_type": "code",
   "execution_count": 5,
   "id": "823e9b9d",
   "metadata": {
    "execution": {
     "iopub.execute_input": "2023-10-15T14:15:18.384146Z",
     "iopub.status.busy": "2023-10-15T14:15:18.383344Z",
     "iopub.status.idle": "2023-10-15T14:15:18.603886Z",
     "shell.execute_reply": "2023-10-15T14:15:18.602649Z"
    },
    "papermill": {
     "duration": 0.226892,
     "end_time": "2023-10-15T14:15:18.606669",
     "exception": false,
     "start_time": "2023-10-15T14:15:18.379777",
     "status": "completed"
    },
    "tags": []
   },
   "outputs": [],
   "source": [
    "x_train = x_train/255.0\n",
    "x_test = x_test/255.0"
   ]
  },
  {
   "cell_type": "code",
   "execution_count": 6,
   "id": "1c7ff1eb",
   "metadata": {
    "execution": {
     "iopub.execute_input": "2023-10-15T14:15:18.614116Z",
     "iopub.status.busy": "2023-10-15T14:15:18.613774Z",
     "iopub.status.idle": "2023-10-15T14:16:41.761332Z",
     "shell.execute_reply": "2023-10-15T14:16:41.759965Z"
    },
    "papermill": {
     "duration": 83.154042,
     "end_time": "2023-10-15T14:16:41.763864",
     "exception": false,
     "start_time": "2023-10-15T14:15:18.609822",
     "status": "completed"
    },
    "tags": []
   },
   "outputs": [
    {
     "name": "stdout",
     "output_type": "stream",
     "text": [
      "Epoch 1/10\n",
      "1875/1875 [==============================] - 6s 3ms/step - loss: 0.2989 - accuracy: 0.9129 - val_loss: 0.1383 - val_accuracy: 0.9587\n",
      "Epoch 2/10\n",
      "1875/1875 [==============================] - 5s 3ms/step - loss: 0.1433 - accuracy: 0.9569 - val_loss: 0.0974 - val_accuracy: 0.9701\n",
      "Epoch 3/10\n",
      "1875/1875 [==============================] - 5s 3ms/step - loss: 0.1087 - accuracy: 0.9674 - val_loss: 0.0924 - val_accuracy: 0.9718\n",
      "Epoch 4/10\n",
      "1875/1875 [==============================] - 5s 3ms/step - loss: 0.0873 - accuracy: 0.9728 - val_loss: 0.0798 - val_accuracy: 0.9759\n",
      "Epoch 5/10\n",
      "1875/1875 [==============================] - 5s 3ms/step - loss: 0.0735 - accuracy: 0.9768 - val_loss: 0.0771 - val_accuracy: 0.9766\n",
      "Epoch 6/10\n",
      "1875/1875 [==============================] - 5s 3ms/step - loss: 0.0665 - accuracy: 0.9787 - val_loss: 0.0705 - val_accuracy: 0.9782\n",
      "Epoch 7/10\n",
      "1875/1875 [==============================] - 5s 3ms/step - loss: 0.0588 - accuracy: 0.9809 - val_loss: 0.0726 - val_accuracy: 0.9792\n",
      "Epoch 8/10\n",
      "1875/1875 [==============================] - 5s 3ms/step - loss: 0.0522 - accuracy: 0.9827 - val_loss: 0.0733 - val_accuracy: 0.9789\n",
      "Epoch 9/10\n",
      "1875/1875 [==============================] - 5s 3ms/step - loss: 0.0461 - accuracy: 0.9846 - val_loss: 0.0722 - val_accuracy: 0.9795\n",
      "Epoch 10/10\n",
      "1875/1875 [==============================] - 5s 3ms/step - loss: 0.0449 - accuracy: 0.9853 - val_loss: 0.0747 - val_accuracy: 0.9787\n"
     ]
    }
   ],
   "source": [
    "model = tf.keras.models.Sequential([\n",
    "    tf.keras.layers.Flatten(input_shape=(28, 28)),\n",
    "    tf.keras.layers.Dense(128, activation='relu'),\n",
    "    tf.keras.layers.Dropout(0.2),\n",
    "    tf.keras.layers.Dense(10, activation=\"softmax\")\n",
    "])\n",
    "model.compile(optimizer=\"adam\",\n",
    "             loss=\"sparse_categorical_crossentropy\",\n",
    "             metrics=['accuracy'])\n",
    "r = model.fit(x_train, y_train, validation_data=(x_test, y_test), epochs=10)"
   ]
  },
  {
   "cell_type": "code",
   "execution_count": 7,
   "id": "3ac8e3f9",
   "metadata": {
    "execution": {
     "iopub.execute_input": "2023-10-15T14:16:41.862200Z",
     "iopub.status.busy": "2023-10-15T14:16:41.860965Z",
     "iopub.status.idle": "2023-10-15T14:16:42.155822Z",
     "shell.execute_reply": "2023-10-15T14:16:42.154801Z"
    },
    "papermill": {
     "duration": 0.345062,
     "end_time": "2023-10-15T14:16:42.157661",
     "exception": false,
     "start_time": "2023-10-15T14:16:41.812599",
     "status": "completed"
    },
    "tags": []
   },
   "outputs": [
    {
     "data": {
      "text/plain": [
       "<matplotlib.legend.Legend at 0x7d09c4ff5de0>"
      ]
     },
     "execution_count": 7,
     "metadata": {},
     "output_type": "execute_result"
    },
    {
     "data": {
      "image/png": "[encoded data removed]",
      "text/plain": [
       "<Figure size 640x480 with 1 Axes>"
      ]
     },
     "metadata": {},
     "output_type": "display_data"
    }
   ],
   "source": [
    "import matplotlib.pyplot as plt\n",
    "plt.plot(r.history[\"loss\"], label=\"loss\")\n",
    "plt.plot(r.history[\"val_loss\"], label=\"val_loss\")\n",
    "plt.legend()"
   ]
  },
  {
   "cell_type": "code",
   "execution_count": 8,
   "id": "77a051ce",
   "metadata": {
    "execution": {
     "iopub.execute_input": "2023-10-15T14:16:42.311513Z",
     "iopub.status.busy": "2023-10-15T14:16:42.311089Z",
     "iopub.status.idle": "2023-10-15T14:16:42.580145Z",
     "shell.execute_reply": "2023-10-15T14:16:42.579167Z"
    },
    "papermill": {
     "duration": 0.376993,
     "end_time": "2023-10-15T14:16:42.582265",
     "exception": false,
     "start_time": "2023-10-15T14:16:42.205272",
     "status": "completed"
    },
    "tags": []
   },
   "outputs": [
    {
     "data": {
      "text/plain": [
       "<matplotlib.legend.Legend at 0x7d098c6270a0>"
      ]
     },
     "execution_count": 8,
     "metadata": {},
     "output_type": "execute_result"
    },
    {
     "data": {
      "image/png": "[encoded data removed]",
      "text/plain": [
       "<Figure size 640x480 with 1 Axes>"
      ]
     },
     "metadata": {},
     "output_type": "display_data"
    }
   ],
   "source": [
    "plt.plot(r.history[\"accuracy\"], label=\"accuracy\")\n",
    "plt.plot(r.history[\"val_accuracy\"], label=\"val_accuracy\")\n",
    "plt.legend()"
   ]
  },
  {
   "cell_type": "code",
   "execution_count": 9,
   "id": "39cd7586",
   "metadata": {
    "execution": {
     "iopub.execute_input": "2023-10-15T14:16:42.681468Z",
     "iopub.status.busy": "2023-10-15T14:16:42.681117Z",
     "iopub.status.idle": "2023-10-15T14:16:43.253422Z",
     "shell.execute_reply": "2023-10-15T14:16:43.252499Z"
    },
    "papermill": {
     "duration": 0.624337,
     "end_time": "2023-10-15T14:16:43.255302",
     "exception": false,
     "start_time": "2023-10-15T14:16:42.630965",
     "status": "completed"
    },
    "tags": []
   },
   "outputs": [
    {
     "name": "stdout",
     "output_type": "stream",
     "text": [
      "313/313 [==============================] - 0s 1ms/step - loss: 0.0747 - accuracy: 0.9787\n"
     ]
    },
    {
     "data": {
      "text/plain": [
       "[0.07474345713853836, 0.9786999821662903]"
      ]
     },
     "execution_count": 9,
     "metadata": {},
     "output_type": "execute_result"
    }
   ],
   "source": [
    "model.evaluate(x_test,y_test)"
   ]
  }
 ],
 "metadata": {
  "kernelspec": {
   "display_name": "Python 3",
   "language": "python",
   "name": "python3"
  },
  "language_info": {
   "codemirror_mode": {
    "name": "ipython",
    "version": 3
   },
   "file_extension": ".py",
   "mimetype": "text/x-python",
   "name": "python",
   "nbconvert_exporter": "python",
   "pygments_lexer": "ipython3",
   "version": "3.10.12"
  },
  "papermill": {
   "default_parameters": {},
   "duration": 98.961796,
   "end_time": "2023-10-15T14:16:44.830278",
   "environment_variables": {},
   "exception": null,
   "input_path": "__notebook__.ipynb",
   "output_path": "__notebook__.ipynb",
   "parameters": {},
   "start_time": "2023-10-15T14:15:05.868482",
   "version": "2.4.0"
  }
 },
 "nbformat": 4,
 "nbformat_minor": 5
}
