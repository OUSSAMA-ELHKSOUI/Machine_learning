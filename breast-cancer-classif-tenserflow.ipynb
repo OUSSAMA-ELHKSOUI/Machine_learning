{
 "cells": [
  {
   "cell_type": "code",
   "execution_count": 1,
   "id": "f4fb75ed",
   "metadata": {
    "_cell_guid": "b1076dfc-b9ad-4769-8c92-a6c4dae69d19",
    "_uuid": "8f2839f25d086af736a60e9eeb907d3b93b6e0e5",
    "execution": {
     "iopub.execute_input": "2023-10-14T21:57:21.962432Z",
     "iopub.status.busy": "2023-10-14T21:57:21.961872Z",
     "iopub.status.idle": "2023-10-14T21:57:33.000172Z",
     "shell.execute_reply": "2023-10-14T21:57:32.999029Z"
    },
    "papermill": {
     "duration": 11.04914,
     "end_time": "2023-10-14T21:57:33.003095",
     "exception": false,
     "start_time": "2023-10-14T21:57:21.953955",
     "status": "completed"
    },
    "tags": []
   },
   "outputs": [],
   "source": [
    "import tensorflow as tf"
   ]
  },
  {
   "cell_type": "code",
   "execution_count": 2,
   "id": "bbd95c60",
   "metadata": {
    "execution": {
     "iopub.execute_input": "2023-10-14T21:57:33.016989Z",
     "iopub.status.busy": "2023-10-14T21:57:33.015775Z",
     "iopub.status.idle": "2023-10-14T21:57:34.060829Z",
     "shell.execute_reply": "2023-10-14T21:57:34.059307Z"
    },
    "papermill": {
     "duration": 1.055215,
     "end_time": "2023-10-14T21:57:34.063747",
     "exception": false,
     "start_time": "2023-10-14T21:57:33.008532",
     "status": "completed"
    },
    "tags": []
   },
   "outputs": [],
   "source": [
    "from sklearn.datasets import load_breast_cancer"
   ]
  },
  {
   "cell_type": "code",
   "execution_count": 3,
   "id": "69b1b6b1",
   "metadata": {
    "execution": {
     "iopub.execute_input": "2023-10-14T21:57:34.077574Z",
     "iopub.status.busy": "2023-10-14T21:57:34.076317Z",
     "iopub.status.idle": "2023-10-14T21:57:34.095325Z",
     "shell.execute_reply": "2023-10-14T21:57:34.093790Z"
    },
    "papermill": {
     "duration": 0.029452,
     "end_time": "2023-10-14T21:57:34.098461",
     "exception": false,
     "start_time": "2023-10-14T21:57:34.069009",
     "status": "completed"
    },
    "tags": []
   },
   "outputs": [],
   "source": [
    "data = load_breast_cancer()"
   ]
  },
  {
   "cell_type": "code",
   "execution_count": 4,
   "id": "40f175fd",
   "metadata": {
    "execution": {
     "iopub.execute_input": "2023-10-14T21:57:34.110061Z",
     "iopub.status.busy": "2023-10-14T21:57:34.109615Z",
     "iopub.status.idle": "2023-10-14T21:57:34.124000Z",
     "shell.execute_reply": "2023-10-14T21:57:34.122790Z"
    },
    "papermill": {
     "duration": 0.023512,
     "end_time": "2023-10-14T21:57:34.127053",
     "exception": false,
     "start_time": "2023-10-14T21:57:34.103541",
     "status": "completed"
    },
    "tags": []
   },
   "outputs": [
    {
     "data": {
      "text/plain": [
       "{'data': array([[1.799e+01, 1.038e+01, 1.228e+02, ..., 2.654e-01, 4.601e-01,\n",
       "         1.189e-01],\n",
       "        [2.057e+01, 1.777e+01, 1.329e+02, ..., 1.860e-01, 2.750e-01,\n",
       "         8.902e-02],\n",
       "        [1.969e+01, 2.125e+01, 1.300e+02, ..., 2.430e-01, 3.613e-01,\n",
       "         8.758e-02],\n",
       "        ...,\n",
       "        [1.660e+01, 2.808e+01, 1.083e+02, ..., 1.418e-01, 2.218e-01,\n",
       "         7.820e-02],\n",
       "        [2.060e+01, 2.933e+01, 1.401e+02, ..., 2.650e-01, 4.087e-01,\n",
       "         1.240e-01],\n",
       "        [7.760e+00, 2.454e+01, 4.792e+01, ..., 0.000e+00, 2.871e-01,\n",
       "         7.039e-02]]),\n",
       " 'target': array([0, 0, 0, 0, 0, 0, 0, 0, 0, 0, 0, 0, 0, 0, 0, 0, 0, 0, 0, 1, 1, 1,\n",
       "        0, 0, 0, 0, 0, 0, 0, 0, 0, 0, 0, 0, 0, 0, 0, 1, 0, 0, 0, 0, 0, 0,\n",
       "        0, 0, 1, 0, 1, 1, 1, 1, 1, 0, 0, 1, 0, 0, 1, 1, 1, 1, 0, 1, 0, 0,\n",
       "        1, 1, 1, 1, 0, 1, 0, 0, 1, 0, 1, 0, 0, 1, 1, 1, 0, 0, 1, 0, 0, 0,\n",
       "        1, 1, 1, 0, 1, 1, 0, 0, 1, 1, 1, 0, 0, 1, 1, 1, 1, 0, 1, 1, 0, 1,\n",
       "        1, 1, 1, 1, 1, 1, 1, 0, 0, 0, 1, 0, 0, 1, 1, 1, 0, 0, 1, 0, 1, 0,\n",
       "        0, 1, 0, 0, 1, 1, 0, 1, 1, 0, 1, 1, 1, 1, 0, 1, 1, 1, 1, 1, 1, 1,\n",
       "        1, 1, 0, 1, 1, 1, 1, 0, 0, 1, 0, 1, 1, 0, 0, 1, 1, 0, 0, 1, 1, 1,\n",
       "        1, 0, 1, 1, 0, 0, 0, 1, 0, 1, 0, 1, 1, 1, 0, 1, 1, 0, 0, 1, 0, 0,\n",
       "        0, 0, 1, 0, 0, 0, 1, 0, 1, 0, 1, 1, 0, 1, 0, 0, 0, 0, 1, 1, 0, 0,\n",
       "        1, 1, 1, 0, 1, 1, 1, 1, 1, 0, 0, 1, 1, 0, 1, 1, 0, 0, 1, 0, 1, 1,\n",
       "        1, 1, 0, 1, 1, 1, 1, 1, 0, 1, 0, 0, 0, 0, 0, 0, 0, 0, 0, 0, 0, 0,\n",
       "        0, 0, 1, 1, 1, 1, 1, 1, 0, 1, 0, 1, 1, 0, 1, 1, 0, 1, 0, 0, 1, 1,\n",
       "        1, 1, 1, 1, 1, 1, 1, 1, 1, 1, 1, 0, 1, 1, 0, 1, 0, 1, 1, 1, 1, 1,\n",
       "        1, 1, 1, 1, 1, 1, 1, 1, 1, 0, 1, 1, 1, 0, 1, 0, 1, 1, 1, 1, 0, 0,\n",
       "        0, 1, 1, 1, 1, 0, 1, 0, 1, 0, 1, 1, 1, 0, 1, 1, 1, 1, 1, 1, 1, 0,\n",
       "        0, 0, 1, 1, 1, 1, 1, 1, 1, 1, 1, 1, 1, 0, 0, 1, 0, 0, 0, 1, 0, 0,\n",
       "        1, 1, 1, 1, 1, 0, 1, 1, 1, 1, 1, 0, 1, 1, 1, 0, 1, 1, 0, 0, 1, 1,\n",
       "        1, 1, 1, 1, 0, 1, 1, 1, 1, 1, 1, 1, 0, 1, 1, 1, 1, 1, 0, 1, 1, 0,\n",
       "        1, 1, 1, 1, 1, 1, 1, 1, 1, 1, 1, 1, 0, 1, 0, 0, 1, 0, 1, 1, 1, 1,\n",
       "        1, 0, 1, 1, 0, 1, 0, 1, 1, 0, 1, 0, 1, 1, 1, 1, 1, 1, 1, 1, 0, 0,\n",
       "        1, 1, 1, 1, 1, 1, 0, 1, 1, 1, 1, 1, 1, 1, 1, 1, 1, 0, 1, 1, 1, 1,\n",
       "        1, 1, 1, 0, 1, 0, 1, 1, 0, 1, 1, 1, 1, 1, 0, 0, 1, 0, 1, 0, 1, 1,\n",
       "        1, 1, 1, 0, 1, 1, 0, 1, 0, 1, 0, 0, 1, 1, 1, 0, 1, 1, 1, 1, 1, 1,\n",
       "        1, 1, 1, 1, 1, 0, 1, 0, 0, 1, 1, 1, 1, 1, 1, 1, 1, 1, 1, 1, 1, 1,\n",
       "        1, 1, 1, 1, 1, 1, 1, 1, 1, 1, 1, 1, 0, 0, 0, 0, 0, 0, 1]),\n",
       " 'frame': None,\n",
       " 'target_names': array(['malignant', 'benign'], dtype='<U9'),\n",
       " 'DESCR': '.. _breast_cancer_dataset:\\n\\nBreast cancer wisconsin (diagnostic) dataset\\n--------------------------------------------\\n\\n**Data Set Characteristics:**\\n\\n    :Number of Instances: 569\\n\\n    :Number of Attributes: 30 numeric, predictive attributes and the class\\n\\n    :Attribute Information:\\n        - radius (mean of distances from center to points on the perimeter)\\n        - texture (standard deviation of gray-scale values)\\n        - perimeter\\n        - area\\n        - smoothness (local variation in radius lengths)\\n        - compactness (perimeter^2 / area - 1.0)\\n        - concavity (severity of concave portions of the contour)\\n        - concave points (number of concave portions of the contour)\\n        - symmetry\\n        - fractal dimension (\"coastline approximation\" - 1)\\n\\n        The mean, standard error, and \"worst\" or largest (mean of the three\\n        worst/largest values) of these features were computed for each image,\\n        resulting in 30 features.  For instance, field 0 is Mean Radius, field\\n        10 is Radius SE, field 20 is Worst Radius.\\n\\n        - class:\\n                - WDBC-Malignant\\n                - WDBC-Benign\\n\\n    :Summary Statistics:\\n\\n    ===================================== ====== ======\\n                                           Min    Max\\n    ===================================== ====== ======\\n    radius (mean):                        6.981  28.11\\n    texture (mean):                       9.71   39.28\\n    perimeter (mean):                     43.79  188.5\\n    area (mean):                          143.5  2501.0\\n    smoothness (mean):                    0.053  0.163\\n    compactness (mean):                   0.019  0.345\\n    concavity (mean):                     0.0    0.427\\n    concave points (mean):                0.0    0.201\\n    symmetry (mean):                      0.106  0.304\\n    fractal dimension (mean):             0.05   0.097\\n    radius (standard error):              0.112  2.873\\n    texture (standard error):             0.36   4.885\\n    perimeter (standard error):           0.757  21.98\\n    area (standard error):                6.802  542.2\\n    smoothness (standard error):          0.002  0.031\\n    compactness (standard error):         0.002  0.135\\n    concavity (standard error):           0.0    0.396\\n    concave points (standard error):      0.0    0.053\\n    symmetry (standard error):            0.008  0.079\\n    fractal dimension (standard error):   0.001  0.03\\n    radius (worst):                       7.93   36.04\\n    texture (worst):                      12.02  49.54\\n    perimeter (worst):                    50.41  251.2\\n    area (worst):                         185.2  4254.0\\n    smoothness (worst):                   0.071  0.223\\n    compactness (worst):                  0.027  1.058\\n    concavity (worst):                    0.0    1.252\\n    concave points (worst):               0.0    0.291\\n    symmetry (worst):                     0.156  0.664\\n    fractal dimension (worst):            0.055  0.208\\n    ===================================== ====== ======\\n\\n    :Missing Attribute Values: None\\n\\n    :Class Distribution: 212 - Malignant, 357 - Benign\\n\\n    :Creator:  Dr. William H. Wolberg, W. Nick Street, Olvi L. Mangasarian\\n\\n    :Donor: Nick Street\\n\\n    :Date: November, 1995\\n\\nThis is a copy of UCI ML Breast Cancer Wisconsin (Diagnostic) datasets.\\nhttps://goo.gl/U2Uwz2\\n\\nFeatures are computed from a digitized image of a fine needle\\naspirate (FNA) of a breast mass.  They describe\\ncharacteristics of the cell nuclei present in the image.\\n\\nSeparating plane described above was obtained using\\nMultisurface Method-Tree (MSM-T) [K. P. Bennett, \"Decision Tree\\nConstruction Via Linear Programming.\" Proceedings of the 4th\\nMidwest Artificial Intelligence and Cognitive Science Society,\\npp. 97-101, 1992], a classification method which uses linear\\nprogramming to construct a decision tree.  Relevant features\\nwere selected using an exhaustive search in the space of 1-4\\nfeatures and 1-3 separating planes.\\n\\nThe actual linear program used to obtain the separating plane\\nin the 3-dimensional space is that described in:\\n[K. P. Bennett and O. L. Mangasarian: \"Robust Linear\\nProgramming Discrimination of Two Linearly Inseparable Sets\",\\nOptimization Methods and Software 1, 1992, 23-34].\\n\\nThis database is also available through the UW CS ftp server:\\n\\nftp ftp.cs.wisc.edu\\ncd math-prog/cpo-dataset/machine-learn/WDBC/\\n\\n.. topic:: References\\n\\n   - W.N. Street, W.H. Wolberg and O.L. Mangasarian. Nuclear feature extraction \\n     for breast tumor diagnosis. IS&T/SPIE 1993 International Symposium on \\n     Electronic Imaging: Science and Technology, volume 1905, pages 861-870,\\n     San Jose, CA, 1993.\\n   - O.L. Mangasarian, W.N. Street and W.H. Wolberg. Breast cancer diagnosis and \\n     prognosis via linear programming. Operations Research, 43(4), pages 570-577, \\n     July-August 1995.\\n   - W.H. Wolberg, W.N. Street, and O.L. Mangasarian. Machine learning techniques\\n     to diagnose breast cancer from fine-needle aspirates. Cancer Letters 77 (1994) \\n     163-171.',\n",
       " 'feature_names': array(['mean radius', 'mean texture', 'mean perimeter', 'mean area',\n",
       "        'mean smoothness', 'mean compactness', 'mean concavity',\n",
       "        'mean concave points', 'mean symmetry', 'mean fractal dimension',\n",
       "        'radius error', 'texture error', 'perimeter error', 'area error',\n",
       "        'smoothness error', 'compactness error', 'concavity error',\n",
       "        'concave points error', 'symmetry error',\n",
       "        'fractal dimension error', 'worst radius', 'worst texture',\n",
       "        'worst perimeter', 'worst area', 'worst smoothness',\n",
       "        'worst compactness', 'worst concavity', 'worst concave points',\n",
       "        'worst symmetry', 'worst fractal dimension'], dtype='<U23'),\n",
       " 'filename': 'breast_cancer.csv',\n",
       " 'data_module': 'sklearn.datasets.data'}"
      ]
     },
     "execution_count": 4,
     "metadata": {},
     "output_type": "execute_result"
    }
   ],
   "source": [
    "data"
   ]
  },
  {
   "cell_type": "code",
   "execution_count": 5,
   "id": "cf78c03b",
   "metadata": {
    "execution": {
     "iopub.execute_input": "2023-10-14T21:57:34.141368Z",
     "iopub.status.busy": "2023-10-14T21:57:34.140613Z",
     "iopub.status.idle": "2023-10-14T21:57:34.148584Z",
     "shell.execute_reply": "2023-10-14T21:57:34.147433Z"
    },
    "papermill": {
     "duration": 0.019017,
     "end_time": "2023-10-14T21:57:34.151328",
     "exception": false,
     "start_time": "2023-10-14T21:57:34.132311",
     "status": "completed"
    },
    "tags": []
   },
   "outputs": [
    {
     "data": {
      "text/plain": [
       "array([[1.799e+01, 1.038e+01, 1.228e+02, ..., 2.654e-01, 4.601e-01,\n",
       "        1.189e-01],\n",
       "       [2.057e+01, 1.777e+01, 1.329e+02, ..., 1.860e-01, 2.750e-01,\n",
       "        8.902e-02],\n",
       "       [1.969e+01, 2.125e+01, 1.300e+02, ..., 2.430e-01, 3.613e-01,\n",
       "        8.758e-02],\n",
       "       ...,\n",
       "       [1.660e+01, 2.808e+01, 1.083e+02, ..., 1.418e-01, 2.218e-01,\n",
       "        7.820e-02],\n",
       "       [2.060e+01, 2.933e+01, 1.401e+02, ..., 2.650e-01, 4.087e-01,\n",
       "        1.240e-01],\n",
       "       [7.760e+00, 2.454e+01, 4.792e+01, ..., 0.000e+00, 2.871e-01,\n",
       "        7.039e-02]])"
      ]
     },
     "execution_count": 5,
     "metadata": {},
     "output_type": "execute_result"
    }
   ],
   "source": [
    "data.data"
   ]
  },
  {
   "cell_type": "code",
   "execution_count": 6,
   "id": "b7a8d2c6",
   "metadata": {
    "execution": {
     "iopub.execute_input": "2023-10-14T21:57:34.165492Z",
     "iopub.status.busy": "2023-10-14T21:57:34.164766Z",
     "iopub.status.idle": "2023-10-14T21:57:34.172996Z",
     "shell.execute_reply": "2023-10-14T21:57:34.171857Z"
    },
    "papermill": {
     "duration": 0.0187,
     "end_time": "2023-10-14T21:57:34.175431",
     "exception": false,
     "start_time": "2023-10-14T21:57:34.156731",
     "status": "completed"
    },
    "tags": []
   },
   "outputs": [
    {
     "data": {
      "text/plain": [
       "array([0, 0, 0, 0, 0, 0, 0, 0, 0, 0, 0, 0, 0, 0, 0, 0, 0, 0, 0, 1, 1, 1,\n",
       "       0, 0, 0, 0, 0, 0, 0, 0, 0, 0, 0, 0, 0, 0, 0, 1, 0, 0, 0, 0, 0, 0,\n",
       "       0, 0, 1, 0, 1, 1, 1, 1, 1, 0, 0, 1, 0, 0, 1, 1, 1, 1, 0, 1, 0, 0,\n",
       "       1, 1, 1, 1, 0, 1, 0, 0, 1, 0, 1, 0, 0, 1, 1, 1, 0, 0, 1, 0, 0, 0,\n",
       "       1, 1, 1, 0, 1, 1, 0, 0, 1, 1, 1, 0, 0, 1, 1, 1, 1, 0, 1, 1, 0, 1,\n",
       "       1, 1, 1, 1, 1, 1, 1, 0, 0, 0, 1, 0, 0, 1, 1, 1, 0, 0, 1, 0, 1, 0,\n",
       "       0, 1, 0, 0, 1, 1, 0, 1, 1, 0, 1, 1, 1, 1, 0, 1, 1, 1, 1, 1, 1, 1,\n",
       "       1, 1, 0, 1, 1, 1, 1, 0, 0, 1, 0, 1, 1, 0, 0, 1, 1, 0, 0, 1, 1, 1,\n",
       "       1, 0, 1, 1, 0, 0, 0, 1, 0, 1, 0, 1, 1, 1, 0, 1, 1, 0, 0, 1, 0, 0,\n",
       "       0, 0, 1, 0, 0, 0, 1, 0, 1, 0, 1, 1, 0, 1, 0, 0, 0, 0, 1, 1, 0, 0,\n",
       "       1, 1, 1, 0, 1, 1, 1, 1, 1, 0, 0, 1, 1, 0, 1, 1, 0, 0, 1, 0, 1, 1,\n",
       "       1, 1, 0, 1, 1, 1, 1, 1, 0, 1, 0, 0, 0, 0, 0, 0, 0, 0, 0, 0, 0, 0,\n",
       "       0, 0, 1, 1, 1, 1, 1, 1, 0, 1, 0, 1, 1, 0, 1, 1, 0, 1, 0, 0, 1, 1,\n",
       "       1, 1, 1, 1, 1, 1, 1, 1, 1, 1, 1, 0, 1, 1, 0, 1, 0, 1, 1, 1, 1, 1,\n",
       "       1, 1, 1, 1, 1, 1, 1, 1, 1, 0, 1, 1, 1, 0, 1, 0, 1, 1, 1, 1, 0, 0,\n",
       "       0, 1, 1, 1, 1, 0, 1, 0, 1, 0, 1, 1, 1, 0, 1, 1, 1, 1, 1, 1, 1, 0,\n",
       "       0, 0, 1, 1, 1, 1, 1, 1, 1, 1, 1, 1, 1, 0, 0, 1, 0, 0, 0, 1, 0, 0,\n",
       "       1, 1, 1, 1, 1, 0, 1, 1, 1, 1, 1, 0, 1, 1, 1, 0, 1, 1, 0, 0, 1, 1,\n",
       "       1, 1, 1, 1, 0, 1, 1, 1, 1, 1, 1, 1, 0, 1, 1, 1, 1, 1, 0, 1, 1, 0,\n",
       "       1, 1, 1, 1, 1, 1, 1, 1, 1, 1, 1, 1, 0, 1, 0, 0, 1, 0, 1, 1, 1, 1,\n",
       "       1, 0, 1, 1, 0, 1, 0, 1, 1, 0, 1, 0, 1, 1, 1, 1, 1, 1, 1, 1, 0, 0,\n",
       "       1, 1, 1, 1, 1, 1, 0, 1, 1, 1, 1, 1, 1, 1, 1, 1, 1, 0, 1, 1, 1, 1,\n",
       "       1, 1, 1, 0, 1, 0, 1, 1, 0, 1, 1, 1, 1, 1, 0, 0, 1, 0, 1, 0, 1, 1,\n",
       "       1, 1, 1, 0, 1, 1, 0, 1, 0, 1, 0, 0, 1, 1, 1, 0, 1, 1, 1, 1, 1, 1,\n",
       "       1, 1, 1, 1, 1, 0, 1, 0, 0, 1, 1, 1, 1, 1, 1, 1, 1, 1, 1, 1, 1, 1,\n",
       "       1, 1, 1, 1, 1, 1, 1, 1, 1, 1, 1, 1, 0, 0, 0, 0, 0, 0, 1])"
      ]
     },
     "execution_count": 6,
     "metadata": {},
     "output_type": "execute_result"
    }
   ],
   "source": [
    "data.target"
   ]
  },
  {
   "cell_type": "code",
   "execution_count": 7,
   "id": "d3482032",
   "metadata": {
    "execution": {
     "iopub.execute_input": "2023-10-14T21:57:34.189658Z",
     "iopub.status.busy": "2023-10-14T21:57:34.188890Z",
     "iopub.status.idle": "2023-10-14T21:57:34.196460Z",
     "shell.execute_reply": "2023-10-14T21:57:34.195314Z"
    },
    "papermill": {
     "duration": 0.016922,
     "end_time": "2023-10-14T21:57:34.198461",
     "exception": false,
     "start_time": "2023-10-14T21:57:34.181539",
     "status": "completed"
    },
    "tags": []
   },
   "outputs": [
    {
     "data": {
      "text/plain": [
       "array(['mean radius', 'mean texture', 'mean perimeter', 'mean area',\n",
       "       'mean smoothness', 'mean compactness', 'mean concavity',\n",
       "       'mean concave points', 'mean symmetry', 'mean fractal dimension',\n",
       "       'radius error', 'texture error', 'perimeter error', 'area error',\n",
       "       'smoothness error', 'compactness error', 'concavity error',\n",
       "       'concave points error', 'symmetry error',\n",
       "       'fractal dimension error', 'worst radius', 'worst texture',\n",
       "       'worst perimeter', 'worst area', 'worst smoothness',\n",
       "       'worst compactness', 'worst concavity', 'worst concave points',\n",
       "       'worst symmetry', 'worst fractal dimension'], dtype='<U23')"
      ]
     },
     "execution_count": 7,
     "metadata": {},
     "output_type": "execute_result"
    }
   ],
   "source": [
    "data.feature_names"
   ]
  },
  {
   "cell_type": "code",
   "execution_count": 8,
   "id": "db28ff0b",
   "metadata": {
    "execution": {
     "iopub.execute_input": "2023-10-14T21:57:34.211583Z",
     "iopub.status.busy": "2023-10-14T21:57:34.210851Z",
     "iopub.status.idle": "2023-10-14T21:57:34.217619Z",
     "shell.execute_reply": "2023-10-14T21:57:34.216518Z"
    },
    "papermill": {
     "duration": 0.015757,
     "end_time": "2023-10-14T21:57:34.219543",
     "exception": false,
     "start_time": "2023-10-14T21:57:34.203786",
     "status": "completed"
    },
    "tags": []
   },
   "outputs": [
    {
     "data": {
      "text/plain": [
       "array(['malignant', 'benign'], dtype='<U9')"
      ]
     },
     "execution_count": 8,
     "metadata": {},
     "output_type": "execute_result"
    }
   ],
   "source": [
    "data.target_names"
   ]
  },
  {
   "cell_type": "code",
   "execution_count": 9,
   "id": "86af2309",
   "metadata": {
    "execution": {
     "iopub.execute_input": "2023-10-14T21:57:34.233404Z",
     "iopub.status.busy": "2023-10-14T21:57:34.232703Z",
     "iopub.status.idle": "2023-10-14T21:57:34.366794Z",
     "shell.execute_reply": "2023-10-14T21:57:34.365460Z"
    },
    "papermill": {
     "duration": 0.144855,
     "end_time": "2023-10-14T21:57:34.369753",
     "exception": false,
     "start_time": "2023-10-14T21:57:34.224898",
     "status": "completed"
    },
    "tags": []
   },
   "outputs": [],
   "source": [
    "from sklearn.model_selection import train_test_split\n",
    "\n",
    "X_train, X_test, y_train, y_test = train_test_split(data.data, data.target, test_size=0.33)"
   ]
  },
  {
   "cell_type": "code",
   "execution_count": 10,
   "id": "144d25fe",
   "metadata": {
    "execution": {
     "iopub.execute_input": "2023-10-14T21:57:34.384486Z",
     "iopub.status.busy": "2023-10-14T21:57:34.383546Z",
     "iopub.status.idle": "2023-10-14T21:57:34.392199Z",
     "shell.execute_reply": "2023-10-14T21:57:34.390868Z"
    },
    "papermill": {
     "duration": 0.018432,
     "end_time": "2023-10-14T21:57:34.394328",
     "exception": false,
     "start_time": "2023-10-14T21:57:34.375896",
     "status": "completed"
    },
    "tags": []
   },
   "outputs": [
    {
     "data": {
      "text/plain": [
       "array([0, 1, 1, 1, 1, 1, 1, 1, 1, 1, 0, 1, 1, 1, 0, 1, 0, 0, 1, 1, 1, 1,\n",
       "       1, 1, 0, 1, 1, 0, 1, 0, 1, 1, 1, 1, 1, 0, 1, 1, 1, 1, 0, 0, 1, 1,\n",
       "       0, 1, 0, 1, 1, 1, 1, 0, 0, 1, 1, 1, 0, 0, 1, 0, 1, 1, 1, 1, 0, 0,\n",
       "       0, 0, 1, 1, 1, 0, 0, 1, 0, 1, 1, 1, 0, 0, 1, 1, 0, 1, 1, 1, 0, 0,\n",
       "       1, 1, 1, 1, 1, 0, 1, 1, 0, 1, 0, 1, 1, 1, 1, 0, 0, 1, 0, 1, 0, 0,\n",
       "       1, 0, 1, 1, 1, 1, 1, 0, 0, 0, 0, 0, 0, 0, 1, 1, 0, 1, 0, 0, 1, 1,\n",
       "       0, 1, 1, 1, 1, 1, 0, 0, 1, 1, 0, 0, 1, 1, 1, 0, 1, 0, 1, 0, 1, 0,\n",
       "       1, 1, 1, 0, 1, 0, 1, 1, 1, 0, 1, 1, 1, 1, 0, 0, 0, 0, 1, 0, 0, 1,\n",
       "       1, 1, 1, 1, 0, 0, 1, 1, 1, 0, 1, 0, 0, 1, 0, 0, 0, 0, 1, 1, 1, 0,\n",
       "       0, 1, 1, 1, 1, 1, 0, 1, 0, 1, 1, 0, 0, 1, 1, 0, 0, 1, 0, 1, 1, 1,\n",
       "       0, 1, 1, 1, 1, 0, 1, 0, 1, 0, 1, 0, 1, 0, 1, 1, 0, 1, 1, 1, 0, 1,\n",
       "       1, 1, 1, 0, 0, 0, 1, 1, 1, 1, 1, 1, 0, 0, 1, 0, 1, 0, 0, 0, 1, 1,\n",
       "       1, 0, 1, 1, 1, 0, 0, 1, 1, 1, 0, 1, 1, 1, 1, 0, 0, 1, 1, 0, 1, 1,\n",
       "       1, 1, 0, 0, 1, 0, 1, 1, 1, 0, 1, 0, 0, 1, 0, 1, 1, 1, 0, 1, 0, 0,\n",
       "       1, 0, 1, 1, 1, 1, 1, 1, 1, 0, 1, 0, 1, 1, 1, 1, 0, 0, 1, 0, 1, 1,\n",
       "       0, 1, 0, 0, 1, 0, 1, 0, 1, 1, 1, 1, 0, 1, 1, 0, 1, 1, 0, 1, 1, 0,\n",
       "       1, 0, 1, 0, 1, 1, 1, 0, 1, 1, 1, 1, 0, 1, 0, 0, 0, 1, 0, 0, 1, 1,\n",
       "       1, 0, 1, 1, 0, 1, 1])"
      ]
     },
     "execution_count": 10,
     "metadata": {},
     "output_type": "execute_result"
    }
   ],
   "source": [
    "y_train"
   ]
  },
  {
   "cell_type": "code",
   "execution_count": 11,
   "id": "afef952f",
   "metadata": {
    "execution": {
     "iopub.execute_input": "2023-10-14T21:57:34.408068Z",
     "iopub.status.busy": "2023-10-14T21:57:34.407612Z",
     "iopub.status.idle": "2023-10-14T21:57:34.417216Z",
     "shell.execute_reply": "2023-10-14T21:57:34.416219Z"
    },
    "papermill": {
     "duration": 0.019699,
     "end_time": "2023-10-14T21:57:34.419790",
     "exception": false,
     "start_time": "2023-10-14T21:57:34.400091",
     "status": "completed"
    },
    "tags": []
   },
   "outputs": [],
   "source": [
    "from sklearn.preprocessing import StandardScaler\n",
    "\n",
    "scaler = StandardScaler()\n",
    "X_train = scaler.fit_transform(X_train)\n",
    "X_test = scaler.fit_transform(X_test)"
   ]
  },
  {
   "cell_type": "code",
   "execution_count": 12,
   "id": "545ca65a",
   "metadata": {
    "execution": {
     "iopub.execute_input": "2023-10-14T21:57:34.433584Z",
     "iopub.status.busy": "2023-10-14T21:57:34.433092Z",
     "iopub.status.idle": "2023-10-14T21:57:34.438690Z",
     "shell.execute_reply": "2023-10-14T21:57:34.437424Z"
    },
    "papermill": {
     "duration": 0.015046,
     "end_time": "2023-10-14T21:57:34.440860",
     "exception": false,
     "start_time": "2023-10-14T21:57:34.425814",
     "status": "completed"
    },
    "tags": []
   },
   "outputs": [],
   "source": [
    "N, D = X_train.shape"
   ]
  },
  {
   "cell_type": "code",
   "execution_count": 13,
   "id": "6619beed",
   "metadata": {
    "execution": {
     "iopub.execute_input": "2023-10-14T21:57:34.454604Z",
     "iopub.status.busy": "2023-10-14T21:57:34.454030Z",
     "iopub.status.idle": "2023-10-14T21:57:34.646937Z",
     "shell.execute_reply": "2023-10-14T21:57:34.645802Z"
    },
    "papermill": {
     "duration": 0.202923,
     "end_time": "2023-10-14T21:57:34.649635",
     "exception": false,
     "start_time": "2023-10-14T21:57:34.446712",
     "status": "completed"
    },
    "tags": []
   },
   "outputs": [],
   "source": [
    "model = tf.keras.models.Sequential([\n",
    "    tf.keras.layers.Input(shape=(D,)),\n",
    "    tf.keras.layers.Dense(1, activation=\"sigmoid\")\n",
    "])\n",
    "model.compile(optimizer=\"adam\",\n",
    "             loss=\"binary_crossentropy\",\n",
    "                 metrics=[\"accuracy\"])"
   ]
  },
  {
   "cell_type": "code",
   "execution_count": 14,
   "id": "ecfd6ab5",
   "metadata": {
    "execution": {
     "iopub.execute_input": "2023-10-14T21:57:34.663687Z",
     "iopub.status.busy": "2023-10-14T21:57:34.662921Z",
     "iopub.status.idle": "2023-10-14T21:57:42.637947Z",
     "shell.execute_reply": "2023-10-14T21:57:42.636719Z"
    },
    "papermill": {
     "duration": 7.985233,
     "end_time": "2023-10-14T21:57:42.640804",
     "exception": false,
     "start_time": "2023-10-14T21:57:34.655571",
     "status": "completed"
    },
    "tags": []
   },
   "outputs": [
    {
     "name": "stdout",
     "output_type": "stream",
     "text": [
      "Epoch 1/100\n",
      "12/12 [==============================] - 1s 24ms/step - loss: 0.4179 - accuracy: 0.8740 - val_loss: 0.3987 - val_accuracy: 0.8564\n",
      "Epoch 2/100\n",
      "12/12 [==============================] - 0s 5ms/step - loss: 0.3845 - accuracy: 0.8898 - val_loss: 0.3710 - val_accuracy: 0.8830\n",
      "Epoch 3/100\n",
      "12/12 [==============================] - 0s 6ms/step - loss: 0.3557 - accuracy: 0.9003 - val_loss: 0.3469 - val_accuracy: 0.8936\n",
      "Epoch 4/100\n",
      "12/12 [==============================] - 0s 6ms/step - loss: 0.3313 - accuracy: 0.9081 - val_loss: 0.3257 - val_accuracy: 0.9149\n",
      "Epoch 5/100\n",
      "12/12 [==============================] - 0s 6ms/step - loss: 0.3103 - accuracy: 0.9108 - val_loss: 0.3072 - val_accuracy: 0.9202\n",
      "Epoch 6/100\n",
      "12/12 [==============================] - 0s 6ms/step - loss: 0.2914 - accuracy: 0.9160 - val_loss: 0.2913 - val_accuracy: 0.9202\n",
      "Epoch 7/100\n",
      "12/12 [==============================] - 0s 6ms/step - loss: 0.2753 - accuracy: 0.9213 - val_loss: 0.2775 - val_accuracy: 0.9255\n",
      "Epoch 8/100\n",
      "12/12 [==============================] - 0s 5ms/step - loss: 0.2611 - accuracy: 0.9265 - val_loss: 0.2649 - val_accuracy: 0.9309\n",
      "Epoch 9/100\n",
      "12/12 [==============================] - 0s 5ms/step - loss: 0.2490 - accuracy: 0.9344 - val_loss: 0.2535 - val_accuracy: 0.9362\n",
      "Epoch 10/100\n",
      "12/12 [==============================] - 0s 5ms/step - loss: 0.2373 - accuracy: 0.9396 - val_loss: 0.2436 - val_accuracy: 0.9362\n",
      "Epoch 11/100\n",
      "12/12 [==============================] - 0s 6ms/step - loss: 0.2271 - accuracy: 0.9449 - val_loss: 0.2347 - val_accuracy: 0.9415\n",
      "Epoch 12/100\n",
      "12/12 [==============================] - 0s 5ms/step - loss: 0.2178 - accuracy: 0.9475 - val_loss: 0.2267 - val_accuracy: 0.9415\n",
      "Epoch 13/100\n",
      "12/12 [==============================] - 0s 5ms/step - loss: 0.2094 - accuracy: 0.9501 - val_loss: 0.2194 - val_accuracy: 0.9415\n",
      "Epoch 14/100\n",
      "12/12 [==============================] - 0s 6ms/step - loss: 0.2022 - accuracy: 0.9501 - val_loss: 0.2125 - val_accuracy: 0.9415\n",
      "Epoch 15/100\n",
      "12/12 [==============================] - 0s 6ms/step - loss: 0.1949 - accuracy: 0.9528 - val_loss: 0.2064 - val_accuracy: 0.9415\n",
      "Epoch 16/100\n",
      "12/12 [==============================] - 0s 5ms/step - loss: 0.1885 - accuracy: 0.9554 - val_loss: 0.2008 - val_accuracy: 0.9468\n",
      "Epoch 17/100\n",
      "12/12 [==============================] - 0s 6ms/step - loss: 0.1828 - accuracy: 0.9554 - val_loss: 0.1955 - val_accuracy: 0.9468\n",
      "Epoch 18/100\n",
      "12/12 [==============================] - 0s 5ms/step - loss: 0.1771 - accuracy: 0.9554 - val_loss: 0.1907 - val_accuracy: 0.9468\n",
      "Epoch 19/100\n",
      "12/12 [==============================] - 0s 6ms/step - loss: 0.1723 - accuracy: 0.9554 - val_loss: 0.1860 - val_accuracy: 0.9468\n",
      "Epoch 20/100\n",
      "12/12 [==============================] - 0s 6ms/step - loss: 0.1675 - accuracy: 0.9554 - val_loss: 0.1819 - val_accuracy: 0.9468\n",
      "Epoch 21/100\n",
      "12/12 [==============================] - 0s 6ms/step - loss: 0.1630 - accuracy: 0.9554 - val_loss: 0.1781 - val_accuracy: 0.9521\n",
      "Epoch 22/100\n",
      "12/12 [==============================] - 0s 6ms/step - loss: 0.1592 - accuracy: 0.9554 - val_loss: 0.1743 - val_accuracy: 0.9521\n",
      "Epoch 23/100\n",
      "12/12 [==============================] - 0s 7ms/step - loss: 0.1552 - accuracy: 0.9580 - val_loss: 0.1710 - val_accuracy: 0.9521\n",
      "Epoch 24/100\n",
      "12/12 [==============================] - 0s 5ms/step - loss: 0.1516 - accuracy: 0.9580 - val_loss: 0.1678 - val_accuracy: 0.9521\n",
      "Epoch 25/100\n",
      "12/12 [==============================] - 0s 5ms/step - loss: 0.1484 - accuracy: 0.9606 - val_loss: 0.1647 - val_accuracy: 0.9574\n",
      "Epoch 26/100\n",
      "12/12 [==============================] - 0s 5ms/step - loss: 0.1452 - accuracy: 0.9606 - val_loss: 0.1620 - val_accuracy: 0.9574\n",
      "Epoch 27/100\n",
      "12/12 [==============================] - 0s 6ms/step - loss: 0.1423 - accuracy: 0.9633 - val_loss: 0.1593 - val_accuracy: 0.9628\n",
      "Epoch 28/100\n",
      "12/12 [==============================] - 0s 5ms/step - loss: 0.1394 - accuracy: 0.9633 - val_loss: 0.1568 - val_accuracy: 0.9628\n",
      "Epoch 29/100\n",
      "12/12 [==============================] - 0s 5ms/step - loss: 0.1369 - accuracy: 0.9659 - val_loss: 0.1543 - val_accuracy: 0.9628\n",
      "Epoch 30/100\n",
      "12/12 [==============================] - 0s 6ms/step - loss: 0.1344 - accuracy: 0.9659 - val_loss: 0.1521 - val_accuracy: 0.9681\n",
      "Epoch 31/100\n",
      "12/12 [==============================] - 0s 5ms/step - loss: 0.1320 - accuracy: 0.9659 - val_loss: 0.1499 - val_accuracy: 0.9681\n",
      "Epoch 32/100\n",
      "12/12 [==============================] - 0s 6ms/step - loss: 0.1299 - accuracy: 0.9685 - val_loss: 0.1479 - val_accuracy: 0.9734\n",
      "Epoch 33/100\n",
      "12/12 [==============================] - 0s 6ms/step - loss: 0.1277 - accuracy: 0.9685 - val_loss: 0.1460 - val_accuracy: 0.9734\n",
      "Epoch 34/100\n",
      "12/12 [==============================] - 0s 5ms/step - loss: 0.1258 - accuracy: 0.9685 - val_loss: 0.1441 - val_accuracy: 0.9734\n",
      "Epoch 35/100\n",
      "12/12 [==============================] - 0s 5ms/step - loss: 0.1238 - accuracy: 0.9685 - val_loss: 0.1423 - val_accuracy: 0.9734\n",
      "Epoch 36/100\n",
      "12/12 [==============================] - 0s 6ms/step - loss: 0.1220 - accuracy: 0.9685 - val_loss: 0.1407 - val_accuracy: 0.9734\n",
      "Epoch 37/100\n",
      "12/12 [==============================] - 0s 5ms/step - loss: 0.1203 - accuracy: 0.9711 - val_loss: 0.1390 - val_accuracy: 0.9734\n",
      "Epoch 38/100\n",
      "12/12 [==============================] - 0s 6ms/step - loss: 0.1186 - accuracy: 0.9738 - val_loss: 0.1375 - val_accuracy: 0.9734\n",
      "Epoch 39/100\n",
      "12/12 [==============================] - 0s 6ms/step - loss: 0.1170 - accuracy: 0.9738 - val_loss: 0.1361 - val_accuracy: 0.9734\n",
      "Epoch 40/100\n",
      "12/12 [==============================] - 0s 6ms/step - loss: 0.1155 - accuracy: 0.9738 - val_loss: 0.1347 - val_accuracy: 0.9787\n",
      "Epoch 41/100\n",
      "12/12 [==============================] - 0s 5ms/step - loss: 0.1141 - accuracy: 0.9738 - val_loss: 0.1334 - val_accuracy: 0.9734\n",
      "Epoch 42/100\n",
      "12/12 [==============================] - 0s 5ms/step - loss: 0.1127 - accuracy: 0.9738 - val_loss: 0.1322 - val_accuracy: 0.9734\n",
      "Epoch 43/100\n",
      "12/12 [==============================] - 0s 5ms/step - loss: 0.1113 - accuracy: 0.9738 - val_loss: 0.1310 - val_accuracy: 0.9734\n",
      "Epoch 44/100\n",
      "12/12 [==============================] - 0s 7ms/step - loss: 0.1100 - accuracy: 0.9738 - val_loss: 0.1297 - val_accuracy: 0.9734\n",
      "Epoch 45/100\n",
      "12/12 [==============================] - 0s 6ms/step - loss: 0.1088 - accuracy: 0.9738 - val_loss: 0.1286 - val_accuracy: 0.9734\n",
      "Epoch 46/100\n",
      "12/12 [==============================] - 0s 7ms/step - loss: 0.1076 - accuracy: 0.9764 - val_loss: 0.1274 - val_accuracy: 0.9734\n",
      "Epoch 47/100\n",
      "12/12 [==============================] - 0s 7ms/step - loss: 0.1065 - accuracy: 0.9764 - val_loss: 0.1264 - val_accuracy: 0.9734\n",
      "Epoch 48/100\n",
      "12/12 [==============================] - 0s 8ms/step - loss: 0.1053 - accuracy: 0.9790 - val_loss: 0.1254 - val_accuracy: 0.9734\n",
      "Epoch 49/100\n",
      "12/12 [==============================] - 0s 6ms/step - loss: 0.1042 - accuracy: 0.9790 - val_loss: 0.1244 - val_accuracy: 0.9734\n",
      "Epoch 50/100\n",
      "12/12 [==============================] - 0s 7ms/step - loss: 0.1032 - accuracy: 0.9790 - val_loss: 0.1235 - val_accuracy: 0.9734\n",
      "Epoch 51/100\n",
      "12/12 [==============================] - 0s 5ms/step - loss: 0.1023 - accuracy: 0.9790 - val_loss: 0.1226 - val_accuracy: 0.9681\n",
      "Epoch 52/100\n",
      "12/12 [==============================] - 0s 6ms/step - loss: 0.1012 - accuracy: 0.9790 - val_loss: 0.1217 - val_accuracy: 0.9681\n",
      "Epoch 53/100\n",
      "12/12 [==============================] - 0s 6ms/step - loss: 0.1003 - accuracy: 0.9790 - val_loss: 0.1209 - val_accuracy: 0.9681\n",
      "Epoch 54/100\n",
      "12/12 [==============================] - 0s 5ms/step - loss: 0.0993 - accuracy: 0.9790 - val_loss: 0.1201 - val_accuracy: 0.9681\n",
      "Epoch 55/100\n",
      "12/12 [==============================] - 0s 5ms/step - loss: 0.0985 - accuracy: 0.9790 - val_loss: 0.1193 - val_accuracy: 0.9681\n",
      "Epoch 56/100\n",
      "12/12 [==============================] - 0s 5ms/step - loss: 0.0976 - accuracy: 0.9790 - val_loss: 0.1186 - val_accuracy: 0.9681\n",
      "Epoch 57/100\n",
      "12/12 [==============================] - 0s 5ms/step - loss: 0.0968 - accuracy: 0.9790 - val_loss: 0.1178 - val_accuracy: 0.9681\n",
      "Epoch 58/100\n",
      "12/12 [==============================] - 0s 5ms/step - loss: 0.0960 - accuracy: 0.9790 - val_loss: 0.1171 - val_accuracy: 0.9681\n",
      "Epoch 59/100\n",
      "12/12 [==============================] - 0s 6ms/step - loss: 0.0952 - accuracy: 0.9790 - val_loss: 0.1165 - val_accuracy: 0.9681\n",
      "Epoch 60/100\n",
      "12/12 [==============================] - 0s 6ms/step - loss: 0.0944 - accuracy: 0.9790 - val_loss: 0.1158 - val_accuracy: 0.9681\n",
      "Epoch 61/100\n",
      "12/12 [==============================] - 0s 6ms/step - loss: 0.0936 - accuracy: 0.9790 - val_loss: 0.1152 - val_accuracy: 0.9681\n",
      "Epoch 62/100\n",
      "12/12 [==============================] - 0s 5ms/step - loss: 0.0930 - accuracy: 0.9816 - val_loss: 0.1146 - val_accuracy: 0.9681\n",
      "Epoch 63/100\n",
      "12/12 [==============================] - 0s 5ms/step - loss: 0.0922 - accuracy: 0.9816 - val_loss: 0.1139 - val_accuracy: 0.9681\n",
      "Epoch 64/100\n",
      "12/12 [==============================] - 0s 5ms/step - loss: 0.0916 - accuracy: 0.9816 - val_loss: 0.1134 - val_accuracy: 0.9681\n",
      "Epoch 65/100\n",
      "12/12 [==============================] - 0s 5ms/step - loss: 0.0909 - accuracy: 0.9843 - val_loss: 0.1127 - val_accuracy: 0.9681\n",
      "Epoch 66/100\n",
      "12/12 [==============================] - 0s 5ms/step - loss: 0.0902 - accuracy: 0.9869 - val_loss: 0.1122 - val_accuracy: 0.9681\n",
      "Epoch 67/100\n",
      "12/12 [==============================] - 0s 5ms/step - loss: 0.0896 - accuracy: 0.9869 - val_loss: 0.1117 - val_accuracy: 0.9681\n",
      "Epoch 68/100\n",
      "12/12 [==============================] - 0s 6ms/step - loss: 0.0890 - accuracy: 0.9895 - val_loss: 0.1114 - val_accuracy: 0.9681\n",
      "Epoch 69/100\n",
      "12/12 [==============================] - 0s 5ms/step - loss: 0.0883 - accuracy: 0.9895 - val_loss: 0.1108 - val_accuracy: 0.9681\n",
      "Epoch 70/100\n",
      "12/12 [==============================] - 0s 5ms/step - loss: 0.0877 - accuracy: 0.9895 - val_loss: 0.1103 - val_accuracy: 0.9681\n",
      "Epoch 71/100\n",
      "12/12 [==============================] - 0s 5ms/step - loss: 0.0872 - accuracy: 0.9895 - val_loss: 0.1098 - val_accuracy: 0.9681\n",
      "Epoch 72/100\n",
      "12/12 [==============================] - 0s 5ms/step - loss: 0.0866 - accuracy: 0.9895 - val_loss: 0.1094 - val_accuracy: 0.9681\n",
      "Epoch 73/100\n",
      "12/12 [==============================] - 0s 5ms/step - loss: 0.0861 - accuracy: 0.9895 - val_loss: 0.1090 - val_accuracy: 0.9681\n",
      "Epoch 74/100\n",
      "12/12 [==============================] - 0s 5ms/step - loss: 0.0855 - accuracy: 0.9895 - val_loss: 0.1085 - val_accuracy: 0.9681\n",
      "Epoch 75/100\n",
      "12/12 [==============================] - 0s 5ms/step - loss: 0.0850 - accuracy: 0.9895 - val_loss: 0.1082 - val_accuracy: 0.9681\n",
      "Epoch 76/100\n",
      "12/12 [==============================] - 0s 5ms/step - loss: 0.0845 - accuracy: 0.9895 - val_loss: 0.1079 - val_accuracy: 0.9681\n",
      "Epoch 77/100\n",
      "12/12 [==============================] - 0s 5ms/step - loss: 0.0840 - accuracy: 0.9895 - val_loss: 0.1075 - val_accuracy: 0.9681\n",
      "Epoch 78/100\n",
      "12/12 [==============================] - 0s 6ms/step - loss: 0.0834 - accuracy: 0.9895 - val_loss: 0.1071 - val_accuracy: 0.9681\n",
      "Epoch 79/100\n",
      "12/12 [==============================] - 0s 5ms/step - loss: 0.0830 - accuracy: 0.9895 - val_loss: 0.1066 - val_accuracy: 0.9681\n",
      "Epoch 80/100\n",
      "12/12 [==============================] - 0s 6ms/step - loss: 0.0825 - accuracy: 0.9895 - val_loss: 0.1063 - val_accuracy: 0.9681\n",
      "Epoch 81/100\n",
      "12/12 [==============================] - 0s 5ms/step - loss: 0.0820 - accuracy: 0.9895 - val_loss: 0.1059 - val_accuracy: 0.9681\n",
      "Epoch 82/100\n",
      "12/12 [==============================] - 0s 5ms/step - loss: 0.0815 - accuracy: 0.9895 - val_loss: 0.1057 - val_accuracy: 0.9681\n",
      "Epoch 83/100\n",
      "12/12 [==============================] - 0s 5ms/step - loss: 0.0811 - accuracy: 0.9895 - val_loss: 0.1053 - val_accuracy: 0.9681\n",
      "Epoch 84/100\n",
      "12/12 [==============================] - 0s 5ms/step - loss: 0.0807 - accuracy: 0.9895 - val_loss: 0.1051 - val_accuracy: 0.9681\n",
      "Epoch 85/100\n",
      "12/12 [==============================] - 0s 5ms/step - loss: 0.0802 - accuracy: 0.9895 - val_loss: 0.1048 - val_accuracy: 0.9681\n",
      "Epoch 86/100\n",
      "12/12 [==============================] - 0s 5ms/step - loss: 0.0798 - accuracy: 0.9895 - val_loss: 0.1045 - val_accuracy: 0.9681\n",
      "Epoch 87/100\n",
      "12/12 [==============================] - 0s 5ms/step - loss: 0.0794 - accuracy: 0.9895 - val_loss: 0.1041 - val_accuracy: 0.9681\n",
      "Epoch 88/100\n",
      "12/12 [==============================] - 0s 5ms/step - loss: 0.0790 - accuracy: 0.9895 - val_loss: 0.1040 - val_accuracy: 0.9681\n",
      "Epoch 89/100\n",
      "12/12 [==============================] - 0s 5ms/step - loss: 0.0786 - accuracy: 0.9895 - val_loss: 0.1037 - val_accuracy: 0.9681\n",
      "Epoch 90/100\n",
      "12/12 [==============================] - 0s 6ms/step - loss: 0.0782 - accuracy: 0.9895 - val_loss: 0.1034 - val_accuracy: 0.9681\n",
      "Epoch 91/100\n",
      "12/12 [==============================] - 0s 6ms/step - loss: 0.0778 - accuracy: 0.9895 - val_loss: 0.1031 - val_accuracy: 0.9681\n",
      "Epoch 92/100\n",
      "12/12 [==============================] - 0s 5ms/step - loss: 0.0774 - accuracy: 0.9895 - val_loss: 0.1029 - val_accuracy: 0.9681\n",
      "Epoch 93/100\n",
      "12/12 [==============================] - 0s 5ms/step - loss: 0.0770 - accuracy: 0.9895 - val_loss: 0.1027 - val_accuracy: 0.9681\n",
      "Epoch 94/100\n",
      "12/12 [==============================] - 0s 5ms/step - loss: 0.0767 - accuracy: 0.9895 - val_loss: 0.1024 - val_accuracy: 0.9681\n",
      "Epoch 95/100\n",
      "12/12 [==============================] - 0s 5ms/step - loss: 0.0763 - accuracy: 0.9895 - val_loss: 0.1023 - val_accuracy: 0.9681\n",
      "Epoch 96/100\n",
      "12/12 [==============================] - 0s 6ms/step - loss: 0.0759 - accuracy: 0.9895 - val_loss: 0.1021 - val_accuracy: 0.9681\n",
      "Epoch 97/100\n",
      "12/12 [==============================] - 0s 5ms/step - loss: 0.0756 - accuracy: 0.9895 - val_loss: 0.1019 - val_accuracy: 0.9681\n",
      "Epoch 98/100\n",
      "12/12 [==============================] - 0s 5ms/step - loss: 0.0752 - accuracy: 0.9895 - val_loss: 0.1018 - val_accuracy: 0.9681\n",
      "Epoch 99/100\n",
      "12/12 [==============================] - 0s 6ms/step - loss: 0.0749 - accuracy: 0.9895 - val_loss: 0.1015 - val_accuracy: 0.9681\n",
      "Epoch 100/100\n",
      "12/12 [==============================] - 0s 6ms/step - loss: 0.0746 - accuracy: 0.9895 - val_loss: 0.1014 - val_accuracy: 0.9681\n"
     ]
    }
   ],
   "source": [
    "r = model.fit(X_train, y_train, validation_data=(X_test, y_test), epochs=100)"
   ]
  },
  {
   "cell_type": "code",
   "execution_count": 15,
   "id": "e2764e04",
   "metadata": {
    "execution": {
     "iopub.execute_input": "2023-10-14T21:57:42.685384Z",
     "iopub.status.busy": "2023-10-14T21:57:42.684900Z",
     "iopub.status.idle": "2023-10-14T21:57:42.877238Z",
     "shell.execute_reply": "2023-10-14T21:57:42.876019Z"
    },
    "papermill": {
     "duration": 0.217241,
     "end_time": "2023-10-14T21:57:42.879405",
     "exception": false,
     "start_time": "2023-10-14T21:57:42.662164",
     "status": "completed"
    },
    "tags": []
   },
   "outputs": [
    {
     "name": "stdout",
     "output_type": "stream",
     "text": [
      "12/12 [==============================] - 0s 2ms/step - loss: 0.0743 - accuracy: 0.9895\n",
      "train val [0.07434443384408951, 0.9895012974739075]\n",
      "6/6 [==============================] - 0s 2ms/step - loss: 0.1014 - accuracy: 0.9681\n",
      "test val [0.10138680785894394, 0.9680851101875305]\n"
     ]
    }
   ],
   "source": [
    "print(\"train val\", model.evaluate(X_train, y_train))\n",
    "print(\"test val\", model.evaluate(X_test, y_test))"
   ]
  },
  {
   "cell_type": "code",
   "execution_count": 16,
   "id": "316a0d3d",
   "metadata": {
    "execution": {
     "iopub.execute_input": "2023-10-14T21:57:42.926500Z",
     "iopub.status.busy": "2023-10-14T21:57:42.925250Z",
     "iopub.status.idle": "2023-10-14T21:57:43.229960Z",
     "shell.execute_reply": "2023-10-14T21:57:43.228828Z"
    },
    "papermill": {
     "duration": 0.331169,
     "end_time": "2023-10-14T21:57:43.232979",
     "exception": false,
     "start_time": "2023-10-14T21:57:42.901810",
     "status": "completed"
    },
    "tags": []
   },
   "outputs": [
    {
     "data": {
      "text/plain": [
       "[<matplotlib.lines.Line2D at 0x7ac59032d690>]"
      ]
     },
     "execution_count": 16,
     "metadata": {},
     "output_type": "execute_result"
    },
    {
     "data": {
      "image/png": "[encoded data removed]",
      "text/plain": [
       "<Figure size 640x480 with 1 Axes>"
      ]
     },
     "metadata": {},
     "output_type": "display_data"
    }
   ],
   "source": [
    "import matplotlib.pyplot as plt\n",
    "\n",
    "plt.plot(r.history[\"loss\"])\n",
    "plt.plot(r.history[\"val_loss\"])"
   ]
  },
  {
   "cell_type": "code",
   "execution_count": 17,
   "id": "a18f9cbd",
   "metadata": {
    "execution": {
     "iopub.execute_input": "2023-10-14T21:57:43.278685Z",
     "iopub.status.busy": "2023-10-14T21:57:43.277502Z",
     "iopub.status.idle": "2023-10-14T21:57:43.522801Z",
     "shell.execute_reply": "2023-10-14T21:57:43.521140Z"
    },
    "papermill": {
     "duration": 0.270942,
     "end_time": "2023-10-14T21:57:43.525427",
     "exception": false,
     "start_time": "2023-10-14T21:57:43.254485",
     "status": "completed"
    },
    "tags": []
   },
   "outputs": [
    {
     "data": {
      "text/plain": [
       "<matplotlib.legend.Legend at 0x7ac59032ffd0>"
      ]
     },
     "execution_count": 17,
     "metadata": {},
     "output_type": "execute_result"
    },
    {
     "data": {
      "image/png": "[encoded data removed]",
      "text/plain": [
       "<Figure size 640x480 with 1 Axes>"
      ]
     },
     "metadata": {},
     "output_type": "display_data"
    }
   ],
   "source": [
    "plt.plot(r.history[\"accuracy\"], label=\"accuracy\")\n",
    "plt.plot(r.history[\"val_accuracy\"], label=\"val_accuracy\")\n",
    "plt.legend()"
   ]
  },
  {
   "cell_type": "markdown",
   "id": "1adc73d2",
   "metadata": {
    "papermill": {
     "duration": 0.023412,
     "end_time": "2023-10-14T21:57:43.571842",
     "exception": false,
     "start_time": "2023-10-14T21:57:43.548430",
     "status": "completed"
    },
    "tags": []
   },
   "source": [
    "# ***predict***"
   ]
  },
  {
   "cell_type": "code",
   "execution_count": 18,
   "id": "01274b28",
   "metadata": {
    "execution": {
     "iopub.execute_input": "2023-10-14T21:57:43.621528Z",
     "iopub.status.busy": "2023-10-14T21:57:43.621064Z",
     "iopub.status.idle": "2023-10-14T21:57:43.898016Z",
     "shell.execute_reply": "2023-10-14T21:57:43.896777Z"
    },
    "papermill": {
     "duration": 0.304729,
     "end_time": "2023-10-14T21:57:43.900595",
     "exception": false,
     "start_time": "2023-10-14T21:57:43.595866",
     "status": "completed"
    },
    "tags": []
   },
   "outputs": [
    {
     "name": "stdout",
     "output_type": "stream",
     "text": [
      "6/6 [==============================] - 0s 2ms/step\n",
      "manual val 0.9680851063829787\n",
      "6/6 [==============================] - 0s 2ms/step - loss: 0.1014 - accuracy: 0.9681\n",
      "val [0.10138680785894394, 0.9680851101875305]\n"
     ]
    }
   ],
   "source": [
    "import numpy as np\n",
    "p = model.predict(X_test)\n",
    "p = np.round(p).flatten()\n",
    "\n",
    "print('manual val', np.mean(p == y_test))\n",
    "print('val', model.evaluate(X_test, y_test))"
   ]
  },
  {
   "cell_type": "markdown",
   "id": "934e5b64",
   "metadata": {
    "papermill": {
     "duration": 0.021926,
     "end_time": "2023-10-14T21:57:43.945821",
     "exception": false,
     "start_time": "2023-10-14T21:57:43.923895",
     "status": "completed"
    },
    "tags": []
   },
   "source": [
    "# ***save the model***"
   ]
  },
  {
   "cell_type": "code",
   "execution_count": 19,
   "id": "865539b1",
   "metadata": {
    "execution": {
     "iopub.execute_input": "2023-10-14T21:57:43.994902Z",
     "iopub.status.busy": "2023-10-14T21:57:43.994387Z",
     "iopub.status.idle": "2023-10-14T21:57:44.022175Z",
     "shell.execute_reply": "2023-10-14T21:57:44.020758Z"
    },
    "papermill": {
     "duration": 0.055864,
     "end_time": "2023-10-14T21:57:44.024951",
     "exception": false,
     "start_time": "2023-10-14T21:57:43.969087",
     "status": "completed"
    },
    "tags": []
   },
   "outputs": [],
   "source": [
    "model.save(\"breast_cancer_classif_tenserFlow.h5\")"
   ]
  },
  {
   "cell_type": "code",
   "execution_count": 20,
   "id": "d7ca64ce",
   "metadata": {
    "execution": {
     "iopub.execute_input": "2023-10-14T21:57:44.168824Z",
     "iopub.status.busy": "2023-10-14T21:57:44.168405Z",
     "iopub.status.idle": "2023-10-14T21:57:44.173302Z",
     "shell.execute_reply": "2023-10-14T21:57:44.172280Z"
    },
    "papermill": {
     "duration": 0.032347,
     "end_time": "2023-10-14T21:57:44.175411",
     "exception": false,
     "start_time": "2023-10-14T21:57:44.143064",
     "status": "completed"
    },
    "tags": []
   },
   "outputs": [],
   "source": [
    "# m = tf.keras.models.load_model(\"breast_cancer_classif_tenserFlow.h5\")"
   ]
  }
 ],
 "metadata": {
  "kernelspec": {
   "display_name": "Python 3",
   "language": "python",
   "name": "python3"
  },
  "language_info": {
   "codemirror_mode": {
    "name": "ipython",
    "version": 3
   },
   "file_extension": ".py",
   "mimetype": "text/x-python",
   "name": "python",
   "nbconvert_exporter": "python",
   "pygments_lexer": "ipython3",
   "version": "3.10.12"
  },
  "papermill": {
   "default_parameters": {},
   "duration": 28.520334,
   "end_time": "2023-10-14T21:57:46.868962",
   "environment_variables": {},
   "exception": null,
   "input_path": "__notebook__.ipynb",
   "output_path": "__notebook__.ipynb",
   "parameters": {},
   "start_time": "2023-10-14T21:57:18.348628",
   "version": "2.4.0"
  }
 },
 "nbformat": 4,
 "nbformat_minor": 5
}
