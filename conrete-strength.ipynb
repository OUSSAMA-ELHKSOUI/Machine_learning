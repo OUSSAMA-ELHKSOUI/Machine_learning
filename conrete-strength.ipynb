{
 "cells": [
  {
   "cell_type": "code",
   "execution_count": 1,
   "id": "c59db132",
   "metadata": {
    "_cell_guid": "b1076dfc-b9ad-4769-8c92-a6c4dae69d19",
    "_uuid": "8f2839f25d086af736a60e9eeb907d3b93b6e0e5",
    "execution": {
     "iopub.execute_input": "2023-10-14T00:44:13.573521Z",
     "iopub.status.busy": "2023-10-14T00:44:13.572553Z",
     "iopub.status.idle": "2023-10-14T00:44:15.244282Z",
     "shell.execute_reply": "2023-10-14T00:44:15.243288Z"
    },
    "papermill": {
     "duration": 1.679503,
     "end_time": "2023-10-14T00:44:15.246651",
     "exception": false,
     "start_time": "2023-10-14T00:44:13.567148",
     "status": "completed"
    },
    "tags": []
   },
   "outputs": [],
   "source": [
    "# This Python 3 environment comes with many helpful analytics libraries installed\n",
    "# It is defined by the kaggle/python Docker image: https://github.com/kaggle/docker-python\n",
    "# For example, here's several helpful packages to load\n",
    "\n",
    "import numpy as np # linear algebra\n",
    "import pandas as pd # data processing, CSV file I/O (e.g. pd.read_csv)\n",
    "from sklearn.model_selection import train_test_split\n",
    "\n",
    "# Input data files are available in the read-only \"../input/\" directory\n",
    "# For example, running this (by clicking run or pressing Shift+Enter) will list all files under the input directory\n",
    "\n",
    "import os\n",
    "# for dirname, _, filenames in os.walk('/kaggle/input'):\n",
    "#     for filename in filenames:\n",
    "#         print(os.path.join(dirname, filename))\n",
    "\n",
    "# You can write up to 20GB to the current directory (/kaggle/working/) that gets preserved as output when you create a version using \"Save & Run All\" \n",
    "# You can also write temporary files to /kaggle/temp/, but they won't be saved outside of the current session"
   ]
  },
  {
   "cell_type": "code",
   "execution_count": 2,
   "id": "68d89958",
   "metadata": {
    "execution": {
     "iopub.execute_input": "2023-10-14T00:44:15.256631Z",
     "iopub.status.busy": "2023-10-14T00:44:15.256201Z",
     "iopub.status.idle": "2023-10-14T00:44:15.283914Z",
     "shell.execute_reply": "2023-10-14T00:44:15.282975Z"
    },
    "papermill": {
     "duration": 0.0348,
     "end_time": "2023-10-14T00:44:15.286505",
     "exception": false,
     "start_time": "2023-10-14T00:44:15.251705",
     "status": "completed"
    },
    "tags": []
   },
   "outputs": [],
   "source": [
    "concrete_data = pd.read_csv(\"/kaggle/input/regression-with-neural-networking/concrete_data.csv\")"
   ]
  },
  {
   "cell_type": "code",
   "execution_count": 3,
   "id": "9e31d6c6",
   "metadata": {
    "execution": {
     "iopub.execute_input": "2023-10-14T00:44:15.294530Z",
     "iopub.status.busy": "2023-10-14T00:44:15.294212Z",
     "iopub.status.idle": "2023-10-14T00:44:15.326366Z",
     "shell.execute_reply": "2023-10-14T00:44:15.325458Z"
    },
    "papermill": {
     "duration": 0.039003,
     "end_time": "2023-10-14T00:44:15.328828",
     "exception": false,
     "start_time": "2023-10-14T00:44:15.289825",
     "status": "completed"
    },
    "tags": []
   },
   "outputs": [
    {
     "name": "stdout",
     "output_type": "stream",
     "text": [
      "<class 'pandas.core.frame.DataFrame'>\n",
      "RangeIndex: 1030 entries, 0 to 1029\n",
      "Data columns (total 9 columns):\n",
      " #   Column              Non-Null Count  Dtype  \n",
      "---  ------              --------------  -----  \n",
      " 0   Cement              1030 non-null   float32\n",
      " 1   Blast Furnace Slag  1030 non-null   float32\n",
      " 2   Fly Ash             1030 non-null   float32\n",
      " 3   Water               1030 non-null   float32\n",
      " 4   Superplasticizer    1030 non-null   float32\n",
      " 5   Coarse Aggregate    1030 non-null   float32\n",
      " 6   Fine Aggregate      1030 non-null   float32\n",
      " 7   Age                 1030 non-null   float32\n",
      " 8   Strength            1030 non-null   float32\n",
      "dtypes: float32(9)\n",
      "memory usage: 36.3 KB\n"
     ]
    }
   ],
   "source": [
    "concrete_data_np = np.float32(concrete_data)\n",
    "concrete_data = pd.DataFrame(concrete_data_np, columns = concrete_data.columns)\n",
    "concrete_data.info()"
   ]
  },
  {
   "cell_type": "code",
   "execution_count": 4,
   "id": "d9005161",
   "metadata": {
    "execution": {
     "iopub.execute_input": "2023-10-14T00:44:15.336560Z",
     "iopub.status.busy": "2023-10-14T00:44:15.336219Z",
     "iopub.status.idle": "2023-10-14T00:44:15.376287Z",
     "shell.execute_reply": "2023-10-14T00:44:15.375563Z"
    },
    "papermill": {
     "duration": 0.046171,
     "end_time": "2023-10-14T00:44:15.378224",
     "exception": false,
     "start_time": "2023-10-14T00:44:15.332053",
     "status": "completed"
    },
    "tags": []
   },
   "outputs": [
    {
     "data": {
      "text/html": [
       "<div>\n",
       "<style scoped>\n",
       "    .dataframe tbody tr th:only-of-type {\n",
       "        vertical-align: middle;\n",
       "    }\n",
       "\n",
       "    .dataframe tbody tr th {\n",
       "        vertical-align: top;\n",
       "    }\n",
       "\n",
       "    .dataframe thead th {\n",
       "        text-align: right;\n",
       "    }\n",
       "</style>\n",
       "<table border=\"1\" class=\"dataframe\">\n",
       "  <thead>\n",
       "    <tr style=\"text-align: right;\">\n",
       "      <th></th>\n",
       "      <th>Cement</th>\n",
       "      <th>Blast Furnace Slag</th>\n",
       "      <th>Fly Ash</th>\n",
       "      <th>Water</th>\n",
       "      <th>Superplasticizer</th>\n",
       "      <th>Coarse Aggregate</th>\n",
       "      <th>Fine Aggregate</th>\n",
       "      <th>Age</th>\n",
       "      <th>Strength</th>\n",
       "    </tr>\n",
       "  </thead>\n",
       "  <tbody>\n",
       "    <tr>\n",
       "      <th>count</th>\n",
       "      <td>1030.000000</td>\n",
       "      <td>1030.000000</td>\n",
       "      <td>1030.000000</td>\n",
       "      <td>1030.000000</td>\n",
       "      <td>1030.000000</td>\n",
       "      <td>1030.000000</td>\n",
       "      <td>1030.000000</td>\n",
       "      <td>1030.000000</td>\n",
       "      <td>1030.000000</td>\n",
       "    </tr>\n",
       "    <tr>\n",
       "      <th>mean</th>\n",
       "      <td>281.167877</td>\n",
       "      <td>73.895828</td>\n",
       "      <td>54.188351</td>\n",
       "      <td>181.567276</td>\n",
       "      <td>6.204660</td>\n",
       "      <td>972.918945</td>\n",
       "      <td>773.580444</td>\n",
       "      <td>45.662136</td>\n",
       "      <td>35.817963</td>\n",
       "    </tr>\n",
       "    <tr>\n",
       "      <th>std</th>\n",
       "      <td>104.506363</td>\n",
       "      <td>86.279343</td>\n",
       "      <td>63.997002</td>\n",
       "      <td>21.354218</td>\n",
       "      <td>5.973842</td>\n",
       "      <td>77.753960</td>\n",
       "      <td>80.175980</td>\n",
       "      <td>63.169910</td>\n",
       "      <td>16.705742</td>\n",
       "    </tr>\n",
       "    <tr>\n",
       "      <th>min</th>\n",
       "      <td>102.000000</td>\n",
       "      <td>0.000000</td>\n",
       "      <td>0.000000</td>\n",
       "      <td>121.800003</td>\n",
       "      <td>0.000000</td>\n",
       "      <td>801.000000</td>\n",
       "      <td>594.000000</td>\n",
       "      <td>1.000000</td>\n",
       "      <td>2.330000</td>\n",
       "    </tr>\n",
       "    <tr>\n",
       "      <th>25%</th>\n",
       "      <td>192.375000</td>\n",
       "      <td>0.000000</td>\n",
       "      <td>0.000000</td>\n",
       "      <td>164.899994</td>\n",
       "      <td>0.000000</td>\n",
       "      <td>932.000000</td>\n",
       "      <td>730.950012</td>\n",
       "      <td>7.000000</td>\n",
       "      <td>23.710001</td>\n",
       "    </tr>\n",
       "    <tr>\n",
       "      <th>50%</th>\n",
       "      <td>272.899994</td>\n",
       "      <td>22.000000</td>\n",
       "      <td>0.000000</td>\n",
       "      <td>185.000000</td>\n",
       "      <td>6.400000</td>\n",
       "      <td>968.000000</td>\n",
       "      <td>779.500000</td>\n",
       "      <td>28.000000</td>\n",
       "      <td>34.445002</td>\n",
       "    </tr>\n",
       "    <tr>\n",
       "      <th>75%</th>\n",
       "      <td>350.000000</td>\n",
       "      <td>142.950001</td>\n",
       "      <td>118.300003</td>\n",
       "      <td>192.000000</td>\n",
       "      <td>10.200000</td>\n",
       "      <td>1029.400024</td>\n",
       "      <td>824.000000</td>\n",
       "      <td>56.000000</td>\n",
       "      <td>46.135000</td>\n",
       "    </tr>\n",
       "    <tr>\n",
       "      <th>max</th>\n",
       "      <td>540.000000</td>\n",
       "      <td>359.399994</td>\n",
       "      <td>200.100006</td>\n",
       "      <td>247.000000</td>\n",
       "      <td>32.200001</td>\n",
       "      <td>1145.000000</td>\n",
       "      <td>992.599976</td>\n",
       "      <td>365.000000</td>\n",
       "      <td>82.599998</td>\n",
       "    </tr>\n",
       "  </tbody>\n",
       "</table>\n",
       "</div>"
      ],
      "text/plain": [
       "            Cement  Blast Furnace Slag      Fly Ash        Water  \\\n",
       "count  1030.000000         1030.000000  1030.000000  1030.000000   \n",
       "mean    281.167877           73.895828    54.188351   181.567276   \n",
       "std     104.506363           86.279343    63.997002    21.354218   \n",
       "min     102.000000            0.000000     0.000000   121.800003   \n",
       "25%     192.375000            0.000000     0.000000   164.899994   \n",
       "50%     272.899994           22.000000     0.000000   185.000000   \n",
       "75%     350.000000          142.950001   118.300003   192.000000   \n",
       "max     540.000000          359.399994   200.100006   247.000000   \n",
       "\n",
       "       Superplasticizer  Coarse Aggregate  Fine Aggregate          Age  \\\n",
       "count       1030.000000       1030.000000     1030.000000  1030.000000   \n",
       "mean           6.204660        972.918945      773.580444    45.662136   \n",
       "std            5.973842         77.753960       80.175980    63.169910   \n",
       "min            0.000000        801.000000      594.000000     1.000000   \n",
       "25%            0.000000        932.000000      730.950012     7.000000   \n",
       "50%            6.400000        968.000000      779.500000    28.000000   \n",
       "75%           10.200000       1029.400024      824.000000    56.000000   \n",
       "max           32.200001       1145.000000      992.599976   365.000000   \n",
       "\n",
       "          Strength  \n",
       "count  1030.000000  \n",
       "mean     35.817963  \n",
       "std      16.705742  \n",
       "min       2.330000  \n",
       "25%      23.710001  \n",
       "50%      34.445002  \n",
       "75%      46.135000  \n",
       "max      82.599998  "
      ]
     },
     "execution_count": 4,
     "metadata": {},
     "output_type": "execute_result"
    }
   ],
   "source": [
    "concrete_data.describe()"
   ]
  },
  {
   "cell_type": "code",
   "execution_count": 5,
   "id": "0a9aaa3a",
   "metadata": {
    "execution": {
     "iopub.execute_input": "2023-10-14T00:44:15.386624Z",
     "iopub.status.busy": "2023-10-14T00:44:15.386272Z",
     "iopub.status.idle": "2023-10-14T00:44:18.083852Z",
     "shell.execute_reply": "2023-10-14T00:44:18.082930Z"
    },
    "papermill": {
     "duration": 2.704574,
     "end_time": "2023-10-14T00:44:18.086382",
     "exception": false,
     "start_time": "2023-10-14T00:44:15.381808",
     "status": "completed"
    },
    "tags": []
   },
   "outputs": [
    {
     "data": {
      "text/plain": [
       "array([[<Axes: title={'center': 'Cement'}>,\n",
       "        <Axes: title={'center': 'Blast Furnace Slag'}>,\n",
       "        <Axes: title={'center': 'Fly Ash'}>],\n",
       "       [<Axes: title={'center': 'Water'}>,\n",
       "        <Axes: title={'center': 'Superplasticizer'}>,\n",
       "        <Axes: title={'center': 'Coarse Aggregate'}>],\n",
       "       [<Axes: title={'center': 'Fine Aggregate'}>,\n",
       "        <Axes: title={'center': 'Age'}>,\n",
       "        <Axes: title={'center': 'Strength'}>]], dtype=object)"
      ]
     },
     "execution_count": 5,
     "metadata": {},
     "output_type": "execute_result"
    },
    {
     "data": {
      "image/png": "[encoded data removed]",
      "text/plain": [
       "<Figure size 2000x1500 with 9 Axes>"
      ]
     },
     "metadata": {},
     "output_type": "display_data"
    }
   ],
   "source": [
    "%matplotlib inline\n",
    "import matplotlib.pyplot as plt\n",
    "concrete_data.hist(bins=50, figsize=(20,15))"
   ]
  },
  {
   "cell_type": "code",
   "execution_count": 6,
   "id": "2ff64329",
   "metadata": {
    "execution": {
     "iopub.execute_input": "2023-10-14T00:44:18.098810Z",
     "iopub.status.busy": "2023-10-14T00:44:18.097759Z",
     "iopub.status.idle": "2023-10-14T00:44:18.102662Z",
     "shell.execute_reply": "2023-10-14T00:44:18.101971Z"
    },
    "papermill": {
     "duration": 0.01309,
     "end_time": "2023-10-14T00:44:18.104624",
     "exception": false,
     "start_time": "2023-10-14T00:44:18.091534",
     "status": "completed"
    },
    "tags": []
   },
   "outputs": [],
   "source": [
    "y = concrete_data['Strength']"
   ]
  },
  {
   "cell_type": "code",
   "execution_count": 7,
   "id": "451f9c2d",
   "metadata": {
    "execution": {
     "iopub.execute_input": "2023-10-14T00:44:18.116529Z",
     "iopub.status.busy": "2023-10-14T00:44:18.116030Z",
     "iopub.status.idle": "2023-10-14T00:44:18.123525Z",
     "shell.execute_reply": "2023-10-14T00:44:18.122877Z"
    },
    "papermill": {
     "duration": 0.01563,
     "end_time": "2023-10-14T00:44:18.125451",
     "exception": false,
     "start_time": "2023-10-14T00:44:18.109821",
     "status": "completed"
    },
    "tags": []
   },
   "outputs": [],
   "source": [
    "concrete_data.drop(\"Strength\", axis=1, inplace=True)"
   ]
  },
  {
   "cell_type": "code",
   "execution_count": 8,
   "id": "f16130c0",
   "metadata": {
    "collapsed": true,
    "execution": {
     "iopub.execute_input": "2023-10-14T00:44:18.137605Z",
     "iopub.status.busy": "2023-10-14T00:44:18.136913Z",
     "iopub.status.idle": "2023-10-14T00:44:18.153996Z",
     "shell.execute_reply": "2023-10-14T00:44:18.152961Z"
    },
    "jupyter": {
     "outputs_hidden": true
    },
    "papermill": {
     "duration": 0.025343,
     "end_time": "2023-10-14T00:44:18.156075",
     "exception": false,
     "start_time": "2023-10-14T00:44:18.130732",
     "status": "completed"
    },
    "tags": []
   },
   "outputs": [
    {
     "data": {
      "text/html": [
       "<div>\n",
       "<style scoped>\n",
       "    .dataframe tbody tr th:only-of-type {\n",
       "        vertical-align: middle;\n",
       "    }\n",
       "\n",
       "    .dataframe tbody tr th {\n",
       "        vertical-align: top;\n",
       "    }\n",
       "\n",
       "    .dataframe thead th {\n",
       "        text-align: right;\n",
       "    }\n",
       "</style>\n",
       "<table border=\"1\" class=\"dataframe\">\n",
       "  <thead>\n",
       "    <tr style=\"text-align: right;\">\n",
       "      <th></th>\n",
       "      <th>Cement</th>\n",
       "      <th>Blast Furnace Slag</th>\n",
       "      <th>Fly Ash</th>\n",
       "      <th>Water</th>\n",
       "      <th>Superplasticizer</th>\n",
       "      <th>Coarse Aggregate</th>\n",
       "      <th>Fine Aggregate</th>\n",
       "      <th>Age</th>\n",
       "    </tr>\n",
       "  </thead>\n",
       "  <tbody>\n",
       "    <tr>\n",
       "      <th>0</th>\n",
       "      <td>540.000000</td>\n",
       "      <td>0.000000</td>\n",
       "      <td>0.000000</td>\n",
       "      <td>162.000000</td>\n",
       "      <td>2.5</td>\n",
       "      <td>1040.000000</td>\n",
       "      <td>676.000000</td>\n",
       "      <td>28.0</td>\n",
       "    </tr>\n",
       "    <tr>\n",
       "      <th>1</th>\n",
       "      <td>540.000000</td>\n",
       "      <td>0.000000</td>\n",
       "      <td>0.000000</td>\n",
       "      <td>162.000000</td>\n",
       "      <td>2.5</td>\n",
       "      <td>1055.000000</td>\n",
       "      <td>676.000000</td>\n",
       "      <td>28.0</td>\n",
       "    </tr>\n",
       "    <tr>\n",
       "      <th>2</th>\n",
       "      <td>332.500000</td>\n",
       "      <td>142.500000</td>\n",
       "      <td>0.000000</td>\n",
       "      <td>228.000000</td>\n",
       "      <td>0.0</td>\n",
       "      <td>932.000000</td>\n",
       "      <td>594.000000</td>\n",
       "      <td>270.0</td>\n",
       "    </tr>\n",
       "    <tr>\n",
       "      <th>3</th>\n",
       "      <td>332.500000</td>\n",
       "      <td>142.500000</td>\n",
       "      <td>0.000000</td>\n",
       "      <td>228.000000</td>\n",
       "      <td>0.0</td>\n",
       "      <td>932.000000</td>\n",
       "      <td>594.000000</td>\n",
       "      <td>365.0</td>\n",
       "    </tr>\n",
       "    <tr>\n",
       "      <th>4</th>\n",
       "      <td>198.600006</td>\n",
       "      <td>132.399994</td>\n",
       "      <td>0.000000</td>\n",
       "      <td>192.000000</td>\n",
       "      <td>0.0</td>\n",
       "      <td>978.400024</td>\n",
       "      <td>825.500000</td>\n",
       "      <td>360.0</td>\n",
       "    </tr>\n",
       "    <tr>\n",
       "      <th>...</th>\n",
       "      <td>...</td>\n",
       "      <td>...</td>\n",
       "      <td>...</td>\n",
       "      <td>...</td>\n",
       "      <td>...</td>\n",
       "      <td>...</td>\n",
       "      <td>...</td>\n",
       "      <td>...</td>\n",
       "    </tr>\n",
       "    <tr>\n",
       "      <th>1025</th>\n",
       "      <td>276.399994</td>\n",
       "      <td>116.000000</td>\n",
       "      <td>90.300003</td>\n",
       "      <td>179.600006</td>\n",
       "      <td>8.9</td>\n",
       "      <td>870.099976</td>\n",
       "      <td>768.299988</td>\n",
       "      <td>28.0</td>\n",
       "    </tr>\n",
       "    <tr>\n",
       "      <th>1026</th>\n",
       "      <td>322.200012</td>\n",
       "      <td>0.000000</td>\n",
       "      <td>115.599998</td>\n",
       "      <td>196.000000</td>\n",
       "      <td>10.4</td>\n",
       "      <td>817.900024</td>\n",
       "      <td>813.400024</td>\n",
       "      <td>28.0</td>\n",
       "    </tr>\n",
       "    <tr>\n",
       "      <th>1027</th>\n",
       "      <td>148.500000</td>\n",
       "      <td>139.399994</td>\n",
       "      <td>108.599998</td>\n",
       "      <td>192.699997</td>\n",
       "      <td>6.1</td>\n",
       "      <td>892.400024</td>\n",
       "      <td>780.000000</td>\n",
       "      <td>28.0</td>\n",
       "    </tr>\n",
       "    <tr>\n",
       "      <th>1028</th>\n",
       "      <td>159.100006</td>\n",
       "      <td>186.699997</td>\n",
       "      <td>0.000000</td>\n",
       "      <td>175.600006</td>\n",
       "      <td>11.3</td>\n",
       "      <td>989.599976</td>\n",
       "      <td>788.900024</td>\n",
       "      <td>28.0</td>\n",
       "    </tr>\n",
       "    <tr>\n",
       "      <th>1029</th>\n",
       "      <td>260.899994</td>\n",
       "      <td>100.500000</td>\n",
       "      <td>78.300003</td>\n",
       "      <td>200.600006</td>\n",
       "      <td>8.6</td>\n",
       "      <td>864.500000</td>\n",
       "      <td>761.500000</td>\n",
       "      <td>28.0</td>\n",
       "    </tr>\n",
       "  </tbody>\n",
       "</table>\n",
       "<p>1030 rows × 8 columns</p>\n",
       "</div>"
      ],
      "text/plain": [
       "          Cement  Blast Furnace Slag     Fly Ash       Water  \\\n",
       "0     540.000000            0.000000    0.000000  162.000000   \n",
       "1     540.000000            0.000000    0.000000  162.000000   \n",
       "2     332.500000          142.500000    0.000000  228.000000   \n",
       "3     332.500000          142.500000    0.000000  228.000000   \n",
       "4     198.600006          132.399994    0.000000  192.000000   \n",
       "...          ...                 ...         ...         ...   \n",
       "1025  276.399994          116.000000   90.300003  179.600006   \n",
       "1026  322.200012            0.000000  115.599998  196.000000   \n",
       "1027  148.500000          139.399994  108.599998  192.699997   \n",
       "1028  159.100006          186.699997    0.000000  175.600006   \n",
       "1029  260.899994          100.500000   78.300003  200.600006   \n",
       "\n",
       "      Superplasticizer  Coarse Aggregate  Fine Aggregate    Age  \n",
       "0                  2.5       1040.000000      676.000000   28.0  \n",
       "1                  2.5       1055.000000      676.000000   28.0  \n",
       "2                  0.0        932.000000      594.000000  270.0  \n",
       "3                  0.0        932.000000      594.000000  365.0  \n",
       "4                  0.0        978.400024      825.500000  360.0  \n",
       "...                ...               ...             ...    ...  \n",
       "1025               8.9        870.099976      768.299988   28.0  \n",
       "1026              10.4        817.900024      813.400024   28.0  \n",
       "1027               6.1        892.400024      780.000000   28.0  \n",
       "1028              11.3        989.599976      788.900024   28.0  \n",
       "1029               8.6        864.500000      761.500000   28.0  \n",
       "\n",
       "[1030 rows x 8 columns]"
      ]
     },
     "execution_count": 8,
     "metadata": {},
     "output_type": "execute_result"
    }
   ],
   "source": [
    "concrete_data"
   ]
  },
  {
   "cell_type": "code",
   "execution_count": 9,
   "id": "dac44efb",
   "metadata": {
    "execution": {
     "iopub.execute_input": "2023-10-14T00:44:18.169043Z",
     "iopub.status.busy": "2023-10-14T00:44:18.168277Z",
     "iopub.status.idle": "2023-10-14T00:44:18.174149Z",
     "shell.execute_reply": "2023-10-14T00:44:18.173401Z"
    },
    "papermill": {
     "duration": 0.014229,
     "end_time": "2023-10-14T00:44:18.175809",
     "exception": false,
     "start_time": "2023-10-14T00:44:18.161580",
     "status": "completed"
    },
    "tags": []
   },
   "outputs": [],
   "source": [
    "X_train, X_test, y_train, y_test = train_test_split(\n",
    "    concrete_data, \n",
    "    y, \n",
    "    test_size=0.2, \n",
    "    shuffle=True,\n",
    "    random_state=42,\n",
    "    # stratify=y\n",
    ")"
   ]
  },
  {
   "cell_type": "code",
   "execution_count": 10,
   "id": "a5f2b6ca",
   "metadata": {
    "execution": {
     "iopub.execute_input": "2023-10-14T00:44:18.188471Z",
     "iopub.status.busy": "2023-10-14T00:44:18.187602Z",
     "iopub.status.idle": "2023-10-14T00:44:18.195871Z",
     "shell.execute_reply": "2023-10-14T00:44:18.194796Z"
    },
    "papermill": {
     "duration": 0.016871,
     "end_time": "2023-10-14T00:44:18.197980",
     "exception": false,
     "start_time": "2023-10-14T00:44:18.181109",
     "status": "completed"
    },
    "tags": []
   },
   "outputs": [],
   "source": [
    "corr_matrix = X_train.corr()"
   ]
  },
  {
   "cell_type": "code",
   "execution_count": 11,
   "id": "a65b37d7",
   "metadata": {
    "execution": {
     "iopub.execute_input": "2023-10-14T00:44:18.210453Z",
     "iopub.status.busy": "2023-10-14T00:44:18.210133Z",
     "iopub.status.idle": "2023-10-14T00:44:18.217489Z",
     "shell.execute_reply": "2023-10-14T00:44:18.216447Z"
    },
    "papermill": {
     "duration": 0.016055,
     "end_time": "2023-10-14T00:44:18.219519",
     "exception": false,
     "start_time": "2023-10-14T00:44:18.203464",
     "status": "completed"
    },
    "tags": []
   },
   "outputs": [
    {
     "data": {
      "text/plain": [
       "Superplasticizer      1.000000\n",
       "Fly Ash               0.365800\n",
       "Fine Aggregate        0.217674\n",
       "Cement                0.077144\n",
       "Blast Furnace Slag    0.055439\n",
       "Age                  -0.180280\n",
       "Coarse Aggregate     -0.263028\n",
       "Water                -0.653785\n",
       "Name: Superplasticizer, dtype: float64"
      ]
     },
     "execution_count": 11,
     "metadata": {},
     "output_type": "execute_result"
    }
   ],
   "source": [
    "corr_matrix[\"Superplasticizer\"].sort_values(ascending=False)"
   ]
  },
  {
   "cell_type": "code",
   "execution_count": null,
   "id": "289dcc48",
   "metadata": {
    "execution": {
     "iopub.execute_input": "2023-10-13T23:32:42.789780Z",
     "iopub.status.busy": "2023-10-13T23:32:42.789426Z",
     "iopub.status.idle": "2023-10-13T23:32:42.809280Z",
     "shell.execute_reply": "2023-10-13T23:32:42.807232Z",
     "shell.execute_reply.started": "2023-10-13T23:32:42.789759Z"
    },
    "papermill": {
     "duration": 0.00519,
     "end_time": "2023-10-14T00:44:18.230183",
     "exception": false,
     "start_time": "2023-10-14T00:44:18.224993",
     "status": "completed"
    },
    "tags": []
   },
   "outputs": [],
   "source": []
  }
 ],
 "metadata": {
  "kernelspec": {
   "display_name": "Python 3",
   "language": "python",
   "name": "python3"
  },
  "language_info": {
   "codemirror_mode": {
    "name": "ipython",
    "version": 3
   },
   "file_extension": ".py",
   "mimetype": "text/x-python",
   "name": "python",
   "nbconvert_exporter": "python",
   "pygments_lexer": "ipython3",
   "version": "3.10.12"
  },
  "papermill": {
   "default_parameters": {},
   "duration": 8.411723,
   "end_time": "2023-10-14T00:44:18.855282",
   "environment_variables": {},
   "exception": null,
   "input_path": "__notebook__.ipynb",
   "output_path": "__notebook__.ipynb",
   "parameters": {},
   "start_time": "2023-10-14T00:44:10.443559",
   "version": "2.4.0"
  }
 },
 "nbformat": 4,
 "nbformat_minor": 5
}
