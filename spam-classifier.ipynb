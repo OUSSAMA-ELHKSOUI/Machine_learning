{
 "cells": [
  {
   "cell_type": "code",
   "execution_count": 1,
   "id": "001a4a24",
   "metadata": {
    "_cell_guid": "b1076dfc-b9ad-4769-8c92-a6c4dae69d19",
    "_uuid": "8f2839f25d086af736a60e9eeb907d3b93b6e0e5",
    "execution": {
     "iopub.execute_input": "2023-07-18T16:58:48.008380Z",
     "iopub.status.busy": "2023-07-18T16:58:48.007773Z",
     "iopub.status.idle": "2023-07-18T16:58:49.390603Z",
     "shell.execute_reply": "2023-07-18T16:58:49.389206Z"
    },
    "papermill": {
     "duration": 1.399609,
     "end_time": "2023-07-18T16:58:49.394801",
     "exception": false,
     "start_time": "2023-07-18T16:58:47.995192",
     "status": "completed"
    },
    "tags": []
   },
   "outputs": [
    {
     "name": "stdout",
     "output_type": "stream",
     "text": [
      "/kaggle/input/spamassassin/Spam_data.csv\n"
     ]
    }
   ],
   "source": [
    "import numpy as np \n",
    "import pandas as pd \n",
    "import sklearn\n",
    "\n",
    "import os\n",
    "for dirname, _, filenames in os.walk('/kaggle/input/spamassassin'):\n",
    "    for filename in filenames:\n",
    "        print(os.path.join(dirname, filename))"
   ]
  },
  {
   "cell_type": "code",
   "execution_count": 2,
   "id": "894aef6f",
   "metadata": {
    "execution": {
     "iopub.execute_input": "2023-07-18T16:58:49.415979Z",
     "iopub.status.busy": "2023-07-18T16:58:49.415397Z",
     "iopub.status.idle": "2023-07-18T16:58:49.942480Z",
     "shell.execute_reply": "2023-07-18T16:58:49.940704Z"
    },
    "papermill": {
     "duration": 0.542043,
     "end_time": "2023-07-18T16:58:49.946188",
     "exception": false,
     "start_time": "2023-07-18T16:58:49.404145",
     "status": "completed"
    },
    "tags": []
   },
   "outputs": [
    {
     "data": {
      "text/html": [
       "<div>\n",
       "<style scoped>\n",
       "    .dataframe tbody tr th:only-of-type {\n",
       "        vertical-align: middle;\n",
       "    }\n",
       "\n",
       "    .dataframe tbody tr th {\n",
       "        vertical-align: top;\n",
       "    }\n",
       "\n",
       "    .dataframe thead th {\n",
       "        text-align: right;\n",
       "    }\n",
       "</style>\n",
       "<table border=\"1\" class=\"dataframe\">\n",
       "  <thead>\n",
       "    <tr style=\"text-align: right;\">\n",
       "      <th></th>\n",
       "      <th>email</th>\n",
       "      <th>label</th>\n",
       "      <th>Subject</th>\n",
       "      <th>content</th>\n",
       "    </tr>\n",
       "  </thead>\n",
       "  <tbody>\n",
       "    <tr>\n",
       "      <th>0</th>\n",
       "      <td>b\"From fork-admin@xent.com  Tue Sep 17 18:42:3...</td>\n",
       "      <td>0.0</td>\n",
       "      <td>hanson' sept number messag nation review</td>\n",
       "      <td>chuck murcko wrote usual crud moron rant beat ...</td>\n",
       "    </tr>\n",
       "    <tr>\n",
       "      <th>1</th>\n",
       "      <td>b'From rssfeeds@jmason.org  Tue Sep 24 10:47:4...</td>\n",
       "      <td>0.0</td>\n",
       "      <td>gold lake mountain resort look pretti gooood m...</td>\n",
       "      <td>url number number amgold lake mountain look pr...</td>\n",
       "    </tr>\n",
       "    <tr>\n",
       "      <th>2</th>\n",
       "      <td>b'From rpm-list-admin@freshrpms.net  Mon Sep  ...</td>\n",
       "      <td>0.0</td>\n",
       "      <td>pleas help newbi compil mplayer</td>\n",
       "      <td>upon time rob wrote dl'd gccnumber still get e...</td>\n",
       "    </tr>\n",
       "    <tr>\n",
       "      <th>3</th>\n",
       "      <td>b'From exmh-workers-admin@redhat.com  Fri Aug ...</td>\n",
       "      <td>0.0</td>\n",
       "      <td>anolth sequenc relat traceback</td>\n",
       "      <td>date fri number aug number number number rober...</td>\n",
       "    </tr>\n",
       "    <tr>\n",
       "      <th>4</th>\n",
       "      <td>b\"From fork-admin@xent.com  Fri Aug 23 11:08:3...</td>\n",
       "      <td>0.0</td>\n",
       "      <td>NaN</td>\n",
       "      <td>appar quot dubya time sent blair' special geor...</td>\n",
       "    </tr>\n",
       "  </tbody>\n",
       "</table>\n",
       "</div>"
      ],
      "text/plain": [
       "                                               email  label  \\\n",
       "0  b\"From fork-admin@xent.com  Tue Sep 17 18:42:3...    0.0   \n",
       "1  b'From rssfeeds@jmason.org  Tue Sep 24 10:47:4...    0.0   \n",
       "2  b'From rpm-list-admin@freshrpms.net  Mon Sep  ...    0.0   \n",
       "3  b'From exmh-workers-admin@redhat.com  Fri Aug ...    0.0   \n",
       "4  b\"From fork-admin@xent.com  Fri Aug 23 11:08:3...    0.0   \n",
       "\n",
       "                                             Subject  \\\n",
       "0           hanson' sept number messag nation review   \n",
       "1  gold lake mountain resort look pretti gooood m...   \n",
       "2                    pleas help newbi compil mplayer   \n",
       "3                     anolth sequenc relat traceback   \n",
       "4                                                NaN   \n",
       "\n",
       "                                             content  \n",
       "0  chuck murcko wrote usual crud moron rant beat ...  \n",
       "1  url number number amgold lake mountain look pr...  \n",
       "2  upon time rob wrote dl'd gccnumber still get e...  \n",
       "3  date fri number aug number number number rober...  \n",
       "4  appar quot dubya time sent blair' special geor...  "
      ]
     },
     "execution_count": 2,
     "metadata": {},
     "output_type": "execute_result"
    }
   ],
   "source": [
    "data = pd.read_csv(os.path.join(dirname, filename))\n",
    "data.head()"
   ]
  },
  {
   "cell_type": "code",
   "execution_count": 3,
   "id": "91b9b275",
   "metadata": {
    "execution": {
     "iopub.execute_input": "2023-07-18T16:58:49.967525Z",
     "iopub.status.busy": "2023-07-18T16:58:49.966995Z",
     "iopub.status.idle": "2023-07-18T16:58:50.002188Z",
     "shell.execute_reply": "2023-07-18T16:58:50.000347Z"
    },
    "papermill": {
     "duration": 0.050653,
     "end_time": "2023-07-18T16:58:50.006163",
     "exception": false,
     "start_time": "2023-07-18T16:58:49.955510",
     "status": "completed"
    },
    "tags": []
   },
   "outputs": [
    {
     "name": "stdout",
     "output_type": "stream",
     "text": [
      "<class 'pandas.core.frame.DataFrame'>\n",
      "RangeIndex: 3063 entries, 0 to 3062\n",
      "Data columns (total 4 columns):\n",
      " #   Column   Non-Null Count  Dtype  \n",
      "---  ------   --------------  -----  \n",
      " 0   email    3063 non-null   object \n",
      " 1   label    3063 non-null   float64\n",
      " 2   Subject  3008 non-null   object \n",
      " 3   content  3059 non-null   object \n",
      "dtypes: float64(1), object(3)\n",
      "memory usage: 95.8+ KB\n"
     ]
    }
   ],
   "source": [
    "data.info()"
   ]
  },
  {
   "cell_type": "code",
   "execution_count": 4,
   "id": "7032308b",
   "metadata": {
    "execution": {
     "iopub.execute_input": "2023-07-18T16:58:50.027571Z",
     "iopub.status.busy": "2023-07-18T16:58:50.026999Z",
     "iopub.status.idle": "2023-07-18T16:58:50.042796Z",
     "shell.execute_reply": "2023-07-18T16:58:50.041081Z"
    },
    "papermill": {
     "duration": 0.031338,
     "end_time": "2023-07-18T16:58:50.046566",
     "exception": false,
     "start_time": "2023-07-18T16:58:50.015228",
     "status": "completed"
    },
    "tags": []
   },
   "outputs": [
    {
     "data": {
      "text/plain": [
       "0.0    2659\n",
       "1.0     404\n",
       "Name: label, dtype: int64"
      ]
     },
     "execution_count": 4,
     "metadata": {},
     "output_type": "execute_result"
    }
   ],
   "source": [
    "data.label.value_counts()"
   ]
  },
  {
   "cell_type": "code",
   "execution_count": 5,
   "id": "4315b74c",
   "metadata": {
    "execution": {
     "iopub.execute_input": "2023-07-18T16:58:50.068077Z",
     "iopub.status.busy": "2023-07-18T16:58:50.067442Z",
     "iopub.status.idle": "2023-07-18T16:58:50.093585Z",
     "shell.execute_reply": "2023-07-18T16:58:50.092339Z"
    },
    "papermill": {
     "duration": 0.040637,
     "end_time": "2023-07-18T16:58:50.096774",
     "exception": false,
     "start_time": "2023-07-18T16:58:50.056137",
     "status": "completed"
    },
    "tags": []
   },
   "outputs": [
    {
     "data": {
      "text/html": [
       "<div>\n",
       "<style scoped>\n",
       "    .dataframe tbody tr th:only-of-type {\n",
       "        vertical-align: middle;\n",
       "    }\n",
       "\n",
       "    .dataframe tbody tr th {\n",
       "        vertical-align: top;\n",
       "    }\n",
       "\n",
       "    .dataframe thead th {\n",
       "        text-align: right;\n",
       "    }\n",
       "</style>\n",
       "<table border=\"1\" class=\"dataframe\">\n",
       "  <thead>\n",
       "    <tr style=\"text-align: right;\">\n",
       "      <th></th>\n",
       "      <th>label</th>\n",
       "    </tr>\n",
       "  </thead>\n",
       "  <tbody>\n",
       "    <tr>\n",
       "      <th>count</th>\n",
       "      <td>3063.000000</td>\n",
       "    </tr>\n",
       "    <tr>\n",
       "      <th>mean</th>\n",
       "      <td>0.131897</td>\n",
       "    </tr>\n",
       "    <tr>\n",
       "      <th>std</th>\n",
       "      <td>0.338434</td>\n",
       "    </tr>\n",
       "    <tr>\n",
       "      <th>min</th>\n",
       "      <td>0.000000</td>\n",
       "    </tr>\n",
       "    <tr>\n",
       "      <th>25%</th>\n",
       "      <td>0.000000</td>\n",
       "    </tr>\n",
       "    <tr>\n",
       "      <th>50%</th>\n",
       "      <td>0.000000</td>\n",
       "    </tr>\n",
       "    <tr>\n",
       "      <th>75%</th>\n",
       "      <td>0.000000</td>\n",
       "    </tr>\n",
       "    <tr>\n",
       "      <th>max</th>\n",
       "      <td>1.000000</td>\n",
       "    </tr>\n",
       "  </tbody>\n",
       "</table>\n",
       "</div>"
      ],
      "text/plain": [
       "             label\n",
       "count  3063.000000\n",
       "mean      0.131897\n",
       "std       0.338434\n",
       "min       0.000000\n",
       "25%       0.000000\n",
       "50%       0.000000\n",
       "75%       0.000000\n",
       "max       1.000000"
      ]
     },
     "execution_count": 5,
     "metadata": {},
     "output_type": "execute_result"
    }
   ],
   "source": [
    "data.describe()"
   ]
  },
  {
   "cell_type": "code",
   "execution_count": 6,
   "id": "1642acc9",
   "metadata": {
    "execution": {
     "iopub.execute_input": "2023-07-18T16:58:50.118821Z",
     "iopub.status.busy": "2023-07-18T16:58:50.118261Z",
     "iopub.status.idle": "2023-07-18T16:58:50.424807Z",
     "shell.execute_reply": "2023-07-18T16:58:50.423523Z"
    },
    "papermill": {
     "duration": 0.321612,
     "end_time": "2023-07-18T16:58:50.427827",
     "exception": false,
     "start_time": "2023-07-18T16:58:50.106215",
     "status": "completed"
    },
    "tags": []
   },
   "outputs": [
    {
     "data": {
      "text/plain": [
       "<AxesSubplot:>"
      ]
     },
     "execution_count": 6,
     "metadata": {},
     "output_type": "execute_result"
    },
    {
     "data": {
      "image/png": "[encoded data removed]",
      "text/plain": [
       "<Figure size 432x288 with 1 Axes>"
      ]
     },
     "metadata": {
      "needs_background": "light"
     },
     "output_type": "display_data"
    }
   ],
   "source": [
    "data.label.hist()"
   ]
  },
  {
   "cell_type": "code",
   "execution_count": 7,
   "id": "14b5b416",
   "metadata": {
    "execution": {
     "iopub.execute_input": "2023-07-18T16:58:50.451336Z",
     "iopub.status.busy": "2023-07-18T16:58:50.450422Z",
     "iopub.status.idle": "2023-07-18T16:58:50.575257Z",
     "shell.execute_reply": "2023-07-18T16:58:50.574017Z"
    },
    "papermill": {
     "duration": 0.140746,
     "end_time": "2023-07-18T16:58:50.578548",
     "exception": false,
     "start_time": "2023-07-18T16:58:50.437802",
     "status": "completed"
    },
    "tags": []
   },
   "outputs": [],
   "source": [
    "from sklearn.model_selection import StratifiedShuffleSplit\n",
    "\n",
    "split = StratifiedShuffleSplit(n_splits=1, test_size=0.2, random_state=42)\n",
    "\n",
    "for train_index, test_index in split.split(data, data.label):\n",
    "    strat_train_set = data.loc[train_index]\n",
    "    strat_test_set = data.loc[test_index]"
   ]
  },
  {
   "cell_type": "code",
   "execution_count": 8,
   "id": "2e5e2815",
   "metadata": {
    "execution": {
     "iopub.execute_input": "2023-07-18T16:58:50.601066Z",
     "iopub.status.busy": "2023-07-18T16:58:50.600259Z",
     "iopub.status.idle": "2023-07-18T16:58:50.622801Z",
     "shell.execute_reply": "2023-07-18T16:58:50.621001Z"
    },
    "papermill": {
     "duration": 0.037779,
     "end_time": "2023-07-18T16:58:50.626158",
     "exception": false,
     "start_time": "2023-07-18T16:58:50.588379",
     "status": "completed"
    },
    "tags": []
   },
   "outputs": [
    {
     "data": {
      "text/html": [
       "<div>\n",
       "<style scoped>\n",
       "    .dataframe tbody tr th:only-of-type {\n",
       "        vertical-align: middle;\n",
       "    }\n",
       "\n",
       "    .dataframe tbody tr th {\n",
       "        vertical-align: top;\n",
       "    }\n",
       "\n",
       "    .dataframe thead th {\n",
       "        text-align: right;\n",
       "    }\n",
       "</style>\n",
       "<table border=\"1\" class=\"dataframe\">\n",
       "  <thead>\n",
       "    <tr style=\"text-align: right;\">\n",
       "      <th></th>\n",
       "      <th>email</th>\n",
       "      <th>label</th>\n",
       "      <th>Subject</th>\n",
       "      <th>content</th>\n",
       "    </tr>\n",
       "  </thead>\n",
       "  <tbody>\n",
       "    <tr>\n",
       "      <th>2302</th>\n",
       "      <td>b\"From rssfeeds@jmason.org  Thu Oct  3 12:24:3...</td>\n",
       "      <td>0.0</td>\n",
       "      <td>vintag music archiv</td>\n",
       "      <td>url number hour radio station realaudio archiv...</td>\n",
       "    </tr>\n",
       "    <tr>\n",
       "      <th>682</th>\n",
       "      <td>b'From spamassassin-talk-admin@lists.sourcefor...</td>\n",
       "      <td>0.0</td>\n",
       "      <td>satalk compil error digit unix</td>\n",
       "      <td>hi i'm tri build sa digit unix numberf receiv ...</td>\n",
       "    </tr>\n",
       "    <tr>\n",
       "      <th>668</th>\n",
       "      <td>b'Return-Path: &lt;Online#3.20502.53-KAuEgBlRpyKZ...</td>\n",
       "      <td>0.0</td>\n",
       "      <td>olympu brio dnumber number megapixel digit cam...</td>\n",
       "      <td>weekli nametopa header tabl widthnumb valignto...</td>\n",
       "    </tr>\n",
       "    <tr>\n",
       "      <th>1226</th>\n",
       "      <td>b'From fork-admin@xent.com  Tue Sep 17 23:29:4...</td>\n",
       "      <td>0.0</td>\n",
       "      <td>slaughter name god</td>\n",
       "      <td>j justin mason jmjmasonorg write j tibetan bud...</td>\n",
       "    </tr>\n",
       "    <tr>\n",
       "      <th>1951</th>\n",
       "      <td>b'From rpm-list-admin@freshrpms.net  Wed Aug 2...</td>\n",
       "      <td>0.0</td>\n",
       "      <td>homedud</td>\n",
       "      <td>hisom time follow messag haunt attempt mount e...</td>\n",
       "    </tr>\n",
       "    <tr>\n",
       "      <th>...</th>\n",
       "      <td>...</td>\n",
       "      <td>...</td>\n",
       "      <td>...</td>\n",
       "      <td>...</td>\n",
       "    </tr>\n",
       "    <tr>\n",
       "      <th>2737</th>\n",
       "      <td>b'From exelle@webinfo.fi  Mon Sep 23 15:02:06 ...</td>\n",
       "      <td>1.0</td>\n",
       "      <td>home rep number comp hire</td>\n",
       "      <td>questiondo want differ jobdo want bossdo need ...</td>\n",
       "    </tr>\n",
       "    <tr>\n",
       "      <th>86</th>\n",
       "      <td>b'From sentto-2242572-55981-1034027969-zzzz=ex...</td>\n",
       "      <td>0.0</td>\n",
       "      <td>zzzzteana latest iraqrel news</td>\n",
       "      <td>headlin url bore y'all us republican reject ge...</td>\n",
       "    </tr>\n",
       "    <tr>\n",
       "      <th>1417</th>\n",
       "      <td>b'From fork-admin@xent.com  Sun Sep  8 23:50:3...</td>\n",
       "      <td>0.0</td>\n",
       "      <td>whoa</td>\n",
       "      <td>number number gari lawrenc murphi wrote j want...</td>\n",
       "    </tr>\n",
       "    <tr>\n",
       "      <th>1114</th>\n",
       "      <td>b\"From rssfeeds@jmason.org  Mon Sep 30 13:44:1...</td>\n",
       "      <td>0.0</td>\n",
       "      <td>linux softwar raid fun</td>\n",
       "      <td>url forgot write yesterday feel like forg blog...</td>\n",
       "    </tr>\n",
       "    <tr>\n",
       "      <th>834</th>\n",
       "      <td>b'From fork-admin@xent.com  Wed Oct  2 11:47:4...</td>\n",
       "      <td>0.0</td>\n",
       "      <td>miss one</td>\n",
       "      <td>wrote turn music industri settl quit hefti tho...</td>\n",
       "    </tr>\n",
       "  </tbody>\n",
       "</table>\n",
       "<p>2450 rows × 4 columns</p>\n",
       "</div>"
      ],
      "text/plain": [
       "                                                  email  label  \\\n",
       "2302  b\"From rssfeeds@jmason.org  Thu Oct  3 12:24:3...    0.0   \n",
       "682   b'From spamassassin-talk-admin@lists.sourcefor...    0.0   \n",
       "668   b'Return-Path: <Online#3.20502.53-KAuEgBlRpyKZ...    0.0   \n",
       "1226  b'From fork-admin@xent.com  Tue Sep 17 23:29:4...    0.0   \n",
       "1951  b'From rpm-list-admin@freshrpms.net  Wed Aug 2...    0.0   \n",
       "...                                                 ...    ...   \n",
       "2737  b'From exelle@webinfo.fi  Mon Sep 23 15:02:06 ...    1.0   \n",
       "86    b'From sentto-2242572-55981-1034027969-zzzz=ex...    0.0   \n",
       "1417  b'From fork-admin@xent.com  Sun Sep  8 23:50:3...    0.0   \n",
       "1114  b\"From rssfeeds@jmason.org  Mon Sep 30 13:44:1...    0.0   \n",
       "834   b'From fork-admin@xent.com  Wed Oct  2 11:47:4...    0.0   \n",
       "\n",
       "                                                Subject  \\\n",
       "2302                                vintag music archiv   \n",
       "682                      satalk compil error digit unix   \n",
       "668   olympu brio dnumber number megapixel digit cam...   \n",
       "1226                                 slaughter name god   \n",
       "1951                                            homedud   \n",
       "...                                                 ...   \n",
       "2737                          home rep number comp hire   \n",
       "86                        zzzzteana latest iraqrel news   \n",
       "1417                                               whoa   \n",
       "1114                             linux softwar raid fun   \n",
       "834                                            miss one   \n",
       "\n",
       "                                                content  \n",
       "2302  url number hour radio station realaudio archiv...  \n",
       "682   hi i'm tri build sa digit unix numberf receiv ...  \n",
       "668   weekli nametopa header tabl widthnumb valignto...  \n",
       "1226  j justin mason jmjmasonorg write j tibetan bud...  \n",
       "1951  hisom time follow messag haunt attempt mount e...  \n",
       "...                                                 ...  \n",
       "2737  questiondo want differ jobdo want bossdo need ...  \n",
       "86    headlin url bore y'all us republican reject ge...  \n",
       "1417  number number gari lawrenc murphi wrote j want...  \n",
       "1114  url forgot write yesterday feel like forg blog...  \n",
       "834   wrote turn music industri settl quit hefti tho...  \n",
       "\n",
       "[2450 rows x 4 columns]"
      ]
     },
     "execution_count": 8,
     "metadata": {},
     "output_type": "execute_result"
    }
   ],
   "source": [
    "strat_train_set"
   ]
  },
  {
   "cell_type": "code",
   "execution_count": 9,
   "id": "44027255",
   "metadata": {
    "execution": {
     "iopub.execute_input": "2023-07-18T16:58:50.649757Z",
     "iopub.status.busy": "2023-07-18T16:58:50.648859Z",
     "iopub.status.idle": "2023-07-18T16:58:50.661661Z",
     "shell.execute_reply": "2023-07-18T16:58:50.660136Z"
    },
    "papermill": {
     "duration": 0.028859,
     "end_time": "2023-07-18T16:58:50.665119",
     "exception": false,
     "start_time": "2023-07-18T16:58:50.636260",
     "status": "completed"
    },
    "tags": []
   },
   "outputs": [
    {
     "data": {
      "text/plain": [
       "0.0    2127\n",
       "1.0     323\n",
       "Name: label, dtype: int64"
      ]
     },
     "execution_count": 9,
     "metadata": {},
     "output_type": "execute_result"
    }
   ],
   "source": [
    "strat_train_set.label.value_counts()"
   ]
  },
  {
   "cell_type": "code",
   "execution_count": 10,
   "id": "3f41af33",
   "metadata": {
    "execution": {
     "iopub.execute_input": "2023-07-18T16:58:50.688049Z",
     "iopub.status.busy": "2023-07-18T16:58:50.687486Z",
     "iopub.status.idle": "2023-07-18T16:58:50.712531Z",
     "shell.execute_reply": "2023-07-18T16:58:50.710986Z"
    },
    "papermill": {
     "duration": 0.040235,
     "end_time": "2023-07-18T16:58:50.715779",
     "exception": false,
     "start_time": "2023-07-18T16:58:50.675544",
     "status": "completed"
    },
    "tags": []
   },
   "outputs": [
    {
     "data": {
      "text/html": [
       "<div>\n",
       "<style scoped>\n",
       "    .dataframe tbody tr th:only-of-type {\n",
       "        vertical-align: middle;\n",
       "    }\n",
       "\n",
       "    .dataframe tbody tr th {\n",
       "        vertical-align: top;\n",
       "    }\n",
       "\n",
       "    .dataframe thead th {\n",
       "        text-align: right;\n",
       "    }\n",
       "</style>\n",
       "<table border=\"1\" class=\"dataframe\">\n",
       "  <thead>\n",
       "    <tr style=\"text-align: right;\">\n",
       "      <th></th>\n",
       "      <th>label</th>\n",
       "      <th>label 0</th>\n",
       "      <th>label 1</th>\n",
       "    </tr>\n",
       "  </thead>\n",
       "  <tbody>\n",
       "    <tr>\n",
       "      <th>0.0</th>\n",
       "      <td>0.868103</td>\n",
       "      <td>0.868163</td>\n",
       "      <td>0.867863</td>\n",
       "    </tr>\n",
       "    <tr>\n",
       "      <th>1.0</th>\n",
       "      <td>0.131897</td>\n",
       "      <td>0.131837</td>\n",
       "      <td>0.132137</td>\n",
       "    </tr>\n",
       "  </tbody>\n",
       "</table>\n",
       "</div>"
      ],
      "text/plain": [
       "        label   label 0   label 1\n",
       "0.0  0.868103  0.868163  0.867863\n",
       "1.0  0.131897  0.131837  0.132137"
      ]
     },
     "execution_count": 10,
     "metadata": {},
     "output_type": "execute_result"
    }
   ],
   "source": [
    "label_pers = pd.DataFrame([data.label.value_counts()/len(data)])\n",
    "label_pers = label_pers.T\n",
    "num = 0\n",
    "for d in [ strat_train_set, strat_test_set]:\n",
    "    name = f\"label {num}\"\n",
    "    label_pers[name] = d.label.value_counts()/len(d)\n",
    "    num += 1\n",
    "label_pers"
   ]
  },
  {
   "cell_type": "code",
   "execution_count": 11,
   "id": "6ebf1064",
   "metadata": {
    "execution": {
     "iopub.execute_input": "2023-07-18T16:58:50.740569Z",
     "iopub.status.busy": "2023-07-18T16:58:50.739178Z",
     "iopub.status.idle": "2023-07-18T16:58:50.747779Z",
     "shell.execute_reply": "2023-07-18T16:58:50.746015Z"
    },
    "papermill": {
     "duration": 0.025339,
     "end_time": "2023-07-18T16:58:50.751666",
     "exception": false,
     "start_time": "2023-07-18T16:58:50.726327",
     "status": "completed"
    },
    "tags": []
   },
   "outputs": [],
   "source": [
    "data = strat_train_set.copy()"
   ]
  },
  {
   "cell_type": "code",
   "execution_count": 12,
   "id": "841791c2",
   "metadata": {
    "execution": {
     "iopub.execute_input": "2023-07-18T16:58:50.777325Z",
     "iopub.status.busy": "2023-07-18T16:58:50.775793Z",
     "iopub.status.idle": "2023-07-18T16:58:50.785634Z",
     "shell.execute_reply": "2023-07-18T16:58:50.784089Z"
    },
    "papermill": {
     "duration": 0.026767,
     "end_time": "2023-07-18T16:58:50.789084",
     "exception": false,
     "start_time": "2023-07-18T16:58:50.762317",
     "status": "completed"
    },
    "tags": []
   },
   "outputs": [],
   "source": [
    "data_labels = data.label.copy()\n",
    "data = data.drop(\"label\", axis=1)"
   ]
  },
  {
   "cell_type": "code",
   "execution_count": 13,
   "id": "1fc45dd2",
   "metadata": {
    "execution": {
     "iopub.execute_input": "2023-07-18T16:58:50.814073Z",
     "iopub.status.busy": "2023-07-18T16:58:50.812314Z",
     "iopub.status.idle": "2023-07-18T16:58:50.828907Z",
     "shell.execute_reply": "2023-07-18T16:58:50.827458Z"
    },
    "papermill": {
     "duration": 0.032121,
     "end_time": "2023-07-18T16:58:50.832128",
     "exception": false,
     "start_time": "2023-07-18T16:58:50.800007",
     "status": "completed"
    },
    "tags": []
   },
   "outputs": [
    {
     "data": {
      "text/html": [
       "<div>\n",
       "<style scoped>\n",
       "    .dataframe tbody tr th:only-of-type {\n",
       "        vertical-align: middle;\n",
       "    }\n",
       "\n",
       "    .dataframe tbody tr th {\n",
       "        vertical-align: top;\n",
       "    }\n",
       "\n",
       "    .dataframe thead th {\n",
       "        text-align: right;\n",
       "    }\n",
       "</style>\n",
       "<table border=\"1\" class=\"dataframe\">\n",
       "  <thead>\n",
       "    <tr style=\"text-align: right;\">\n",
       "      <th></th>\n",
       "      <th>email</th>\n",
       "      <th>Subject</th>\n",
       "      <th>content</th>\n",
       "    </tr>\n",
       "  </thead>\n",
       "  <tbody>\n",
       "    <tr>\n",
       "      <th>2302</th>\n",
       "      <td>b\"From rssfeeds@jmason.org  Thu Oct  3 12:24:3...</td>\n",
       "      <td>vintag music archiv</td>\n",
       "      <td>url number hour radio station realaudio archiv...</td>\n",
       "    </tr>\n",
       "    <tr>\n",
       "      <th>682</th>\n",
       "      <td>b'From spamassassin-talk-admin@lists.sourcefor...</td>\n",
       "      <td>satalk compil error digit unix</td>\n",
       "      <td>hi i'm tri build sa digit unix numberf receiv ...</td>\n",
       "    </tr>\n",
       "    <tr>\n",
       "      <th>668</th>\n",
       "      <td>b'Return-Path: &lt;Online#3.20502.53-KAuEgBlRpyKZ...</td>\n",
       "      <td>olympu brio dnumber number megapixel digit cam...</td>\n",
       "      <td>weekli nametopa header tabl widthnumb valignto...</td>\n",
       "    </tr>\n",
       "    <tr>\n",
       "      <th>1226</th>\n",
       "      <td>b'From fork-admin@xent.com  Tue Sep 17 23:29:4...</td>\n",
       "      <td>slaughter name god</td>\n",
       "      <td>j justin mason jmjmasonorg write j tibetan bud...</td>\n",
       "    </tr>\n",
       "    <tr>\n",
       "      <th>1951</th>\n",
       "      <td>b'From rpm-list-admin@freshrpms.net  Wed Aug 2...</td>\n",
       "      <td>homedud</td>\n",
       "      <td>hisom time follow messag haunt attempt mount e...</td>\n",
       "    </tr>\n",
       "  </tbody>\n",
       "</table>\n",
       "</div>"
      ],
      "text/plain": [
       "                                                  email  \\\n",
       "2302  b\"From rssfeeds@jmason.org  Thu Oct  3 12:24:3...   \n",
       "682   b'From spamassassin-talk-admin@lists.sourcefor...   \n",
       "668   b'Return-Path: <Online#3.20502.53-KAuEgBlRpyKZ...   \n",
       "1226  b'From fork-admin@xent.com  Tue Sep 17 23:29:4...   \n",
       "1951  b'From rpm-list-admin@freshrpms.net  Wed Aug 2...   \n",
       "\n",
       "                                                Subject  \\\n",
       "2302                                vintag music archiv   \n",
       "682                      satalk compil error digit unix   \n",
       "668   olympu brio dnumber number megapixel digit cam...   \n",
       "1226                                 slaughter name god   \n",
       "1951                                            homedud   \n",
       "\n",
       "                                                content  \n",
       "2302  url number hour radio station realaudio archiv...  \n",
       "682   hi i'm tri build sa digit unix numberf receiv ...  \n",
       "668   weekli nametopa header tabl widthnumb valignto...  \n",
       "1226  j justin mason jmjmasonorg write j tibetan bud...  \n",
       "1951  hisom time follow messag haunt attempt mount e...  "
      ]
     },
     "execution_count": 13,
     "metadata": {},
     "output_type": "execute_result"
    }
   ],
   "source": [
    "data.head()"
   ]
  },
  {
   "cell_type": "code",
   "execution_count": 14,
   "id": "b4b91150",
   "metadata": {
    "execution": {
     "iopub.execute_input": "2023-07-18T16:58:50.859361Z",
     "iopub.status.busy": "2023-07-18T16:58:50.858113Z",
     "iopub.status.idle": "2023-07-18T16:58:50.870220Z",
     "shell.execute_reply": "2023-07-18T16:58:50.868503Z"
    },
    "papermill": {
     "duration": 0.029518,
     "end_time": "2023-07-18T16:58:50.873345",
     "exception": false,
     "start_time": "2023-07-18T16:58:50.843827",
     "status": "completed"
    },
    "tags": []
   },
   "outputs": [
    {
     "data": {
      "text/plain": [
       "2302    0.0\n",
       "682     0.0\n",
       "668     0.0\n",
       "1226    0.0\n",
       "1951    0.0\n",
       "Name: label, dtype: float64"
      ]
     },
     "execution_count": 14,
     "metadata": {},
     "output_type": "execute_result"
    }
   ],
   "source": [
    "data_labels.head()"
   ]
  },
  {
   "cell_type": "code",
   "execution_count": 15,
   "id": "3e09d721",
   "metadata": {
    "execution": {
     "iopub.execute_input": "2023-07-18T16:58:50.898260Z",
     "iopub.status.busy": "2023-07-18T16:58:50.897301Z",
     "iopub.status.idle": "2023-07-18T16:58:50.917016Z",
     "shell.execute_reply": "2023-07-18T16:58:50.914932Z"
    },
    "papermill": {
     "duration": 0.035887,
     "end_time": "2023-07-18T16:58:50.920453",
     "exception": false,
     "start_time": "2023-07-18T16:58:50.884566",
     "status": "completed"
    },
    "tags": []
   },
   "outputs": [
    {
     "name": "stdout",
     "output_type": "stream",
     "text": [
      "<class 'pandas.core.frame.DataFrame'>\n",
      "Int64Index: 52 entries, 1435 to 1351\n",
      "Data columns (total 3 columns):\n",
      " #   Column   Non-Null Count  Dtype \n",
      "---  ------   --------------  ----- \n",
      " 0   email    52 non-null     object\n",
      " 1   Subject  4 non-null      object\n",
      " 2   content  48 non-null     object\n",
      "dtypes: object(3)\n",
      "memory usage: 1.6+ KB\n"
     ]
    }
   ],
   "source": [
    "data[data.isnull().any(axis=1)].info()"
   ]
  },
  {
   "cell_type": "code",
   "execution_count": 16,
   "id": "a6202071",
   "metadata": {
    "execution": {
     "iopub.execute_input": "2023-07-18T16:58:50.946459Z",
     "iopub.status.busy": "2023-07-18T16:58:50.945936Z",
     "iopub.status.idle": "2023-07-18T16:58:51.144102Z",
     "shell.execute_reply": "2023-07-18T16:58:51.142325Z"
    },
    "papermill": {
     "duration": 0.215139,
     "end_time": "2023-07-18T16:58:51.147867",
     "exception": false,
     "start_time": "2023-07-18T16:58:50.932728",
     "status": "completed"
    },
    "tags": []
   },
   "outputs": [
    {
     "data": {
      "text/plain": [
       "SimpleImputer(strategy='most_frequent')"
      ]
     },
     "execution_count": 16,
     "metadata": {},
     "output_type": "execute_result"
    }
   ],
   "source": [
    "from sklearn.impute import SimpleImputer\n",
    "\n",
    "simpleImputer = SimpleImputer(strategy=\"most_frequent\")\n",
    "simpleImputer.fit(data)"
   ]
  },
  {
   "cell_type": "code",
   "execution_count": 17,
   "id": "5939a36f",
   "metadata": {
    "execution": {
     "iopub.execute_input": "2023-07-18T16:58:51.173845Z",
     "iopub.status.busy": "2023-07-18T16:58:51.173289Z",
     "iopub.status.idle": "2023-07-18T16:58:51.196187Z",
     "shell.execute_reply": "2023-07-18T16:58:51.194571Z"
    },
    "papermill": {
     "duration": 0.039891,
     "end_time": "2023-07-18T16:58:51.199471",
     "exception": false,
     "start_time": "2023-07-18T16:58:51.159580",
     "status": "completed"
    },
    "tags": []
   },
   "outputs": [
    {
     "data": {
      "text/html": [
       "<div>\n",
       "<style scoped>\n",
       "    .dataframe tbody tr th:only-of-type {\n",
       "        vertical-align: middle;\n",
       "    }\n",
       "\n",
       "    .dataframe tbody tr th {\n",
       "        vertical-align: top;\n",
       "    }\n",
       "\n",
       "    .dataframe thead th {\n",
       "        text-align: right;\n",
       "    }\n",
       "</style>\n",
       "<table border=\"1\" class=\"dataframe\">\n",
       "  <thead>\n",
       "    <tr style=\"text-align: right;\">\n",
       "      <th></th>\n",
       "      <th>email</th>\n",
       "      <th>Subject</th>\n",
       "      <th>content</th>\n",
       "    </tr>\n",
       "  </thead>\n",
       "  <tbody>\n",
       "    <tr>\n",
       "      <th>0</th>\n",
       "      <td>b\"From rssfeeds@jmason.org  Thu Oct  3 12:24:3...</td>\n",
       "      <td>vintag music archiv</td>\n",
       "      <td>url number hour radio station realaudio archiv...</td>\n",
       "    </tr>\n",
       "    <tr>\n",
       "      <th>1</th>\n",
       "      <td>b'From spamassassin-talk-admin@lists.sourcefor...</td>\n",
       "      <td>satalk compil error digit unix</td>\n",
       "      <td>hi i'm tri build sa digit unix numberf receiv ...</td>\n",
       "    </tr>\n",
       "    <tr>\n",
       "      <th>2</th>\n",
       "      <td>b'Return-Path: &lt;Online#3.20502.53-KAuEgBlRpyKZ...</td>\n",
       "      <td>olympu brio dnumber number megapixel digit cam...</td>\n",
       "      <td>weekli nametopa header tabl widthnumb valignto...</td>\n",
       "    </tr>\n",
       "  </tbody>\n",
       "</table>\n",
       "</div>"
      ],
      "text/plain": [
       "                                               email  \\\n",
       "0  b\"From rssfeeds@jmason.org  Thu Oct  3 12:24:3...   \n",
       "1  b'From spamassassin-talk-admin@lists.sourcefor...   \n",
       "2  b'Return-Path: <Online#3.20502.53-KAuEgBlRpyKZ...   \n",
       "\n",
       "                                             Subject  \\\n",
       "0                                vintag music archiv   \n",
       "1                     satalk compil error digit unix   \n",
       "2  olympu brio dnumber number megapixel digit cam...   \n",
       "\n",
       "                                             content  \n",
       "0  url number hour radio station realaudio archiv...  \n",
       "1  hi i'm tri build sa digit unix numberf receiv ...  \n",
       "2  weekli nametopa header tabl widthnumb valignto...  "
      ]
     },
     "execution_count": 17,
     "metadata": {},
     "output_type": "execute_result"
    }
   ],
   "source": [
    "X = simpleImputer.transform(data)\n",
    "data_tr = pd.DataFrame(X, columns=data.columns)\n",
    "data_tr.head(3)"
   ]
  },
  {
   "cell_type": "code",
   "execution_count": 18,
   "id": "90e5a99c",
   "metadata": {
    "execution": {
     "iopub.execute_input": "2023-07-18T16:58:51.225494Z",
     "iopub.status.busy": "2023-07-18T16:58:51.224990Z",
     "iopub.status.idle": "2023-07-18T16:58:51.243067Z",
     "shell.execute_reply": "2023-07-18T16:58:51.241588Z"
    },
    "papermill": {
     "duration": 0.034424,
     "end_time": "2023-07-18T16:58:51.245939",
     "exception": false,
     "start_time": "2023-07-18T16:58:51.211515",
     "status": "completed"
    },
    "tags": []
   },
   "outputs": [
    {
     "name": "stdout",
     "output_type": "stream",
     "text": [
      "<class 'pandas.core.frame.DataFrame'>\n",
      "Int64Index: 0 entries\n",
      "Data columns (total 3 columns):\n",
      " #   Column   Non-Null Count  Dtype \n",
      "---  ------   --------------  ----- \n",
      " 0   email    0 non-null      object\n",
      " 1   Subject  0 non-null      object\n",
      " 2   content  0 non-null      object\n",
      "dtypes: object(3)\n",
      "memory usage: 0.0+ bytes\n"
     ]
    }
   ],
   "source": [
    "data_tr[data_tr.isnull().any(axis=1)].info()"
   ]
  },
  {
   "cell_type": "code",
   "execution_count": 19,
   "id": "8ed39833",
   "metadata": {
    "execution": {
     "iopub.execute_input": "2023-07-18T16:58:51.273377Z",
     "iopub.status.busy": "2023-07-18T16:58:51.272817Z",
     "iopub.status.idle": "2023-07-18T16:58:51.278864Z",
     "shell.execute_reply": "2023-07-18T16:58:51.277308Z"
    },
    "papermill": {
     "duration": 0.023591,
     "end_time": "2023-07-18T16:58:51.282056",
     "exception": false,
     "start_time": "2023-07-18T16:58:51.258465",
     "status": "completed"
    },
    "tags": []
   },
   "outputs": [],
   "source": [
    "# data_labels[data_labels.isnull().any(axis=1)].info()"
   ]
  },
  {
   "cell_type": "code",
   "execution_count": 20,
   "id": "c857f0c3",
   "metadata": {
    "execution": {
     "iopub.execute_input": "2023-07-18T16:58:51.309121Z",
     "iopub.status.busy": "2023-07-18T16:58:51.308572Z",
     "iopub.status.idle": "2023-07-18T16:58:51.955043Z",
     "shell.execute_reply": "2023-07-18T16:58:51.953668Z"
    },
    "papermill": {
     "duration": 0.663974,
     "end_time": "2023-07-18T16:58:51.958354",
     "exception": false,
     "start_time": "2023-07-18T16:58:51.294380",
     "status": "completed"
    },
    "tags": []
   },
   "outputs": [],
   "source": [
    "from nltk.stem import PorterStemmer\n",
    "from nltk.stem import WordNetLemmatizer\n",
    "stemmer = PorterStemmer()\n",
    "lemmatizer = WordNetLemmatizer()\n",
    "dirty_text = \"He studies in the house yesterday, unluckily, the fans breaks down\"\n",
    "def word_stemmer(words):\n",
    "    stem_words = [stemmer.stem(o) for o in words]\n",
    "    return \" \".join(stem_words)\n",
    "def word_lemmatizer(words):\n",
    "   lemma_words = [lemmatizer.lemmatize(o) for o in words]\n",
    "   return \" \".join(lemma_words)"
   ]
  },
  {
   "cell_type": "code",
   "execution_count": 21,
   "id": "0174d3d9",
   "metadata": {
    "execution": {
     "iopub.execute_input": "2023-07-18T16:58:51.984107Z",
     "iopub.status.busy": "2023-07-18T16:58:51.983120Z",
     "iopub.status.idle": "2023-07-18T16:58:51.992474Z",
     "shell.execute_reply": "2023-07-18T16:58:51.990941Z"
    },
    "papermill": {
     "duration": 0.026042,
     "end_time": "2023-07-18T16:58:51.995966",
     "exception": false,
     "start_time": "2023-07-18T16:58:51.969924",
     "status": "completed"
    },
    "tags": []
   },
   "outputs": [
    {
     "data": {
      "text/plain": [
       "'he studi in the hous yesterday, unluckily, the fan break down'"
      ]
     },
     "execution_count": 21,
     "metadata": {},
     "output_type": "execute_result"
    }
   ],
   "source": [
    "clean_text = word_stemmer(dirty_text.split(\" \"))\n",
    "clean_text\n",
    "\n",
    "#Output\n",
    "#'He studi in the hous yesterday, unluckily, the fan break down'"
   ]
  },
  {
   "cell_type": "code",
   "execution_count": 22,
   "id": "4880e465",
   "metadata": {
    "execution": {
     "iopub.execute_input": "2023-07-18T16:58:52.025022Z",
     "iopub.status.busy": "2023-07-18T16:58:52.023494Z",
     "iopub.status.idle": "2023-07-18T16:58:54.836839Z",
     "shell.execute_reply": "2023-07-18T16:58:54.835256Z"
    },
    "papermill": {
     "duration": 2.831669,
     "end_time": "2023-07-18T16:58:54.840369",
     "exception": false,
     "start_time": "2023-07-18T16:58:52.008700",
     "status": "completed"
    },
    "tags": []
   },
   "outputs": [
    {
     "data": {
      "text/plain": [
       "'He study in the house yesterday, unluckily, the fan break down'"
      ]
     },
     "execution_count": 22,
     "metadata": {},
     "output_type": "execute_result"
    }
   ],
   "source": [
    "clean_text2 = word_lemmatizer(dirty_text.split(\" \"))\n",
    "clean_text2\n",
    "\n",
    "#Output\n",
    "#'I study in the house yesterday, unluckily, the fan break down'"
   ]
  }
 ],
 "metadata": {
  "kernelspec": {
   "display_name": "Python 3",
   "language": "python",
   "name": "python3"
  },
  "language_info": {
   "codemirror_mode": {
    "name": "ipython",
    "version": 3
   },
   "file_extension": ".py",
   "mimetype": "text/x-python",
   "name": "python",
   "nbconvert_exporter": "python",
   "pygments_lexer": "ipython3",
   "version": "3.7.12"
  },
  "papermill": {
   "default_parameters": {},
   "duration": 23.430141,
   "end_time": "2023-07-18T16:58:56.382738",
   "environment_variables": {},
   "exception": null,
   "input_path": "__notebook__.ipynb",
   "output_path": "__notebook__.ipynb",
   "parameters": {},
   "start_time": "2023-07-18T16:58:32.952597",
   "version": "2.3.4"
  }
 },
 "nbformat": 4,
 "nbformat_minor": 5
}
