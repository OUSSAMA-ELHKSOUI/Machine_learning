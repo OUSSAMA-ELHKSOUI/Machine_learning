{
 "cells": [
  {
   "cell_type": "code",
   "execution_count": 1,
   "id": "de2ee043",
   "metadata": {
    "_cell_guid": "b1076dfc-b9ad-4769-8c92-a6c4dae69d19",
    "_uuid": "8f2839f25d086af736a60e9eeb907d3b93b6e0e5",
    "execution": {
     "iopub.execute_input": "2023-02-10T11:08:57.207413Z",
     "iopub.status.busy": "2023-02-10T11:08:57.206704Z",
     "iopub.status.idle": "2023-02-10T11:08:57.229395Z",
     "shell.execute_reply": "2023-02-10T11:08:57.227947Z"
    },
    "papermill": {
     "duration": 0.030864,
     "end_time": "2023-02-10T11:08:57.232492",
     "exception": false,
     "start_time": "2023-02-10T11:08:57.201628",
     "status": "completed"
    },
    "tags": []
   },
   "outputs": [
    {
     "name": "stdout",
     "output_type": "stream",
     "text": [
      "/kaggle/input/spamassassin/Spam_data.csv\n"
     ]
    }
   ],
   "source": [
    "# This Python 3 environment comes with many helpful analytics libraries installed\n",
    "# It is defined by the kaggle/python Docker image: https://github.com/kaggle/docker-python\n",
    "# For example, here's several helpful packages to load\n",
    "\n",
    "import numpy as np # linear algebra\n",
    "import pandas as pd # data processing, CSV file I/O (e.g. pd.read_csv)\n",
    "\n",
    "# Input data files are available in the read-only \"../input/\" directory\n",
    "# For example, running this (by clicking run or pressing Shift+Enter) will list all files under the input directory\n",
    "\n",
    "import os\n",
    "for dirname, _, filenames in os.walk('/kaggle/input'):\n",
    "    for filename in filenames:\n",
    "        print(os.path.join(dirname, filename))\n",
    "\n",
    "# You can write up to 20GB to the current directory (/kaggle/working/) that gets preserved as output when you create a version using \"Save & Run All\" \n",
    "# You can also write temporary files to /kaggle/temp/, but they won't be saved outside of the current session"
   ]
  },
  {
   "cell_type": "code",
   "execution_count": 2,
   "id": "3961eb86",
   "metadata": {
    "execution": {
     "iopub.execute_input": "2023-02-10T11:08:57.238270Z",
     "iopub.status.busy": "2023-02-10T11:08:57.237838Z",
     "iopub.status.idle": "2023-02-10T11:08:57.685245Z",
     "shell.execute_reply": "2023-02-10T11:08:57.683817Z"
    },
    "papermill": {
     "duration": 0.453173,
     "end_time": "2023-02-10T11:08:57.687910",
     "exception": false,
     "start_time": "2023-02-10T11:08:57.234737",
     "status": "completed"
    },
    "tags": []
   },
   "outputs": [
    {
     "data": {
      "text/html": [
       "<div>\n",
       "<style scoped>\n",
       "    .dataframe tbody tr th:only-of-type {\n",
       "        vertical-align: middle;\n",
       "    }\n",
       "\n",
       "    .dataframe tbody tr th {\n",
       "        vertical-align: top;\n",
       "    }\n",
       "\n",
       "    .dataframe thead th {\n",
       "        text-align: right;\n",
       "    }\n",
       "</style>\n",
       "<table border=\"1\" class=\"dataframe\">\n",
       "  <thead>\n",
       "    <tr style=\"text-align: right;\">\n",
       "      <th></th>\n",
       "      <th>email</th>\n",
       "      <th>label</th>\n",
       "      <th>Subject</th>\n",
       "      <th>content</th>\n",
       "    </tr>\n",
       "  </thead>\n",
       "  <tbody>\n",
       "    <tr>\n",
       "      <th>0</th>\n",
       "      <td>b\"From fork-admin@xent.com  Tue Sep 17 18:42:3...</td>\n",
       "      <td>0.0</td>\n",
       "      <td>hanson' sept number messag nation review</td>\n",
       "      <td>chuck murcko wrote usual crud moron rant beat ...</td>\n",
       "    </tr>\n",
       "    <tr>\n",
       "      <th>1</th>\n",
       "      <td>b'From rssfeeds@jmason.org  Tue Sep 24 10:47:4...</td>\n",
       "      <td>0.0</td>\n",
       "      <td>gold lake mountain resort look pretti gooood m...</td>\n",
       "      <td>url number number amgold lake mountain look pr...</td>\n",
       "    </tr>\n",
       "    <tr>\n",
       "      <th>2</th>\n",
       "      <td>b'From rpm-list-admin@freshrpms.net  Mon Sep  ...</td>\n",
       "      <td>0.0</td>\n",
       "      <td>pleas help newbi compil mplayer</td>\n",
       "      <td>upon time rob wrote dl'd gccnumber still get e...</td>\n",
       "    </tr>\n",
       "    <tr>\n",
       "      <th>3</th>\n",
       "      <td>b'From exmh-workers-admin@redhat.com  Fri Aug ...</td>\n",
       "      <td>0.0</td>\n",
       "      <td>anolth sequenc relat traceback</td>\n",
       "      <td>date fri number aug number number number rober...</td>\n",
       "    </tr>\n",
       "    <tr>\n",
       "      <th>4</th>\n",
       "      <td>b\"From fork-admin@xent.com  Fri Aug 23 11:08:3...</td>\n",
       "      <td>0.0</td>\n",
       "      <td>NaN</td>\n",
       "      <td>appar quot dubya time sent blair' special geor...</td>\n",
       "    </tr>\n",
       "  </tbody>\n",
       "</table>\n",
       "</div>"
      ],
      "text/plain": [
       "                                               email  label  \\\n",
       "0  b\"From fork-admin@xent.com  Tue Sep 17 18:42:3...    0.0   \n",
       "1  b'From rssfeeds@jmason.org  Tue Sep 24 10:47:4...    0.0   \n",
       "2  b'From rpm-list-admin@freshrpms.net  Mon Sep  ...    0.0   \n",
       "3  b'From exmh-workers-admin@redhat.com  Fri Aug ...    0.0   \n",
       "4  b\"From fork-admin@xent.com  Fri Aug 23 11:08:3...    0.0   \n",
       "\n",
       "                                             Subject  \\\n",
       "0           hanson' sept number messag nation review   \n",
       "1  gold lake mountain resort look pretti gooood m...   \n",
       "2                    pleas help newbi compil mplayer   \n",
       "3                     anolth sequenc relat traceback   \n",
       "4                                                NaN   \n",
       "\n",
       "                                             content  \n",
       "0  chuck murcko wrote usual crud moron rant beat ...  \n",
       "1  url number number amgold lake mountain look pr...  \n",
       "2  upon time rob wrote dl'd gccnumber still get e...  \n",
       "3  date fri number aug number number number rober...  \n",
       "4  appar quot dubya time sent blair' special geor...  "
      ]
     },
     "execution_count": 2,
     "metadata": {},
     "output_type": "execute_result"
    }
   ],
   "source": [
    "data = pd.read_csv(os.path.join(dirname, filename))\n",
    "data.head()"
   ]
  },
  {
   "cell_type": "code",
   "execution_count": null,
   "id": "d242d9b3",
   "metadata": {
    "papermill": {
     "duration": 0.001835,
     "end_time": "2023-02-10T11:08:57.692456",
     "exception": false,
     "start_time": "2023-02-10T11:08:57.690621",
     "status": "completed"
    },
    "tags": []
   },
   "outputs": [],
   "source": []
  }
 ],
 "metadata": {
  "kernelspec": {
   "display_name": "Python 3",
   "language": "python",
   "name": "python3"
  },
  "language_info": {
   "codemirror_mode": {
    "name": "ipython",
    "version": 3
   },
   "file_extension": ".py",
   "mimetype": "text/x-python",
   "name": "python",
   "nbconvert_exporter": "python",
   "pygments_lexer": "ipython3",
   "version": "3.7.12"
  },
  "papermill": {
   "default_parameters": {},
   "duration": 12.60223,
   "end_time": "2023-02-10T11:08:58.416960",
   "environment_variables": {},
   "exception": null,
   "input_path": "__notebook__.ipynb",
   "output_path": "__notebook__.ipynb",
   "parameters": {},
   "start_time": "2023-02-10T11:08:45.814730",
   "version": "2.3.4"
  }
 },
 "nbformat": 4,
 "nbformat_minor": 5
}
