{
 "cells": [
  {
   "cell_type": "code",
   "execution_count": 1,
   "id": "ebaa53c8",
   "metadata": {
    "_cell_guid": "b1076dfc-b9ad-4769-8c92-a6c4dae69d19",
    "_uuid": "8f2839f25d086af736a60e9eeb907d3b93b6e0e5",
    "execution": {
     "iopub.execute_input": "2023-07-16T13:30:59.472405Z",
     "iopub.status.busy": "2023-07-16T13:30:59.471187Z",
     "iopub.status.idle": "2023-07-16T13:30:59.488337Z",
     "shell.execute_reply": "2023-07-16T13:30:59.487181Z"
    },
    "papermill": {
     "duration": 0.025812,
     "end_time": "2023-07-16T13:30:59.491187",
     "exception": false,
     "start_time": "2023-07-16T13:30:59.465375",
     "status": "completed"
    },
    "tags": []
   },
   "outputs": [
    {
     "name": "stdout",
     "output_type": "stream",
     "text": [
      "/kaggle/input/spamassassin/Spam_data.csv\n"
     ]
    }
   ],
   "source": [
    "import numpy as np \n",
    "import pandas as pd \n",
    "\n",
    "import os\n",
    "for dirname, _, filenames in os.walk('/kaggle/input/spamassassin'):\n",
    "    for filename in filenames:\n",
    "        print(os.path.join(dirname, filename))"
   ]
  },
  {
   "cell_type": "code",
   "execution_count": 2,
   "id": "a8f0d463",
   "metadata": {
    "execution": {
     "iopub.execute_input": "2023-07-16T13:30:59.498945Z",
     "iopub.status.busy": "2023-07-16T13:30:59.498584Z",
     "iopub.status.idle": "2023-07-16T13:30:59.986730Z",
     "shell.execute_reply": "2023-07-16T13:30:59.985633Z"
    },
    "papermill": {
     "duration": 0.494877,
     "end_time": "2023-07-16T13:30:59.989304",
     "exception": false,
     "start_time": "2023-07-16T13:30:59.494427",
     "status": "completed"
    },
    "tags": []
   },
   "outputs": [
    {
     "data": {
      "text/html": [
       "<div>\n",
       "<style scoped>\n",
       "    .dataframe tbody tr th:only-of-type {\n",
       "        vertical-align: middle;\n",
       "    }\n",
       "\n",
       "    .dataframe tbody tr th {\n",
       "        vertical-align: top;\n",
       "    }\n",
       "\n",
       "    .dataframe thead th {\n",
       "        text-align: right;\n",
       "    }\n",
       "</style>\n",
       "<table border=\"1\" class=\"dataframe\">\n",
       "  <thead>\n",
       "    <tr style=\"text-align: right;\">\n",
       "      <th></th>\n",
       "      <th>email</th>\n",
       "      <th>label</th>\n",
       "      <th>Subject</th>\n",
       "      <th>content</th>\n",
       "    </tr>\n",
       "  </thead>\n",
       "  <tbody>\n",
       "    <tr>\n",
       "      <th>0</th>\n",
       "      <td>b\"From fork-admin@xent.com  Tue Sep 17 18:42:3...</td>\n",
       "      <td>0.0</td>\n",
       "      <td>hanson' sept number messag nation review</td>\n",
       "      <td>chuck murcko wrote usual crud moron rant beat ...</td>\n",
       "    </tr>\n",
       "    <tr>\n",
       "      <th>1</th>\n",
       "      <td>b'From rssfeeds@jmason.org  Tue Sep 24 10:47:4...</td>\n",
       "      <td>0.0</td>\n",
       "      <td>gold lake mountain resort look pretti gooood m...</td>\n",
       "      <td>url number number amgold lake mountain look pr...</td>\n",
       "    </tr>\n",
       "    <tr>\n",
       "      <th>2</th>\n",
       "      <td>b'From rpm-list-admin@freshrpms.net  Mon Sep  ...</td>\n",
       "      <td>0.0</td>\n",
       "      <td>pleas help newbi compil mplayer</td>\n",
       "      <td>upon time rob wrote dl'd gccnumber still get e...</td>\n",
       "    </tr>\n",
       "    <tr>\n",
       "      <th>3</th>\n",
       "      <td>b'From exmh-workers-admin@redhat.com  Fri Aug ...</td>\n",
       "      <td>0.0</td>\n",
       "      <td>anolth sequenc relat traceback</td>\n",
       "      <td>date fri number aug number number number rober...</td>\n",
       "    </tr>\n",
       "    <tr>\n",
       "      <th>4</th>\n",
       "      <td>b\"From fork-admin@xent.com  Fri Aug 23 11:08:3...</td>\n",
       "      <td>0.0</td>\n",
       "      <td>NaN</td>\n",
       "      <td>appar quot dubya time sent blair' special geor...</td>\n",
       "    </tr>\n",
       "  </tbody>\n",
       "</table>\n",
       "</div>"
      ],
      "text/plain": [
       "                                               email  label  \\\n",
       "0  b\"From fork-admin@xent.com  Tue Sep 17 18:42:3...    0.0   \n",
       "1  b'From rssfeeds@jmason.org  Tue Sep 24 10:47:4...    0.0   \n",
       "2  b'From rpm-list-admin@freshrpms.net  Mon Sep  ...    0.0   \n",
       "3  b'From exmh-workers-admin@redhat.com  Fri Aug ...    0.0   \n",
       "4  b\"From fork-admin@xent.com  Fri Aug 23 11:08:3...    0.0   \n",
       "\n",
       "                                             Subject  \\\n",
       "0           hanson' sept number messag nation review   \n",
       "1  gold lake mountain resort look pretti gooood m...   \n",
       "2                    pleas help newbi compil mplayer   \n",
       "3                     anolth sequenc relat traceback   \n",
       "4                                                NaN   \n",
       "\n",
       "                                             content  \n",
       "0  chuck murcko wrote usual crud moron rant beat ...  \n",
       "1  url number number amgold lake mountain look pr...  \n",
       "2  upon time rob wrote dl'd gccnumber still get e...  \n",
       "3  date fri number aug number number number rober...  \n",
       "4  appar quot dubya time sent blair' special geor...  "
      ]
     },
     "execution_count": 2,
     "metadata": {},
     "output_type": "execute_result"
    }
   ],
   "source": [
    "data = pd.read_csv(os.path.join(dirname, filename))\n",
    "data.head()"
   ]
  },
  {
   "cell_type": "code",
   "execution_count": 3,
   "id": "3929f794",
   "metadata": {
    "execution": {
     "iopub.execute_input": "2023-07-16T13:30:59.997345Z",
     "iopub.status.busy": "2023-07-16T13:30:59.996957Z",
     "iopub.status.idle": "2023-07-16T13:31:00.024064Z",
     "shell.execute_reply": "2023-07-16T13:31:00.022858Z"
    },
    "papermill": {
     "duration": 0.034495,
     "end_time": "2023-07-16T13:31:00.027036",
     "exception": false,
     "start_time": "2023-07-16T13:30:59.992541",
     "status": "completed"
    },
    "tags": []
   },
   "outputs": [
    {
     "name": "stdout",
     "output_type": "stream",
     "text": [
      "<class 'pandas.core.frame.DataFrame'>\n",
      "RangeIndex: 3063 entries, 0 to 3062\n",
      "Data columns (total 4 columns):\n",
      " #   Column   Non-Null Count  Dtype  \n",
      "---  ------   --------------  -----  \n",
      " 0   email    3063 non-null   object \n",
      " 1   label    3063 non-null   float64\n",
      " 2   Subject  3008 non-null   object \n",
      " 3   content  3059 non-null   object \n",
      "dtypes: float64(1), object(3)\n",
      "memory usage: 95.8+ KB\n"
     ]
    }
   ],
   "source": [
    "data.info()"
   ]
  },
  {
   "cell_type": "code",
   "execution_count": 4,
   "id": "95a68919",
   "metadata": {
    "execution": {
     "iopub.execute_input": "2023-07-16T13:31:00.035123Z",
     "iopub.status.busy": "2023-07-16T13:31:00.034734Z",
     "iopub.status.idle": "2023-07-16T13:31:00.045488Z",
     "shell.execute_reply": "2023-07-16T13:31:00.044395Z"
    },
    "papermill": {
     "duration": 0.017495,
     "end_time": "2023-07-16T13:31:00.047806",
     "exception": false,
     "start_time": "2023-07-16T13:31:00.030311",
     "status": "completed"
    },
    "tags": []
   },
   "outputs": [
    {
     "data": {
      "text/plain": [
       "0.0    2659\n",
       "1.0     404\n",
       "Name: label, dtype: int64"
      ]
     },
     "execution_count": 4,
     "metadata": {},
     "output_type": "execute_result"
    }
   ],
   "source": [
    "data.label.value_counts()"
   ]
  },
  {
   "cell_type": "code",
   "execution_count": 5,
   "id": "5c23b524",
   "metadata": {
    "execution": {
     "iopub.execute_input": "2023-07-16T13:31:00.056990Z",
     "iopub.status.busy": "2023-07-16T13:31:00.056564Z",
     "iopub.status.idle": "2023-07-16T13:31:00.079935Z",
     "shell.execute_reply": "2023-07-16T13:31:00.079073Z"
    },
    "papermill": {
     "duration": 0.030553,
     "end_time": "2023-07-16T13:31:00.082112",
     "exception": false,
     "start_time": "2023-07-16T13:31:00.051559",
     "status": "completed"
    },
    "tags": []
   },
   "outputs": [
    {
     "data": {
      "text/html": [
       "<div>\n",
       "<style scoped>\n",
       "    .dataframe tbody tr th:only-of-type {\n",
       "        vertical-align: middle;\n",
       "    }\n",
       "\n",
       "    .dataframe tbody tr th {\n",
       "        vertical-align: top;\n",
       "    }\n",
       "\n",
       "    .dataframe thead th {\n",
       "        text-align: right;\n",
       "    }\n",
       "</style>\n",
       "<table border=\"1\" class=\"dataframe\">\n",
       "  <thead>\n",
       "    <tr style=\"text-align: right;\">\n",
       "      <th></th>\n",
       "      <th>email</th>\n",
       "      <th>label</th>\n",
       "      <th>Subject</th>\n",
       "      <th>content</th>\n",
       "    </tr>\n",
       "  </thead>\n",
       "  <tbody>\n",
       "    <tr>\n",
       "      <th>0</th>\n",
       "      <td>b\"From fork-admin@xent.com  Tue Sep 17 18:42:3...</td>\n",
       "      <td>0.0</td>\n",
       "      <td>hanson' sept number messag nation review</td>\n",
       "      <td>chuck murcko wrote usual crud moron rant beat ...</td>\n",
       "    </tr>\n",
       "    <tr>\n",
       "      <th>1</th>\n",
       "      <td>b'From rssfeeds@jmason.org  Tue Sep 24 10:47:4...</td>\n",
       "      <td>0.0</td>\n",
       "      <td>gold lake mountain resort look pretti gooood m...</td>\n",
       "      <td>url number number amgold lake mountain look pr...</td>\n",
       "    </tr>\n",
       "    <tr>\n",
       "      <th>2</th>\n",
       "      <td>b'From rpm-list-admin@freshrpms.net  Mon Sep  ...</td>\n",
       "      <td>0.0</td>\n",
       "      <td>pleas help newbi compil mplayer</td>\n",
       "      <td>upon time rob wrote dl'd gccnumber still get e...</td>\n",
       "    </tr>\n",
       "    <tr>\n",
       "      <th>3</th>\n",
       "      <td>b'From exmh-workers-admin@redhat.com  Fri Aug ...</td>\n",
       "      <td>0.0</td>\n",
       "      <td>anolth sequenc relat traceback</td>\n",
       "      <td>date fri number aug number number number rober...</td>\n",
       "    </tr>\n",
       "    <tr>\n",
       "      <th>4</th>\n",
       "      <td>b\"From fork-admin@xent.com  Fri Aug 23 11:08:3...</td>\n",
       "      <td>0.0</td>\n",
       "      <td>NaN</td>\n",
       "      <td>appar quot dubya time sent blair' special geor...</td>\n",
       "    </tr>\n",
       "    <tr>\n",
       "      <th>...</th>\n",
       "      <td>...</td>\n",
       "      <td>...</td>\n",
       "      <td>...</td>\n",
       "      <td>...</td>\n",
       "    </tr>\n",
       "    <tr>\n",
       "      <th>3058</th>\n",
       "      <td>b'From michaelrobbins012389150776@hotmail.com ...</td>\n",
       "      <td>1.0</td>\n",
       "      <td>best possibl mortgag</td>\n",
       "      <td>htmlfont sizenumb faceari mortgag search got d...</td>\n",
       "    </tr>\n",
       "    <tr>\n",
       "      <th>3059</th>\n",
       "      <td>b'From fholland@bigfoot.com  Wed Sep 11 19:43:...</td>\n",
       "      <td>1.0</td>\n",
       "      <td>weekend</td>\n",
       "      <td>faceari blackfont person busi widthnumb trtd w...</td>\n",
       "    </tr>\n",
       "    <tr>\n",
       "      <th>3060</th>\n",
       "      <td>b'From guage_420@aol.com  Wed Sep 25 10:29:07 ...</td>\n",
       "      <td>1.0</td>\n",
       "      <td>scare first dp</td>\n",
       "      <td>htmlhead textnumb tr td valigntopa widthnumb t...</td>\n",
       "    </tr>\n",
       "    <tr>\n",
       "      <th>3061</th>\n",
       "      <td>b'From zzzz@listmgmt.com  Mon Sep  2 12:15:03 ...</td>\n",
       "      <td>1.0</td>\n",
       "      <td>tell cam slut</td>\n",
       "      <td>font sizenumb remov pleas click simpli respond...</td>\n",
       "    </tr>\n",
       "    <tr>\n",
       "      <th>3062</th>\n",
       "      <td>b'From webmake-talk-admin@lists.sourceforge.ne...</td>\n",
       "      <td>1.0</td>\n",
       "      <td>wm greencard number �ekili�ini ka��rmay�n</td>\n",
       "      <td>html public html gonumb sfnet email sponsor ge...</td>\n",
       "    </tr>\n",
       "  </tbody>\n",
       "</table>\n",
       "<p>3063 rows × 4 columns</p>\n",
       "</div>"
      ],
      "text/plain": [
       "                                                  email  label  \\\n",
       "0     b\"From fork-admin@xent.com  Tue Sep 17 18:42:3...    0.0   \n",
       "1     b'From rssfeeds@jmason.org  Tue Sep 24 10:47:4...    0.0   \n",
       "2     b'From rpm-list-admin@freshrpms.net  Mon Sep  ...    0.0   \n",
       "3     b'From exmh-workers-admin@redhat.com  Fri Aug ...    0.0   \n",
       "4     b\"From fork-admin@xent.com  Fri Aug 23 11:08:3...    0.0   \n",
       "...                                                 ...    ...   \n",
       "3058  b'From michaelrobbins012389150776@hotmail.com ...    1.0   \n",
       "3059  b'From fholland@bigfoot.com  Wed Sep 11 19:43:...    1.0   \n",
       "3060  b'From guage_420@aol.com  Wed Sep 25 10:29:07 ...    1.0   \n",
       "3061  b'From zzzz@listmgmt.com  Mon Sep  2 12:15:03 ...    1.0   \n",
       "3062  b'From webmake-talk-admin@lists.sourceforge.ne...    1.0   \n",
       "\n",
       "                                                Subject  \\\n",
       "0              hanson' sept number messag nation review   \n",
       "1     gold lake mountain resort look pretti gooood m...   \n",
       "2                       pleas help newbi compil mplayer   \n",
       "3                        anolth sequenc relat traceback   \n",
       "4                                                   NaN   \n",
       "...                                                 ...   \n",
       "3058                               best possibl mortgag   \n",
       "3059                                            weekend   \n",
       "3060                                     scare first dp   \n",
       "3061                                      tell cam slut   \n",
       "3062          wm greencard number �ekili�ini ka��rmay�n   \n",
       "\n",
       "                                                content  \n",
       "0     chuck murcko wrote usual crud moron rant beat ...  \n",
       "1     url number number amgold lake mountain look pr...  \n",
       "2     upon time rob wrote dl'd gccnumber still get e...  \n",
       "3     date fri number aug number number number rober...  \n",
       "4     appar quot dubya time sent blair' special geor...  \n",
       "...                                                 ...  \n",
       "3058  htmlfont sizenumb faceari mortgag search got d...  \n",
       "3059  faceari blackfont person busi widthnumb trtd w...  \n",
       "3060  htmlhead textnumb tr td valigntopa widthnumb t...  \n",
       "3061  font sizenumb remov pleas click simpli respond...  \n",
       "3062  html public html gonumb sfnet email sponsor ge...  \n",
       "\n",
       "[3063 rows x 4 columns]"
      ]
     },
     "execution_count": 5,
     "metadata": {},
     "output_type": "execute_result"
    }
   ],
   "source": [
    "data[data.isnull() == False]"
   ]
  },
  {
   "cell_type": "code",
   "execution_count": 6,
   "id": "caaca227",
   "metadata": {
    "execution": {
     "iopub.execute_input": "2023-07-16T13:31:00.090994Z",
     "iopub.status.busy": "2023-07-16T13:31:00.090647Z",
     "iopub.status.idle": "2023-07-16T13:31:01.765843Z",
     "shell.execute_reply": "2023-07-16T13:31:01.764571Z"
    },
    "papermill": {
     "duration": 1.682805,
     "end_time": "2023-07-16T13:31:01.768666",
     "exception": false,
     "start_time": "2023-07-16T13:31:00.085861",
     "status": "completed"
    },
    "tags": []
   },
   "outputs": [],
   "source": [
    "from nltk.stem import PorterStemmer\n",
    "from nltk.stem import WordNetLemmatizer\n",
    "stemmer = PorterStemmer()\n",
    "lemmatizer = WordNetLemmatizer()\n",
    "dirty_text = \"He studies in the house yesterday, unluckily, the fans breaks down\"\n",
    "def word_stemmer(words):\n",
    "    stem_words = [stemmer.stem(o) for o in words]\n",
    "    return \" \".join(stem_words)\n",
    "def word_lemmatizer(words):\n",
    "   lemma_words = [lemmatizer.lemmatize(o) for o in words]\n",
    "   return \" \".join(lemma_words)"
   ]
  },
  {
   "cell_type": "code",
   "execution_count": 7,
   "id": "30e7a01b",
   "metadata": {
    "execution": {
     "iopub.execute_input": "2023-07-16T13:31:01.777702Z",
     "iopub.status.busy": "2023-07-16T13:31:01.777273Z",
     "iopub.status.idle": "2023-07-16T13:31:01.785142Z",
     "shell.execute_reply": "2023-07-16T13:31:01.783899Z"
    },
    "papermill": {
     "duration": 0.015046,
     "end_time": "2023-07-16T13:31:01.787567",
     "exception": false,
     "start_time": "2023-07-16T13:31:01.772521",
     "status": "completed"
    },
    "tags": []
   },
   "outputs": [
    {
     "data": {
      "text/plain": [
       "'he studi in the hous yesterday, unluckily, the fan break down'"
      ]
     },
     "execution_count": 7,
     "metadata": {},
     "output_type": "execute_result"
    }
   ],
   "source": [
    "clean_text = word_stemmer(dirty_text.split(\" \"))\n",
    "clean_text\n",
    "\n",
    "#Output\n",
    "#'He studi in the hous yesterday, unluckily, the fan break down'"
   ]
  },
  {
   "cell_type": "code",
   "execution_count": 8,
   "id": "ab333f1d",
   "metadata": {
    "execution": {
     "iopub.execute_input": "2023-07-16T13:31:01.797018Z",
     "iopub.status.busy": "2023-07-16T13:31:01.796612Z",
     "iopub.status.idle": "2023-07-16T13:31:03.748478Z",
     "shell.execute_reply": "2023-07-16T13:31:03.747320Z"
    },
    "papermill": {
     "duration": 1.959333,
     "end_time": "2023-07-16T13:31:03.750891",
     "exception": false,
     "start_time": "2023-07-16T13:31:01.791558",
     "status": "completed"
    },
    "tags": []
   },
   "outputs": [
    {
     "data": {
      "text/plain": [
       "'He study in the house yesterday, unluckily, the fan break down'"
      ]
     },
     "execution_count": 8,
     "metadata": {},
     "output_type": "execute_result"
    }
   ],
   "source": [
    "clean_text2 = word_lemmatizer(dirty_text.split(\" \"))\n",
    "clean_text2\n",
    "\n",
    "#Output\n",
    "#'I study in the house yesterday, unluckily, the fan break down'"
   ]
  }
 ],
 "metadata": {
  "kernelspec": {
   "display_name": "Python 3",
   "language": "python",
   "name": "python3"
  },
  "language_info": {
   "codemirror_mode": {
    "name": "ipython",
    "version": 3
   },
   "file_extension": ".py",
   "mimetype": "text/x-python",
   "name": "python",
   "nbconvert_exporter": "python",
   "pygments_lexer": "ipython3",
   "version": "3.7.12"
  },
  "papermill": {
   "default_parameters": {},
   "duration": 15.096888,
   "end_time": "2023-07-16T13:31:04.677015",
   "environment_variables": {},
   "exception": null,
   "input_path": "__notebook__.ipynb",
   "output_path": "__notebook__.ipynb",
   "parameters": {},
   "start_time": "2023-07-16T13:30:49.580127",
   "version": "2.3.4"
  }
 },
 "nbformat": 4,
 "nbformat_minor": 5
}
