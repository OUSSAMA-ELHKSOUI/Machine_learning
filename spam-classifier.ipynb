{
 "cells": [
  {
   "cell_type": "code",
   "execution_count": 1,
   "id": "478e6d4c",
   "metadata": {
    "_cell_guid": "b1076dfc-b9ad-4769-8c92-a6c4dae69d19",
    "_uuid": "8f2839f25d086af736a60e9eeb907d3b93b6e0e5",
    "execution": {
     "iopub.execute_input": "2023-07-22T00:13:49.235253Z",
     "iopub.status.busy": "2023-07-22T00:13:49.234736Z",
     "iopub.status.idle": "2023-07-22T00:13:50.356370Z",
     "shell.execute_reply": "2023-07-22T00:13:50.355092Z"
    },
    "papermill": {
     "duration": 1.137369,
     "end_time": "2023-07-22T00:13:50.359954",
     "exception": false,
     "start_time": "2023-07-22T00:13:49.222585",
     "status": "completed"
    },
    "tags": []
   },
   "outputs": [
    {
     "name": "stdout",
     "output_type": "stream",
     "text": [
      "/kaggle/input/spamassassin/Spam_data.csv\n"
     ]
    }
   ],
   "source": [
    "import numpy as np \n",
    "import pandas as pd \n",
    "import sklearn\n",
    "\n",
    "import os\n",
    "for dirname, _, filenames in os.walk('/kaggle/input/spamassassin'):\n",
    "    for filename in filenames:\n",
    "        print(os.path.join(dirname, filename))"
   ]
  },
  {
   "cell_type": "code",
   "execution_count": 2,
   "id": "86c1151f",
   "metadata": {
    "execution": {
     "iopub.execute_input": "2023-07-22T00:13:50.380567Z",
     "iopub.status.busy": "2023-07-22T00:13:50.380121Z",
     "iopub.status.idle": "2023-07-22T00:13:50.909722Z",
     "shell.execute_reply": "2023-07-22T00:13:50.908409Z"
    },
    "papermill": {
     "duration": 0.543217,
     "end_time": "2023-07-22T00:13:50.912801",
     "exception": false,
     "start_time": "2023-07-22T00:13:50.369584",
     "status": "completed"
    },
    "tags": []
   },
   "outputs": [
    {
     "data": {
      "text/html": [
       "<div>\n",
       "<style scoped>\n",
       "    .dataframe tbody tr th:only-of-type {\n",
       "        vertical-align: middle;\n",
       "    }\n",
       "\n",
       "    .dataframe tbody tr th {\n",
       "        vertical-align: top;\n",
       "    }\n",
       "\n",
       "    .dataframe thead th {\n",
       "        text-align: right;\n",
       "    }\n",
       "</style>\n",
       "<table border=\"1\" class=\"dataframe\">\n",
       "  <thead>\n",
       "    <tr style=\"text-align: right;\">\n",
       "      <th></th>\n",
       "      <th>email</th>\n",
       "      <th>label</th>\n",
       "      <th>Subject</th>\n",
       "      <th>content</th>\n",
       "    </tr>\n",
       "  </thead>\n",
       "  <tbody>\n",
       "    <tr>\n",
       "      <th>0</th>\n",
       "      <td>b\"From fork-admin@xent.com  Tue Sep 17 18:42:3...</td>\n",
       "      <td>0.0</td>\n",
       "      <td>hanson' sept number messag nation review</td>\n",
       "      <td>chuck murcko wrote usual crud moron rant beat ...</td>\n",
       "    </tr>\n",
       "    <tr>\n",
       "      <th>1</th>\n",
       "      <td>b'From rssfeeds@jmason.org  Tue Sep 24 10:47:4...</td>\n",
       "      <td>0.0</td>\n",
       "      <td>gold lake mountain resort look pretti gooood m...</td>\n",
       "      <td>url number number amgold lake mountain look pr...</td>\n",
       "    </tr>\n",
       "    <tr>\n",
       "      <th>2</th>\n",
       "      <td>b'From rpm-list-admin@freshrpms.net  Mon Sep  ...</td>\n",
       "      <td>0.0</td>\n",
       "      <td>pleas help newbi compil mplayer</td>\n",
       "      <td>upon time rob wrote dl'd gccnumber still get e...</td>\n",
       "    </tr>\n",
       "    <tr>\n",
       "      <th>3</th>\n",
       "      <td>b'From exmh-workers-admin@redhat.com  Fri Aug ...</td>\n",
       "      <td>0.0</td>\n",
       "      <td>anolth sequenc relat traceback</td>\n",
       "      <td>date fri number aug number number number rober...</td>\n",
       "    </tr>\n",
       "    <tr>\n",
       "      <th>4</th>\n",
       "      <td>b\"From fork-admin@xent.com  Fri Aug 23 11:08:3...</td>\n",
       "      <td>0.0</td>\n",
       "      <td>NaN</td>\n",
       "      <td>appar quot dubya time sent blair' special geor...</td>\n",
       "    </tr>\n",
       "  </tbody>\n",
       "</table>\n",
       "</div>"
      ],
      "text/plain": [
       "                                               email  label  \\\n",
       "0  b\"From fork-admin@xent.com  Tue Sep 17 18:42:3...    0.0   \n",
       "1  b'From rssfeeds@jmason.org  Tue Sep 24 10:47:4...    0.0   \n",
       "2  b'From rpm-list-admin@freshrpms.net  Mon Sep  ...    0.0   \n",
       "3  b'From exmh-workers-admin@redhat.com  Fri Aug ...    0.0   \n",
       "4  b\"From fork-admin@xent.com  Fri Aug 23 11:08:3...    0.0   \n",
       "\n",
       "                                             Subject  \\\n",
       "0           hanson' sept number messag nation review   \n",
       "1  gold lake mountain resort look pretti gooood m...   \n",
       "2                    pleas help newbi compil mplayer   \n",
       "3                     anolth sequenc relat traceback   \n",
       "4                                                NaN   \n",
       "\n",
       "                                             content  \n",
       "0  chuck murcko wrote usual crud moron rant beat ...  \n",
       "1  url number number amgold lake mountain look pr...  \n",
       "2  upon time rob wrote dl'd gccnumber still get e...  \n",
       "3  date fri number aug number number number rober...  \n",
       "4  appar quot dubya time sent blair' special geor...  "
      ]
     },
     "execution_count": 2,
     "metadata": {},
     "output_type": "execute_result"
    }
   ],
   "source": [
    "data = pd.read_csv(os.path.join(dirname, filename))\n",
    "data.head()"
   ]
  },
  {
   "cell_type": "code",
   "execution_count": 3,
   "id": "1b500caf",
   "metadata": {
    "execution": {
     "iopub.execute_input": "2023-07-22T00:13:50.933858Z",
     "iopub.status.busy": "2023-07-22T00:13:50.933377Z",
     "iopub.status.idle": "2023-07-22T00:13:50.967568Z",
     "shell.execute_reply": "2023-07-22T00:13:50.966200Z"
    },
    "papermill": {
     "duration": 0.048339,
     "end_time": "2023-07-22T00:13:50.970824",
     "exception": false,
     "start_time": "2023-07-22T00:13:50.922485",
     "status": "completed"
    },
    "tags": []
   },
   "outputs": [
    {
     "name": "stdout",
     "output_type": "stream",
     "text": [
      "<class 'pandas.core.frame.DataFrame'>\n",
      "RangeIndex: 3063 entries, 0 to 3062\n",
      "Data columns (total 4 columns):\n",
      " #   Column   Non-Null Count  Dtype  \n",
      "---  ------   --------------  -----  \n",
      " 0   email    3063 non-null   object \n",
      " 1   label    3063 non-null   float64\n",
      " 2   Subject  3008 non-null   object \n",
      " 3   content  3059 non-null   object \n",
      "dtypes: float64(1), object(3)\n",
      "memory usage: 95.8+ KB\n"
     ]
    }
   ],
   "source": [
    "data.info()"
   ]
  },
  {
   "cell_type": "code",
   "execution_count": 4,
   "id": "6e2f7d84",
   "metadata": {
    "execution": {
     "iopub.execute_input": "2023-07-22T00:13:50.992104Z",
     "iopub.status.busy": "2023-07-22T00:13:50.991277Z",
     "iopub.status.idle": "2023-07-22T00:13:51.003782Z",
     "shell.execute_reply": "2023-07-22T00:13:51.002526Z"
    },
    "papermill": {
     "duration": 0.026359,
     "end_time": "2023-07-22T00:13:51.006577",
     "exception": false,
     "start_time": "2023-07-22T00:13:50.980218",
     "status": "completed"
    },
    "tags": []
   },
   "outputs": [
    {
     "data": {
      "text/plain": [
       "0.0    2659\n",
       "1.0     404\n",
       "Name: label, dtype: int64"
      ]
     },
     "execution_count": 4,
     "metadata": {},
     "output_type": "execute_result"
    }
   ],
   "source": [
    "data.label.value_counts()"
   ]
  },
  {
   "cell_type": "code",
   "execution_count": 5,
   "id": "09fb37c9",
   "metadata": {
    "execution": {
     "iopub.execute_input": "2023-07-22T00:13:51.027714Z",
     "iopub.status.busy": "2023-07-22T00:13:51.027201Z",
     "iopub.status.idle": "2023-07-22T00:13:51.053940Z",
     "shell.execute_reply": "2023-07-22T00:13:51.050829Z"
    },
    "papermill": {
     "duration": 0.04113,
     "end_time": "2023-07-22T00:13:51.057243",
     "exception": false,
     "start_time": "2023-07-22T00:13:51.016113",
     "status": "completed"
    },
    "tags": []
   },
   "outputs": [
    {
     "data": {
      "text/html": [
       "<div>\n",
       "<style scoped>\n",
       "    .dataframe tbody tr th:only-of-type {\n",
       "        vertical-align: middle;\n",
       "    }\n",
       "\n",
       "    .dataframe tbody tr th {\n",
       "        vertical-align: top;\n",
       "    }\n",
       "\n",
       "    .dataframe thead th {\n",
       "        text-align: right;\n",
       "    }\n",
       "</style>\n",
       "<table border=\"1\" class=\"dataframe\">\n",
       "  <thead>\n",
       "    <tr style=\"text-align: right;\">\n",
       "      <th></th>\n",
       "      <th>label</th>\n",
       "    </tr>\n",
       "  </thead>\n",
       "  <tbody>\n",
       "    <tr>\n",
       "      <th>count</th>\n",
       "      <td>3063.000000</td>\n",
       "    </tr>\n",
       "    <tr>\n",
       "      <th>mean</th>\n",
       "      <td>0.131897</td>\n",
       "    </tr>\n",
       "    <tr>\n",
       "      <th>std</th>\n",
       "      <td>0.338434</td>\n",
       "    </tr>\n",
       "    <tr>\n",
       "      <th>min</th>\n",
       "      <td>0.000000</td>\n",
       "    </tr>\n",
       "    <tr>\n",
       "      <th>25%</th>\n",
       "      <td>0.000000</td>\n",
       "    </tr>\n",
       "    <tr>\n",
       "      <th>50%</th>\n",
       "      <td>0.000000</td>\n",
       "    </tr>\n",
       "    <tr>\n",
       "      <th>75%</th>\n",
       "      <td>0.000000</td>\n",
       "    </tr>\n",
       "    <tr>\n",
       "      <th>max</th>\n",
       "      <td>1.000000</td>\n",
       "    </tr>\n",
       "  </tbody>\n",
       "</table>\n",
       "</div>"
      ],
      "text/plain": [
       "             label\n",
       "count  3063.000000\n",
       "mean      0.131897\n",
       "std       0.338434\n",
       "min       0.000000\n",
       "25%       0.000000\n",
       "50%       0.000000\n",
       "75%       0.000000\n",
       "max       1.000000"
      ]
     },
     "execution_count": 5,
     "metadata": {},
     "output_type": "execute_result"
    }
   ],
   "source": [
    "data.describe()"
   ]
  },
  {
   "cell_type": "code",
   "execution_count": 6,
   "id": "b41fba90",
   "metadata": {
    "execution": {
     "iopub.execute_input": "2023-07-22T00:13:51.079696Z",
     "iopub.status.busy": "2023-07-22T00:13:51.079205Z",
     "iopub.status.idle": "2023-07-22T00:13:51.361953Z",
     "shell.execute_reply": "2023-07-22T00:13:51.360124Z"
    },
    "papermill": {
     "duration": 0.297704,
     "end_time": "2023-07-22T00:13:51.365177",
     "exception": false,
     "start_time": "2023-07-22T00:13:51.067473",
     "status": "completed"
    },
    "tags": []
   },
   "outputs": [
    {
     "data": {
      "text/plain": [
       "<AxesSubplot:>"
      ]
     },
     "execution_count": 6,
     "metadata": {},
     "output_type": "execute_result"
    },
    {
     "data": {
      "image/png": "[encoded data removed]",
      "text/plain": [
       "<Figure size 432x288 with 1 Axes>"
      ]
     },
     "metadata": {
      "needs_background": "light"
     },
     "output_type": "display_data"
    }
   ],
   "source": [
    "data.label.hist()"
   ]
  },
  {
   "cell_type": "code",
   "execution_count": 7,
   "id": "2fcdeee8",
   "metadata": {
    "execution": {
     "iopub.execute_input": "2023-07-22T00:13:51.388809Z",
     "iopub.status.busy": "2023-07-22T00:13:51.388319Z",
     "iopub.status.idle": "2023-07-22T00:13:51.499891Z",
     "shell.execute_reply": "2023-07-22T00:13:51.498452Z"
    },
    "papermill": {
     "duration": 0.126988,
     "end_time": "2023-07-22T00:13:51.503038",
     "exception": false,
     "start_time": "2023-07-22T00:13:51.376050",
     "status": "completed"
    },
    "tags": []
   },
   "outputs": [],
   "source": [
    "from sklearn.model_selection import StratifiedShuffleSplit\n",
    "\n",
    "split = StratifiedShuffleSplit(n_splits=1, test_size=0.2, random_state=42)\n",
    "\n",
    "for train_index, test_index in split.split(data, data.label):\n",
    "    strat_train_set = data.loc[train_index]\n",
    "    strat_test_set = data.loc[test_index]"
   ]
  },
  {
   "cell_type": "code",
   "execution_count": 8,
   "id": "0dd340ad",
   "metadata": {
    "execution": {
     "iopub.execute_input": "2023-07-22T00:13:51.525693Z",
     "iopub.status.busy": "2023-07-22T00:13:51.525206Z",
     "iopub.status.idle": "2023-07-22T00:13:51.547274Z",
     "shell.execute_reply": "2023-07-22T00:13:51.546072Z"
    },
    "papermill": {
     "duration": 0.036976,
     "end_time": "2023-07-22T00:13:51.550080",
     "exception": false,
     "start_time": "2023-07-22T00:13:51.513104",
     "status": "completed"
    },
    "tags": []
   },
   "outputs": [
    {
     "data": {
      "text/html": [
       "<div>\n",
       "<style scoped>\n",
       "    .dataframe tbody tr th:only-of-type {\n",
       "        vertical-align: middle;\n",
       "    }\n",
       "\n",
       "    .dataframe tbody tr th {\n",
       "        vertical-align: top;\n",
       "    }\n",
       "\n",
       "    .dataframe thead th {\n",
       "        text-align: right;\n",
       "    }\n",
       "</style>\n",
       "<table border=\"1\" class=\"dataframe\">\n",
       "  <thead>\n",
       "    <tr style=\"text-align: right;\">\n",
       "      <th></th>\n",
       "      <th>email</th>\n",
       "      <th>label</th>\n",
       "      <th>Subject</th>\n",
       "      <th>content</th>\n",
       "    </tr>\n",
       "  </thead>\n",
       "  <tbody>\n",
       "    <tr>\n",
       "      <th>2302</th>\n",
       "      <td>b\"From rssfeeds@jmason.org  Thu Oct  3 12:24:3...</td>\n",
       "      <td>0.0</td>\n",
       "      <td>vintag music archiv</td>\n",
       "      <td>url number hour radio station realaudio archiv...</td>\n",
       "    </tr>\n",
       "    <tr>\n",
       "      <th>682</th>\n",
       "      <td>b'From spamassassin-talk-admin@lists.sourcefor...</td>\n",
       "      <td>0.0</td>\n",
       "      <td>satalk compil error digit unix</td>\n",
       "      <td>hi i'm tri build sa digit unix numberf receiv ...</td>\n",
       "    </tr>\n",
       "    <tr>\n",
       "      <th>668</th>\n",
       "      <td>b'Return-Path: &lt;Online#3.20502.53-KAuEgBlRpyKZ...</td>\n",
       "      <td>0.0</td>\n",
       "      <td>olympu brio dnumber number megapixel digit cam...</td>\n",
       "      <td>weekli nametopa header tabl widthnumb valignto...</td>\n",
       "    </tr>\n",
       "    <tr>\n",
       "      <th>1226</th>\n",
       "      <td>b'From fork-admin@xent.com  Tue Sep 17 23:29:4...</td>\n",
       "      <td>0.0</td>\n",
       "      <td>slaughter name god</td>\n",
       "      <td>j justin mason jmjmasonorg write j tibetan bud...</td>\n",
       "    </tr>\n",
       "    <tr>\n",
       "      <th>1951</th>\n",
       "      <td>b'From rpm-list-admin@freshrpms.net  Wed Aug 2...</td>\n",
       "      <td>0.0</td>\n",
       "      <td>homedud</td>\n",
       "      <td>hisom time follow messag haunt attempt mount e...</td>\n",
       "    </tr>\n",
       "    <tr>\n",
       "      <th>...</th>\n",
       "      <td>...</td>\n",
       "      <td>...</td>\n",
       "      <td>...</td>\n",
       "      <td>...</td>\n",
       "    </tr>\n",
       "    <tr>\n",
       "      <th>2737</th>\n",
       "      <td>b'From exelle@webinfo.fi  Mon Sep 23 15:02:06 ...</td>\n",
       "      <td>1.0</td>\n",
       "      <td>home rep number comp hire</td>\n",
       "      <td>questiondo want differ jobdo want bossdo need ...</td>\n",
       "    </tr>\n",
       "    <tr>\n",
       "      <th>86</th>\n",
       "      <td>b'From sentto-2242572-55981-1034027969-zzzz=ex...</td>\n",
       "      <td>0.0</td>\n",
       "      <td>zzzzteana latest iraqrel news</td>\n",
       "      <td>headlin url bore y'all us republican reject ge...</td>\n",
       "    </tr>\n",
       "    <tr>\n",
       "      <th>1417</th>\n",
       "      <td>b'From fork-admin@xent.com  Sun Sep  8 23:50:3...</td>\n",
       "      <td>0.0</td>\n",
       "      <td>whoa</td>\n",
       "      <td>number number gari lawrenc murphi wrote j want...</td>\n",
       "    </tr>\n",
       "    <tr>\n",
       "      <th>1114</th>\n",
       "      <td>b\"From rssfeeds@jmason.org  Mon Sep 30 13:44:1...</td>\n",
       "      <td>0.0</td>\n",
       "      <td>linux softwar raid fun</td>\n",
       "      <td>url forgot write yesterday feel like forg blog...</td>\n",
       "    </tr>\n",
       "    <tr>\n",
       "      <th>834</th>\n",
       "      <td>b'From fork-admin@xent.com  Wed Oct  2 11:47:4...</td>\n",
       "      <td>0.0</td>\n",
       "      <td>miss one</td>\n",
       "      <td>wrote turn music industri settl quit hefti tho...</td>\n",
       "    </tr>\n",
       "  </tbody>\n",
       "</table>\n",
       "<p>2450 rows × 4 columns</p>\n",
       "</div>"
      ],
      "text/plain": [
       "                                                  email  label  \\\n",
       "2302  b\"From rssfeeds@jmason.org  Thu Oct  3 12:24:3...    0.0   \n",
       "682   b'From spamassassin-talk-admin@lists.sourcefor...    0.0   \n",
       "668   b'Return-Path: <Online#3.20502.53-KAuEgBlRpyKZ...    0.0   \n",
       "1226  b'From fork-admin@xent.com  Tue Sep 17 23:29:4...    0.0   \n",
       "1951  b'From rpm-list-admin@freshrpms.net  Wed Aug 2...    0.0   \n",
       "...                                                 ...    ...   \n",
       "2737  b'From exelle@webinfo.fi  Mon Sep 23 15:02:06 ...    1.0   \n",
       "86    b'From sentto-2242572-55981-1034027969-zzzz=ex...    0.0   \n",
       "1417  b'From fork-admin@xent.com  Sun Sep  8 23:50:3...    0.0   \n",
       "1114  b\"From rssfeeds@jmason.org  Mon Sep 30 13:44:1...    0.0   \n",
       "834   b'From fork-admin@xent.com  Wed Oct  2 11:47:4...    0.0   \n",
       "\n",
       "                                                Subject  \\\n",
       "2302                                vintag music archiv   \n",
       "682                      satalk compil error digit unix   \n",
       "668   olympu brio dnumber number megapixel digit cam...   \n",
       "1226                                 slaughter name god   \n",
       "1951                                            homedud   \n",
       "...                                                 ...   \n",
       "2737                          home rep number comp hire   \n",
       "86                        zzzzteana latest iraqrel news   \n",
       "1417                                               whoa   \n",
       "1114                             linux softwar raid fun   \n",
       "834                                            miss one   \n",
       "\n",
       "                                                content  \n",
       "2302  url number hour radio station realaudio archiv...  \n",
       "682   hi i'm tri build sa digit unix numberf receiv ...  \n",
       "668   weekli nametopa header tabl widthnumb valignto...  \n",
       "1226  j justin mason jmjmasonorg write j tibetan bud...  \n",
       "1951  hisom time follow messag haunt attempt mount e...  \n",
       "...                                                 ...  \n",
       "2737  questiondo want differ jobdo want bossdo need ...  \n",
       "86    headlin url bore y'all us republican reject ge...  \n",
       "1417  number number gari lawrenc murphi wrote j want...  \n",
       "1114  url forgot write yesterday feel like forg blog...  \n",
       "834   wrote turn music industri settl quit hefti tho...  \n",
       "\n",
       "[2450 rows x 4 columns]"
      ]
     },
     "execution_count": 8,
     "metadata": {},
     "output_type": "execute_result"
    }
   ],
   "source": [
    "strat_train_set"
   ]
  },
  {
   "cell_type": "code",
   "execution_count": 9,
   "id": "6fd102fc",
   "metadata": {
    "execution": {
     "iopub.execute_input": "2023-07-22T00:13:51.572859Z",
     "iopub.status.busy": "2023-07-22T00:13:51.572203Z",
     "iopub.status.idle": "2023-07-22T00:13:51.582622Z",
     "shell.execute_reply": "2023-07-22T00:13:51.581226Z"
    },
    "papermill": {
     "duration": 0.024974,
     "end_time": "2023-07-22T00:13:51.585312",
     "exception": false,
     "start_time": "2023-07-22T00:13:51.560338",
     "status": "completed"
    },
    "tags": []
   },
   "outputs": [
    {
     "data": {
      "text/plain": [
       "0.0    2127\n",
       "1.0     323\n",
       "Name: label, dtype: int64"
      ]
     },
     "execution_count": 9,
     "metadata": {},
     "output_type": "execute_result"
    }
   ],
   "source": [
    "strat_train_set.label.value_counts()"
   ]
  },
  {
   "cell_type": "code",
   "execution_count": 10,
   "id": "4ae43efe",
   "metadata": {
    "execution": {
     "iopub.execute_input": "2023-07-22T00:13:51.608261Z",
     "iopub.status.busy": "2023-07-22T00:13:51.607833Z",
     "iopub.status.idle": "2023-07-22T00:13:51.629690Z",
     "shell.execute_reply": "2023-07-22T00:13:51.628375Z"
    },
    "papermill": {
     "duration": 0.036758,
     "end_time": "2023-07-22T00:13:51.632521",
     "exception": false,
     "start_time": "2023-07-22T00:13:51.595763",
     "status": "completed"
    },
    "tags": []
   },
   "outputs": [
    {
     "data": {
      "text/html": [
       "<div>\n",
       "<style scoped>\n",
       "    .dataframe tbody tr th:only-of-type {\n",
       "        vertical-align: middle;\n",
       "    }\n",
       "\n",
       "    .dataframe tbody tr th {\n",
       "        vertical-align: top;\n",
       "    }\n",
       "\n",
       "    .dataframe thead th {\n",
       "        text-align: right;\n",
       "    }\n",
       "</style>\n",
       "<table border=\"1\" class=\"dataframe\">\n",
       "  <thead>\n",
       "    <tr style=\"text-align: right;\">\n",
       "      <th></th>\n",
       "      <th>label</th>\n",
       "      <th>label 0</th>\n",
       "      <th>label 1</th>\n",
       "    </tr>\n",
       "  </thead>\n",
       "  <tbody>\n",
       "    <tr>\n",
       "      <th>0.0</th>\n",
       "      <td>0.868103</td>\n",
       "      <td>0.868163</td>\n",
       "      <td>0.867863</td>\n",
       "    </tr>\n",
       "    <tr>\n",
       "      <th>1.0</th>\n",
       "      <td>0.131897</td>\n",
       "      <td>0.131837</td>\n",
       "      <td>0.132137</td>\n",
       "    </tr>\n",
       "  </tbody>\n",
       "</table>\n",
       "</div>"
      ],
      "text/plain": [
       "        label   label 0   label 1\n",
       "0.0  0.868103  0.868163  0.867863\n",
       "1.0  0.131897  0.131837  0.132137"
      ]
     },
     "execution_count": 10,
     "metadata": {},
     "output_type": "execute_result"
    }
   ],
   "source": [
    "label_pers = pd.DataFrame([data.label.value_counts()/len(data)])\n",
    "label_pers = label_pers.T\n",
    "num = 0\n",
    "for d in [ strat_train_set, strat_test_set]:\n",
    "    name = f\"label {num}\"\n",
    "    label_pers[name] = d.label.value_counts()/len(d)\n",
    "    num += 1\n",
    "label_pers"
   ]
  },
  {
   "cell_type": "code",
   "execution_count": 11,
   "id": "177e74f5",
   "metadata": {
    "execution": {
     "iopub.execute_input": "2023-07-22T00:13:51.656600Z",
     "iopub.status.busy": "2023-07-22T00:13:51.656166Z",
     "iopub.status.idle": "2023-07-22T00:13:51.662469Z",
     "shell.execute_reply": "2023-07-22T00:13:51.660927Z"
    },
    "papermill": {
     "duration": 0.022249,
     "end_time": "2023-07-22T00:13:51.665366",
     "exception": false,
     "start_time": "2023-07-22T00:13:51.643117",
     "status": "completed"
    },
    "tags": []
   },
   "outputs": [],
   "source": [
    "data = strat_train_set.copy()"
   ]
  },
  {
   "cell_type": "code",
   "execution_count": 12,
   "id": "a1761a28",
   "metadata": {
    "execution": {
     "iopub.execute_input": "2023-07-22T00:13:51.688601Z",
     "iopub.status.busy": "2023-07-22T00:13:51.688198Z",
     "iopub.status.idle": "2023-07-22T00:13:51.694933Z",
     "shell.execute_reply": "2023-07-22T00:13:51.693998Z"
    },
    "papermill": {
     "duration": 0.021372,
     "end_time": "2023-07-22T00:13:51.697390",
     "exception": false,
     "start_time": "2023-07-22T00:13:51.676018",
     "status": "completed"
    },
    "tags": []
   },
   "outputs": [],
   "source": [
    "data_labels = data.label.copy()\n",
    "data = data.drop(\"label\", axis=1)"
   ]
  },
  {
   "cell_type": "code",
   "execution_count": 13,
   "id": "271edc22",
   "metadata": {
    "execution": {
     "iopub.execute_input": "2023-07-22T00:13:51.721134Z",
     "iopub.status.busy": "2023-07-22T00:13:51.720703Z",
     "iopub.status.idle": "2023-07-22T00:13:51.735020Z",
     "shell.execute_reply": "2023-07-22T00:13:51.733206Z"
    },
    "papermill": {
     "duration": 0.029732,
     "end_time": "2023-07-22T00:13:51.737993",
     "exception": false,
     "start_time": "2023-07-22T00:13:51.708261",
     "status": "completed"
    },
    "tags": []
   },
   "outputs": [
    {
     "data": {
      "text/html": [
       "<div>\n",
       "<style scoped>\n",
       "    .dataframe tbody tr th:only-of-type {\n",
       "        vertical-align: middle;\n",
       "    }\n",
       "\n",
       "    .dataframe tbody tr th {\n",
       "        vertical-align: top;\n",
       "    }\n",
       "\n",
       "    .dataframe thead th {\n",
       "        text-align: right;\n",
       "    }\n",
       "</style>\n",
       "<table border=\"1\" class=\"dataframe\">\n",
       "  <thead>\n",
       "    <tr style=\"text-align: right;\">\n",
       "      <th></th>\n",
       "      <th>email</th>\n",
       "      <th>Subject</th>\n",
       "      <th>content</th>\n",
       "    </tr>\n",
       "  </thead>\n",
       "  <tbody>\n",
       "    <tr>\n",
       "      <th>2302</th>\n",
       "      <td>b\"From rssfeeds@jmason.org  Thu Oct  3 12:24:3...</td>\n",
       "      <td>vintag music archiv</td>\n",
       "      <td>url number hour radio station realaudio archiv...</td>\n",
       "    </tr>\n",
       "    <tr>\n",
       "      <th>682</th>\n",
       "      <td>b'From spamassassin-talk-admin@lists.sourcefor...</td>\n",
       "      <td>satalk compil error digit unix</td>\n",
       "      <td>hi i'm tri build sa digit unix numberf receiv ...</td>\n",
       "    </tr>\n",
       "    <tr>\n",
       "      <th>668</th>\n",
       "      <td>b'Return-Path: &lt;Online#3.20502.53-KAuEgBlRpyKZ...</td>\n",
       "      <td>olympu brio dnumber number megapixel digit cam...</td>\n",
       "      <td>weekli nametopa header tabl widthnumb valignto...</td>\n",
       "    </tr>\n",
       "    <tr>\n",
       "      <th>1226</th>\n",
       "      <td>b'From fork-admin@xent.com  Tue Sep 17 23:29:4...</td>\n",
       "      <td>slaughter name god</td>\n",
       "      <td>j justin mason jmjmasonorg write j tibetan bud...</td>\n",
       "    </tr>\n",
       "    <tr>\n",
       "      <th>1951</th>\n",
       "      <td>b'From rpm-list-admin@freshrpms.net  Wed Aug 2...</td>\n",
       "      <td>homedud</td>\n",
       "      <td>hisom time follow messag haunt attempt mount e...</td>\n",
       "    </tr>\n",
       "  </tbody>\n",
       "</table>\n",
       "</div>"
      ],
      "text/plain": [
       "                                                  email  \\\n",
       "2302  b\"From rssfeeds@jmason.org  Thu Oct  3 12:24:3...   \n",
       "682   b'From spamassassin-talk-admin@lists.sourcefor...   \n",
       "668   b'Return-Path: <Online#3.20502.53-KAuEgBlRpyKZ...   \n",
       "1226  b'From fork-admin@xent.com  Tue Sep 17 23:29:4...   \n",
       "1951  b'From rpm-list-admin@freshrpms.net  Wed Aug 2...   \n",
       "\n",
       "                                                Subject  \\\n",
       "2302                                vintag music archiv   \n",
       "682                      satalk compil error digit unix   \n",
       "668   olympu brio dnumber number megapixel digit cam...   \n",
       "1226                                 slaughter name god   \n",
       "1951                                            homedud   \n",
       "\n",
       "                                                content  \n",
       "2302  url number hour radio station realaudio archiv...  \n",
       "682   hi i'm tri build sa digit unix numberf receiv ...  \n",
       "668   weekli nametopa header tabl widthnumb valignto...  \n",
       "1226  j justin mason jmjmasonorg write j tibetan bud...  \n",
       "1951  hisom time follow messag haunt attempt mount e...  "
      ]
     },
     "execution_count": 13,
     "metadata": {},
     "output_type": "execute_result"
    }
   ],
   "source": [
    "data.head()"
   ]
  },
  {
   "cell_type": "code",
   "execution_count": 14,
   "id": "faa7cf08",
   "metadata": {
    "execution": {
     "iopub.execute_input": "2023-07-22T00:13:51.763681Z",
     "iopub.status.busy": "2023-07-22T00:13:51.763213Z",
     "iopub.status.idle": "2023-07-22T00:13:51.773235Z",
     "shell.execute_reply": "2023-07-22T00:13:51.771671Z"
    },
    "papermill": {
     "duration": 0.025491,
     "end_time": "2023-07-22T00:13:51.775933",
     "exception": false,
     "start_time": "2023-07-22T00:13:51.750442",
     "status": "completed"
    },
    "tags": []
   },
   "outputs": [
    {
     "data": {
      "text/plain": [
       "2302    0.0\n",
       "682     0.0\n",
       "668     0.0\n",
       "1226    0.0\n",
       "1951    0.0\n",
       "Name: label, dtype: float64"
      ]
     },
     "execution_count": 14,
     "metadata": {},
     "output_type": "execute_result"
    }
   ],
   "source": [
    "data_labels.head()"
   ]
  },
  {
   "cell_type": "code",
   "execution_count": 15,
   "id": "6632c16d",
   "metadata": {
    "execution": {
     "iopub.execute_input": "2023-07-22T00:13:51.800390Z",
     "iopub.status.busy": "2023-07-22T00:13:51.799892Z",
     "iopub.status.idle": "2023-07-22T00:13:51.817951Z",
     "shell.execute_reply": "2023-07-22T00:13:51.816407Z"
    },
    "papermill": {
     "duration": 0.033876,
     "end_time": "2023-07-22T00:13:51.820848",
     "exception": false,
     "start_time": "2023-07-22T00:13:51.786972",
     "status": "completed"
    },
    "tags": []
   },
   "outputs": [
    {
     "name": "stdout",
     "output_type": "stream",
     "text": [
      "<class 'pandas.core.frame.DataFrame'>\n",
      "Int64Index: 52 entries, 1435 to 1351\n",
      "Data columns (total 3 columns):\n",
      " #   Column   Non-Null Count  Dtype \n",
      "---  ------   --------------  ----- \n",
      " 0   email    52 non-null     object\n",
      " 1   Subject  4 non-null      object\n",
      " 2   content  48 non-null     object\n",
      "dtypes: object(3)\n",
      "memory usage: 1.6+ KB\n"
     ]
    }
   ],
   "source": [
    "data[data.isnull().any(axis=1)].info()"
   ]
  },
  {
   "cell_type": "code",
   "execution_count": 16,
   "id": "9146cf12",
   "metadata": {
    "execution": {
     "iopub.execute_input": "2023-07-22T00:13:51.845284Z",
     "iopub.status.busy": "2023-07-22T00:13:51.844787Z",
     "iopub.status.idle": "2023-07-22T00:13:52.006971Z",
     "shell.execute_reply": "2023-07-22T00:13:52.005446Z"
    },
    "papermill": {
     "duration": 0.178421,
     "end_time": "2023-07-22T00:13:52.010416",
     "exception": false,
     "start_time": "2023-07-22T00:13:51.831995",
     "status": "completed"
    },
    "tags": []
   },
   "outputs": [
    {
     "data": {
      "text/plain": [
       "SimpleImputer(strategy='most_frequent')"
      ]
     },
     "execution_count": 16,
     "metadata": {},
     "output_type": "execute_result"
    }
   ],
   "source": [
    "from sklearn.impute import SimpleImputer\n",
    "\n",
    "simpleImputer = SimpleImputer(strategy=\"most_frequent\")\n",
    "simpleImputer.fit(data)"
   ]
  },
  {
   "cell_type": "code",
   "execution_count": 17,
   "id": "8e2899f7",
   "metadata": {
    "execution": {
     "iopub.execute_input": "2023-07-22T00:13:52.036113Z",
     "iopub.status.busy": "2023-07-22T00:13:52.035590Z",
     "iopub.status.idle": "2023-07-22T00:13:52.055010Z",
     "shell.execute_reply": "2023-07-22T00:13:52.053771Z"
    },
    "papermill": {
     "duration": 0.037023,
     "end_time": "2023-07-22T00:13:52.059232",
     "exception": false,
     "start_time": "2023-07-22T00:13:52.022209",
     "status": "completed"
    },
    "tags": []
   },
   "outputs": [
    {
     "data": {
      "text/html": [
       "<div>\n",
       "<style scoped>\n",
       "    .dataframe tbody tr th:only-of-type {\n",
       "        vertical-align: middle;\n",
       "    }\n",
       "\n",
       "    .dataframe tbody tr th {\n",
       "        vertical-align: top;\n",
       "    }\n",
       "\n",
       "    .dataframe thead th {\n",
       "        text-align: right;\n",
       "    }\n",
       "</style>\n",
       "<table border=\"1\" class=\"dataframe\">\n",
       "  <thead>\n",
       "    <tr style=\"text-align: right;\">\n",
       "      <th></th>\n",
       "      <th>email</th>\n",
       "      <th>Subject</th>\n",
       "      <th>content</th>\n",
       "    </tr>\n",
       "  </thead>\n",
       "  <tbody>\n",
       "    <tr>\n",
       "      <th>0</th>\n",
       "      <td>b\"From rssfeeds@jmason.org  Thu Oct  3 12:24:3...</td>\n",
       "      <td>vintag music archiv</td>\n",
       "      <td>url number hour radio station realaudio archiv...</td>\n",
       "    </tr>\n",
       "    <tr>\n",
       "      <th>1</th>\n",
       "      <td>b'From spamassassin-talk-admin@lists.sourcefor...</td>\n",
       "      <td>satalk compil error digit unix</td>\n",
       "      <td>hi i'm tri build sa digit unix numberf receiv ...</td>\n",
       "    </tr>\n",
       "    <tr>\n",
       "      <th>2</th>\n",
       "      <td>b'Return-Path: &lt;Online#3.20502.53-KAuEgBlRpyKZ...</td>\n",
       "      <td>olympu brio dnumber number megapixel digit cam...</td>\n",
       "      <td>weekli nametopa header tabl widthnumb valignto...</td>\n",
       "    </tr>\n",
       "  </tbody>\n",
       "</table>\n",
       "</div>"
      ],
      "text/plain": [
       "                                               email  \\\n",
       "0  b\"From rssfeeds@jmason.org  Thu Oct  3 12:24:3...   \n",
       "1  b'From spamassassin-talk-admin@lists.sourcefor...   \n",
       "2  b'Return-Path: <Online#3.20502.53-KAuEgBlRpyKZ...   \n",
       "\n",
       "                                             Subject  \\\n",
       "0                                vintag music archiv   \n",
       "1                     satalk compil error digit unix   \n",
       "2  olympu brio dnumber number megapixel digit cam...   \n",
       "\n",
       "                                             content  \n",
       "0  url number hour radio station realaudio archiv...  \n",
       "1  hi i'm tri build sa digit unix numberf receiv ...  \n",
       "2  weekli nametopa header tabl widthnumb valignto...  "
      ]
     },
     "execution_count": 17,
     "metadata": {},
     "output_type": "execute_result"
    }
   ],
   "source": [
    "X = simpleImputer.transform(data)\n",
    "data_tr = pd.DataFrame(X, columns=data.columns)\n",
    "data_tr.head(3)"
   ]
  },
  {
   "cell_type": "code",
   "execution_count": 18,
   "id": "819fdca3",
   "metadata": {
    "execution": {
     "iopub.execute_input": "2023-07-22T00:13:52.085532Z",
     "iopub.status.busy": "2023-07-22T00:13:52.085066Z",
     "iopub.status.idle": "2023-07-22T00:13:52.101739Z",
     "shell.execute_reply": "2023-07-22T00:13:52.100419Z"
    },
    "papermill": {
     "duration": 0.03308,
     "end_time": "2023-07-22T00:13:52.104736",
     "exception": false,
     "start_time": "2023-07-22T00:13:52.071656",
     "status": "completed"
    },
    "tags": []
   },
   "outputs": [
    {
     "name": "stdout",
     "output_type": "stream",
     "text": [
      "<class 'pandas.core.frame.DataFrame'>\n",
      "Int64Index: 0 entries\n",
      "Data columns (total 3 columns):\n",
      " #   Column   Non-Null Count  Dtype \n",
      "---  ------   --------------  ----- \n",
      " 0   email    0 non-null      object\n",
      " 1   Subject  0 non-null      object\n",
      " 2   content  0 non-null      object\n",
      "dtypes: object(3)\n",
      "memory usage: 0.0+ bytes\n"
     ]
    }
   ],
   "source": [
    "data_tr[data_tr.isnull().any(axis=1)].info()"
   ]
  },
  {
   "cell_type": "code",
   "execution_count": 19,
   "id": "2030d041",
   "metadata": {
    "execution": {
     "iopub.execute_input": "2023-07-22T00:13:52.130681Z",
     "iopub.status.busy": "2023-07-22T00:13:52.130218Z",
     "iopub.status.idle": "2023-07-22T00:13:52.139634Z",
     "shell.execute_reply": "2023-07-22T00:13:52.138117Z"
    },
    "papermill": {
     "duration": 0.025973,
     "end_time": "2023-07-22T00:13:52.142708",
     "exception": false,
     "start_time": "2023-07-22T00:13:52.116735",
     "status": "completed"
    },
    "tags": []
   },
   "outputs": [
    {
     "data": {
      "text/plain": [
       "False"
      ]
     },
     "execution_count": 19,
     "metadata": {},
     "output_type": "execute_result"
    }
   ],
   "source": [
    "data_labels.isnull().any()"
   ]
  },
  {
   "cell_type": "code",
   "execution_count": 20,
   "id": "bca1676b",
   "metadata": {
    "execution": {
     "iopub.execute_input": "2023-07-22T00:13:52.169477Z",
     "iopub.status.busy": "2023-07-22T00:13:52.168971Z",
     "iopub.status.idle": "2023-07-22T00:13:52.196656Z",
     "shell.execute_reply": "2023-07-22T00:13:52.195278Z"
    },
    "papermill": {
     "duration": 0.044289,
     "end_time": "2023-07-22T00:13:52.199460",
     "exception": false,
     "start_time": "2023-07-22T00:13:52.155171",
     "status": "completed"
    },
    "tags": []
   },
   "outputs": [
    {
     "data": {
      "text/plain": [
       "<2450x2436 sparse matrix of type '<class 'numpy.float64'>'\n",
       "\twith 2450 stored elements in Compressed Sparse Row format>"
      ]
     },
     "execution_count": 20,
     "metadata": {},
     "output_type": "execute_result"
    }
   ],
   "source": [
    "from sklearn.preprocessing import OneHotEncoder\n",
    "\n",
    "oneHotEncoder = OneHotEncoder()\n",
    "email_1hot = oneHotEncoder.fit_transform(pd.DataFrame(data.email, columns=[\"email\"]))\n",
    "\n",
    "email_1hot"
   ]
  },
  {
   "cell_type": "code",
   "execution_count": 21,
   "id": "c3cd8444",
   "metadata": {
    "execution": {
     "iopub.execute_input": "2023-07-22T00:13:52.226004Z",
     "iopub.status.busy": "2023-07-22T00:13:52.225519Z",
     "iopub.status.idle": "2023-07-22T00:13:52.235923Z",
     "shell.execute_reply": "2023-07-22T00:13:52.234597Z"
    },
    "papermill": {
     "duration": 0.027536,
     "end_time": "2023-07-22T00:13:52.239110",
     "exception": false,
     "start_time": "2023-07-22T00:13:52.211574",
     "status": "completed"
    },
    "tags": []
   },
   "outputs": [],
   "source": [
    "from sklearn.pipeline import Pipeline\n",
    "\n",
    "pipeline = Pipeline([\n",
    "    (\"imputer\", SimpleImputer(strategy=\"most_frequent\")),\n",
    "    (\"to_Vect\", OneHotEncoder())\n",
    "])"
   ]
  },
  {
   "cell_type": "code",
   "execution_count": 22,
   "id": "7c914a4b",
   "metadata": {
    "execution": {
     "iopub.execute_input": "2023-07-22T00:13:52.265959Z",
     "iopub.status.busy": "2023-07-22T00:13:52.265524Z",
     "iopub.status.idle": "2023-07-22T00:13:52.846528Z",
     "shell.execute_reply": "2023-07-22T00:13:52.845149Z"
    },
    "papermill": {
     "duration": 0.598345,
     "end_time": "2023-07-22T00:13:52.849672",
     "exception": false,
     "start_time": "2023-07-22T00:13:52.251327",
     "status": "completed"
    },
    "tags": []
   },
   "outputs": [],
   "source": [
    "from nltk.stem import PorterStemmer\n",
    "from nltk.stem import WordNetLemmatizer\n",
    "stemmer = PorterStemmer()\n",
    "lemmatizer = WordNetLemmatizer()\n",
    "dirty_text = \"He studies in the house yesterday, unluckily, the fans breaks down\"\n",
    "def word_stemmer(words):\n",
    "    stem_words = [stemmer.stem(o) for o in words]\n",
    "    return \" \".join(stem_words)\n",
    "def word_lemmatizer(words):\n",
    "   lemma_words = [lemmatizer.lemmatize(o) for o in words]\n",
    "   return \" \".join(lemma_words)"
   ]
  },
  {
   "cell_type": "code",
   "execution_count": 23,
   "id": "f468bf2d",
   "metadata": {
    "execution": {
     "iopub.execute_input": "2023-07-22T00:13:52.876402Z",
     "iopub.status.busy": "2023-07-22T00:13:52.875754Z",
     "iopub.status.idle": "2023-07-22T00:13:52.884665Z",
     "shell.execute_reply": "2023-07-22T00:13:52.883316Z"
    },
    "papermill": {
     "duration": 0.0253,
     "end_time": "2023-07-22T00:13:52.887142",
     "exception": false,
     "start_time": "2023-07-22T00:13:52.861842",
     "status": "completed"
    },
    "tags": []
   },
   "outputs": [
    {
     "data": {
      "text/plain": [
       "'he studi in the hous yesterday, unluckily, the fan break down'"
      ]
     },
     "execution_count": 23,
     "metadata": {},
     "output_type": "execute_result"
    }
   ],
   "source": [
    "clean_text = word_stemmer(dirty_text.split(\" \"))\n",
    "clean_text\n",
    "\n",
    "#Output\n",
    "#'He studi in the hous yesterday, unluckily, the fan break down'"
   ]
  },
  {
   "cell_type": "code",
   "execution_count": 24,
   "id": "79ee39ef",
   "metadata": {
    "execution": {
     "iopub.execute_input": "2023-07-22T00:13:52.913698Z",
     "iopub.status.busy": "2023-07-22T00:13:52.913176Z",
     "iopub.status.idle": "2023-07-22T00:13:55.506953Z",
     "shell.execute_reply": "2023-07-22T00:13:55.505708Z"
    },
    "papermill": {
     "duration": 2.610833,
     "end_time": "2023-07-22T00:13:55.510015",
     "exception": false,
     "start_time": "2023-07-22T00:13:52.899182",
     "status": "completed"
    },
    "tags": []
   },
   "outputs": [
    {
     "data": {
      "text/plain": [
       "'He study in the house yesterday, unluckily, the fan break down'"
      ]
     },
     "execution_count": 24,
     "metadata": {},
     "output_type": "execute_result"
    }
   ],
   "source": [
    "clean_text2 = word_lemmatizer(dirty_text.split(\" \"))\n",
    "clean_text2\n",
    "\n",
    "#Output\n",
    "#'I study in the house yesterday, unluckily, the fan break down'"
   ]
  }
 ],
 "metadata": {
  "kernelspec": {
   "display_name": "Python 3",
   "language": "python",
   "name": "python3"
  },
  "language_info": {
   "codemirror_mode": {
    "name": "ipython",
    "version": 3
   },
   "file_extension": ".py",
   "mimetype": "text/x-python",
   "name": "python",
   "nbconvert_exporter": "python",
   "pygments_lexer": "ipython3",
   "version": "3.7.12"
  },
  "papermill": {
   "default_parameters": {},
   "duration": 19.377146,
   "end_time": "2023-07-22T00:13:56.849759",
   "environment_variables": {},
   "exception": null,
   "input_path": "__notebook__.ipynb",
   "output_path": "__notebook__.ipynb",
   "parameters": {},
   "start_time": "2023-07-22T00:13:37.472613",
   "version": "2.3.4"
  }
 },
 "nbformat": 4,
 "nbformat_minor": 5
}
