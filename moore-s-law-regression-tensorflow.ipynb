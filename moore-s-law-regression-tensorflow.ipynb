{
 "cells": [
  {
   "cell_type": "code",
   "execution_count": 1,
   "id": "cddaa433",
   "metadata": {
    "_cell_guid": "b1076dfc-b9ad-4769-8c92-a6c4dae69d19",
    "_uuid": "8f2839f25d086af736a60e9eeb907d3b93b6e0e5",
    "execution": {
     "iopub.execute_input": "2023-10-15T01:06:10.218060Z",
     "iopub.status.busy": "2023-10-15T01:06:10.217148Z",
     "iopub.status.idle": "2023-10-15T01:06:20.366805Z",
     "shell.execute_reply": "2023-10-15T01:06:20.365642Z"
    },
    "papermill": {
     "duration": 10.15972,
     "end_time": "2023-10-15T01:06:20.369266",
     "exception": false,
     "start_time": "2023-10-15T01:06:10.209546",
     "status": "completed"
    },
    "tags": []
   },
   "outputs": [],
   "source": [
    "import tensorflow as tf"
   ]
  },
  {
   "cell_type": "code",
   "execution_count": 2,
   "id": "600a524a",
   "metadata": {
    "execution": {
     "iopub.execute_input": "2023-10-15T01:06:20.381310Z",
     "iopub.status.busy": "2023-10-15T01:06:20.380298Z",
     "iopub.status.idle": "2023-10-15T01:06:21.372567Z",
     "shell.execute_reply": "2023-10-15T01:06:21.371417Z"
    },
    "papermill": {
     "duration": 0.999919,
     "end_time": "2023-10-15T01:06:21.375023",
     "exception": false,
     "start_time": "2023-10-15T01:06:20.375104",
     "status": "completed"
    },
    "tags": []
   },
   "outputs": [],
   "source": [
    "import pandas as pd\n",
    "import numpy as np\n",
    "import matplotlib.pyplot as plt\n",
    "\n",
    "from sklearn.preprocessing import MinMaxScaler\n",
    "from sklearn.model_selection import train_test_split"
   ]
  },
  {
   "cell_type": "code",
   "execution_count": 3,
   "id": "18f7c784",
   "metadata": {
    "execution": {
     "iopub.execute_input": "2023-10-15T01:06:21.384771Z",
     "iopub.status.busy": "2023-10-15T01:06:21.384393Z",
     "iopub.status.idle": "2023-10-15T01:06:22.712320Z",
     "shell.execute_reply": "2023-10-15T01:06:22.710543Z"
    },
    "papermill": {
     "duration": 1.336012,
     "end_time": "2023-10-15T01:06:22.714994",
     "exception": false,
     "start_time": "2023-10-15T01:06:21.378982",
     "status": "completed"
    },
    "tags": []
   },
   "outputs": [
    {
     "name": "stdout",
     "output_type": "stream",
     "text": [
      "--2023-10-15 01:06:22--  https://raw.githubusercontent.com/lazyprogrammer/machine_learning_examples/master/tf2.0/moore.csv\r\n",
      "Resolving raw.githubusercontent.com (raw.githubusercontent.com)... 185.199.108.133, 185.199.109.133, 185.199.110.133, ...\r\n",
      "Connecting to raw.githubusercontent.com (raw.githubusercontent.com)|185.199.108.133|:443... connected.\r\n",
      "HTTP request sent, awaiting response... 200 OK\r\n",
      "Length: 2302 (2.2K) [text/plain]\r\n",
      "Saving to: ‘moore.csv’\r\n",
      "\r\n",
      "moore.csv           100%[===================>]   2.25K  --.-KB/s    in 0s      \r\n",
      "\r\n",
      "2023-10-15 01:06:22 (31.7 MB/s) - ‘moore.csv’ saved [2302/2302]\r\n",
      "\r\n"
     ]
    }
   ],
   "source": [
    "!wget https://raw.githubusercontent.com/lazyprogrammer/machine_learning_examples/master/tf2.0/moore.csv"
   ]
  },
  {
   "cell_type": "code",
   "execution_count": 4,
   "id": "b115ec7a",
   "metadata": {
    "execution": {
     "iopub.execute_input": "2023-10-15T01:06:22.725850Z",
     "iopub.status.busy": "2023-10-15T01:06:22.725072Z",
     "iopub.status.idle": "2023-10-15T01:06:23.852328Z",
     "shell.execute_reply": "2023-10-15T01:06:23.850870Z"
    },
    "papermill": {
     "duration": 1.135219,
     "end_time": "2023-10-15T01:06:23.854517",
     "exception": false,
     "start_time": "2023-10-15T01:06:22.719298",
     "status": "completed"
    },
    "tags": []
   },
   "outputs": [
    {
     "name": "stdout",
     "output_type": "stream",
     "text": [
      "1971,2300\r\n",
      "1972,3500\r\n",
      "1973,2500\r\n",
      "1973,2500\r\n",
      "1974,4100\r\n",
      "1974,4500\r\n",
      "1974,8000\r\n",
      "1975,3510\r\n",
      "1976,5000\r\n",
      "1976,8500\r\n"
     ]
    }
   ],
   "source": [
    "!head moore.csv"
   ]
  },
  {
   "cell_type": "code",
   "execution_count": 5,
   "id": "f8d3e7a1",
   "metadata": {
    "execution": {
     "iopub.execute_input": "2023-10-15T01:06:23.865660Z",
     "iopub.status.busy": "2023-10-15T01:06:23.864943Z",
     "iopub.status.idle": "2023-10-15T01:06:23.878857Z",
     "shell.execute_reply": "2023-10-15T01:06:23.877841Z"
    },
    "papermill": {
     "duration": 0.022218,
     "end_time": "2023-10-15T01:06:23.881232",
     "exception": false,
     "start_time": "2023-10-15T01:06:23.859014",
     "status": "completed"
    },
    "tags": []
   },
   "outputs": [],
   "source": [
    "data = pd.read_csv('moore.csv')"
   ]
  },
  {
   "cell_type": "code",
   "execution_count": 6,
   "id": "8e076e3d",
   "metadata": {
    "execution": {
     "iopub.execute_input": "2023-10-15T01:06:23.891509Z",
     "iopub.status.busy": "2023-10-15T01:06:23.891164Z",
     "iopub.status.idle": "2023-10-15T01:06:23.900632Z",
     "shell.execute_reply": "2023-10-15T01:06:23.899980Z"
    },
    "papermill": {
     "duration": 0.017262,
     "end_time": "2023-10-15T01:06:23.902807",
     "exception": false,
     "start_time": "2023-10-15T01:06:23.885545",
     "status": "completed"
    },
    "tags": []
   },
   "outputs": [
    {
     "data": {
      "text/plain": [
       "array([[       1972,        3500],\n",
       "       [       1973,        2500],\n",
       "       [       1973,        2500],\n",
       "       [       1974,        4100],\n",
       "       [       1974,        4500],\n",
       "       [       1974,        8000],\n",
       "       [       1975,        3510],\n",
       "       [       1976,        5000],\n",
       "       [       1976,        8500],\n",
       "       [       1976,        6500],\n",
       "       [       1978,        9000],\n",
       "       [       1978,       29000],\n",
       "       [       1979,       17500],\n",
       "       [       1979,       29000],\n",
       "       [       1979,       68000],\n",
       "       [       1981,       11500],\n",
       "       [       1982,       55000],\n",
       "       [       1982,      134000],\n",
       "       [       1983,       22000],\n",
       "       [       1984,       63000],\n",
       "       [       1984,      190000],\n",
       "       [       1985,      275000],\n",
       "       [       1985,       25000],\n",
       "       [       1985,       16000],\n",
       "       [       1986,      110000],\n",
       "       [       1986,      375000],\n",
       "       [       1986,       30000],\n",
       "       [       1987,      385000],\n",
       "       [       1987,      730000],\n",
       "       [       1987,      273000],\n",
       "       [       1987,      553000],\n",
       "       [       1988,      180000],\n",
       "       [       1988,      250000],\n",
       "       [       1989,      600000],\n",
       "       [       1989,     1000000],\n",
       "       [       1989,     1180235],\n",
       "       [       1989,      310000],\n",
       "       [       1990,     1200000],\n",
       "       [       1991,     1350000],\n",
       "       [       1991,       35000],\n",
       "       [       1992,      600000],\n",
       "       [       1992,      900000],\n",
       "       [       1993,     2800000],\n",
       "       [       1993,     3100000],\n",
       "       [       1994,      578977],\n",
       "       [       1994,     2500000],\n",
       "       [       1995,     2500000],\n",
       "       [       1999,      111000],\n",
       "       [       1995,     5500000],\n",
       "       [       1996,     4300000],\n",
       "       [       1997,    10000000],\n",
       "       [       1997,     7500000],\n",
       "       [       1997,     8800000],\n",
       "       [       1998,     7500000],\n",
       "       [       1999,     9500000],\n",
       "       [       1999,    13500000],\n",
       "       [       2000,    21000000],\n",
       "       [       2000,    21000000],\n",
       "       [       1999,    27400000],\n",
       "       [       1999,    21300000],\n",
       "       [       1999,    22000000],\n",
       "       [       2000,    42000000],\n",
       "       [       2001,   191000000],\n",
       "       [       2001,    45000000],\n",
       "       [       2002,    55000000],\n",
       "       [       2004,   112000000],\n",
       "       [       2004,   400000000],\n",
       "       [       2005,   169000000],\n",
       "       [       2006,   184000000],\n",
       "       [       2005,   228000000],\n",
       "       [       2006,   362000000],\n",
       "       [       2007,   540000000],\n",
       "       [       2008,    47000000],\n",
       "       [       2003,    54300000],\n",
       "       [       2003,   105900000],\n",
       "       [       2002,   220000000],\n",
       "       [       2005,   165000000],\n",
       "       [       2005,   250000000],\n",
       "       [       2006,   291000000],\n",
       "       [       2007,   169000000],\n",
       "       [       2003,   410000000],\n",
       "       [       2008,   600000000],\n",
       "       [       2009,   760000000],\n",
       "       [       2011,  1870000000],\n",
       "       [       2012,   432000000],\n",
       "       [       2007,   463000000],\n",
       "       [       2007,    26000000],\n",
       "       [       2008,   230000000],\n",
       "       [       2004,   592000000],\n",
       "       [       2007,   411000000],\n",
       "       [       2008,   731000000],\n",
       "       [       2008,   758000000],\n",
       "       [       2007,   789000000],\n",
       "       [       2009,   904000000],\n",
       "       [       2010,  1000000000],\n",
       "       [       2012,  2990000000],\n",
       "       [       2013,  1000000000],\n",
       "       [       2011,  1160000000],\n",
       "       [       2010,  1170000000],\n",
       "       [       2010,  1200000000],\n",
       "       [       2012,  1200000000],\n",
       "       [       2012,  1303000000],\n",
       "       [       2010,  1400000000],\n",
       "       [       2012,  1400000000],\n",
       "       [       2014,  1400000000],\n",
       "       [       2006,  1700000000],\n",
       "       [       2015,  1750000000],\n",
       "       [       2013,  1860000000],\n",
       "       [       2015,  1900000000],\n",
       "       [       2008,  1900000000],\n",
       "       [       2010,  2000000000],\n",
       "       [       2014,  2000000000],\n",
       "       [       2015,  2000000000],\n",
       "       [       2015,  3000000000],\n",
       "       [       2012,  2100000000],\n",
       "       [       2011,  2270000000],\n",
       "       [       2010,  2300000000],\n",
       "       [       2014,  2600000000],\n",
       "       [       2011,  2600000000],\n",
       "       [       2012,  2750000000],\n",
       "       [       2014,  3000000000],\n",
       "       [       2016,  3000000000],\n",
       "       [       2017,  5300000000],\n",
       "       [       2017,  5300000000],\n",
       "       [       2018,  8500000000],\n",
       "       [       2012,  3100000000],\n",
       "       [       2016,  3200000000],\n",
       "       [       2016,  3300000000],\n",
       "       [       2015,  3990000000],\n",
       "       [       2013,  4200000000],\n",
       "       [       2017,  4300000000],\n",
       "       [       2014,  4310000000],\n",
       "       [       2017,  4800000000],\n",
       "       [       2017,  4800000000],\n",
       "       [       2017,  4800000000],\n",
       "       [       2012,  5000000000],\n",
       "       [       2013,  5000000000],\n",
       "       [       2014,  5560000000],\n",
       "       [       2017,  6100000000],\n",
       "       [       2018,  6900000000],\n",
       "       [       2016,  4000000000],\n",
       "       [       2018,  6900000000],\n",
       "       [       2017,  5500000000],\n",
       "       [       2018,  5500000000],\n",
       "       [       2017,  7000000000],\n",
       "       [       2015,  7100000000],\n",
       "       [       2017,  8000000000],\n",
       "       [       2016,  7200000000],\n",
       "       [       2017,  8000000000],\n",
       "       [       2016,  8000000000],\n",
       "       [       2017,  9700000000],\n",
       "       [       2017,   250000000],\n",
       "       [       2015, 10000000000],\n",
       "       [       2017,  5450000000],\n",
       "       [       2018, 10000000000],\n",
       "       [       2017,  4300000000],\n",
       "       [       2017, 18000000000],\n",
       "       [       2017, 19200000000],\n",
       "       [       2018,  8876000000],\n",
       "       [       2018, 23600000000],\n",
       "       [       2018,  9000000000]])"
      ]
     },
     "execution_count": 6,
     "metadata": {},
     "output_type": "execute_result"
    }
   ],
   "source": [
    "data = data.to_numpy()\n",
    "data"
   ]
  },
  {
   "cell_type": "code",
   "execution_count": 7,
   "id": "a9f03806",
   "metadata": {
    "execution": {
     "iopub.execute_input": "2023-10-15T01:06:23.913406Z",
     "iopub.status.busy": "2023-10-15T01:06:23.912853Z",
     "iopub.status.idle": "2023-10-15T01:06:23.916520Z",
     "shell.execute_reply": "2023-10-15T01:06:23.915844Z"
    },
    "papermill": {
     "duration": 0.010953,
     "end_time": "2023-10-15T01:06:23.918239",
     "exception": false,
     "start_time": "2023-10-15T01:06:23.907286",
     "status": "completed"
    },
    "tags": []
   },
   "outputs": [],
   "source": [
    "X = data[:,0].reshape(-1, 1)\n",
    "y = data[:,1]"
   ]
  },
  {
   "cell_type": "code",
   "execution_count": 8,
   "id": "a44e4c80",
   "metadata": {
    "execution": {
     "iopub.execute_input": "2023-10-15T01:06:23.929152Z",
     "iopub.status.busy": "2023-10-15T01:06:23.928598Z",
     "iopub.status.idle": "2023-10-15T01:06:24.225858Z",
     "shell.execute_reply": "2023-10-15T01:06:24.224761Z"
    },
    "papermill": {
     "duration": 0.305015,
     "end_time": "2023-10-15T01:06:24.227928",
     "exception": false,
     "start_time": "2023-10-15T01:06:23.922913",
     "status": "completed"
    },
    "tags": []
   },
   "outputs": [
    {
     "data": {
      "text/plain": [
       "<matplotlib.collections.PathCollection at 0x7e833a2328c0>"
      ]
     },
     "execution_count": 8,
     "metadata": {},
     "output_type": "execute_result"
    },
    {
     "data": {
      "image/png": "[encoded data removed]",
      "text/plain": [
       "<Figure size 640x480 with 1 Axes>"
      ]
     },
     "metadata": {},
     "output_type": "display_data"
    }
   ],
   "source": [
    "plt.scatter(X, y)"
   ]
  },
  {
   "cell_type": "code",
   "execution_count": 9,
   "id": "0e980ebb",
   "metadata": {
    "execution": {
     "iopub.execute_input": "2023-10-15T01:06:24.240202Z",
     "iopub.status.busy": "2023-10-15T01:06:24.239123Z",
     "iopub.status.idle": "2023-10-15T01:06:24.495860Z",
     "shell.execute_reply": "2023-10-15T01:06:24.494799Z"
    },
    "papermill": {
     "duration": 0.265091,
     "end_time": "2023-10-15T01:06:24.498139",
     "exception": false,
     "start_time": "2023-10-15T01:06:24.233048",
     "status": "completed"
    },
    "tags": []
   },
   "outputs": [
    {
     "data": {
      "text/plain": [
       "<matplotlib.collections.PathCollection at 0x7e833a13c940>"
      ]
     },
     "execution_count": 9,
     "metadata": {},
     "output_type": "execute_result"
    },
    {
     "data": {
      "image/png": "[encoded data removed]",
      "text/plain": [
       "<Figure size 640x480 with 1 Axes>"
      ]
     },
     "metadata": {},
     "output_type": "display_data"
    }
   ],
   "source": [
    "y = np.log(y)\n",
    "plt.scatter(X, y)"
   ]
  },
  {
   "cell_type": "code",
   "execution_count": 10,
   "id": "61464a6c",
   "metadata": {
    "execution": {
     "iopub.execute_input": "2023-10-15T01:06:24.511596Z",
     "iopub.status.busy": "2023-10-15T01:06:24.511214Z",
     "iopub.status.idle": "2023-10-15T01:06:24.764935Z",
     "shell.execute_reply": "2023-10-15T01:06:24.763977Z"
    },
    "papermill": {
     "duration": 0.262877,
     "end_time": "2023-10-15T01:06:24.767099",
     "exception": false,
     "start_time": "2023-10-15T01:06:24.504222",
     "status": "completed"
    },
    "tags": []
   },
   "outputs": [
    {
     "data": {
      "text/plain": [
       "<matplotlib.collections.PathCollection at 0x7e831760b730>"
      ]
     },
     "execution_count": 10,
     "metadata": {},
     "output_type": "execute_result"
    },
    {
     "data": {
      "image/png": "[encoded data removed]",
      "text/plain": [
       "<Figure size 640x480 with 1 Axes>"
      ]
     },
     "metadata": {},
     "output_type": "display_data"
    }
   ],
   "source": [
    "X_tr = (X - X.mean())\n",
    "# scaler = MinMaxScaler()\n",
    "# X_tr = scaler.fit_transform(X)\n",
    "plt.scatter(X_tr, y)"
   ]
  },
  {
   "cell_type": "code",
   "execution_count": 11,
   "id": "508a1d20",
   "metadata": {
    "execution": {
     "iopub.execute_input": "2023-10-15T01:06:24.780953Z",
     "iopub.status.busy": "2023-10-15T01:06:24.780235Z",
     "iopub.status.idle": "2023-10-15T01:06:24.785252Z",
     "shell.execute_reply": "2023-10-15T01:06:24.784106Z"
    },
    "papermill": {
     "duration": 0.014191,
     "end_time": "2023-10-15T01:06:24.787383",
     "exception": false,
     "start_time": "2023-10-15T01:06:24.773192",
     "status": "completed"
    },
    "tags": []
   },
   "outputs": [],
   "source": [
    "# X_train, X_test, y_train, y_test = train_test_split(X_tr, y, random_state=42, test_size=0.2)"
   ]
  },
  {
   "cell_type": "code",
   "execution_count": 12,
   "id": "1a1c50bc",
   "metadata": {
    "execution": {
     "iopub.execute_input": "2023-10-15T01:06:24.801624Z",
     "iopub.status.busy": "2023-10-15T01:06:24.800914Z",
     "iopub.status.idle": "2023-10-15T01:06:24.805720Z",
     "shell.execute_reply": "2023-10-15T01:06:24.804722Z"
    },
    "papermill": {
     "duration": 0.014201,
     "end_time": "2023-10-15T01:06:24.807897",
     "exception": false,
     "start_time": "2023-10-15T01:06:24.793696",
     "status": "completed"
    },
    "tags": []
   },
   "outputs": [],
   "source": [
    "# y_train"
   ]
  },
  {
   "cell_type": "code",
   "execution_count": 13,
   "id": "46caf815",
   "metadata": {
    "execution": {
     "iopub.execute_input": "2023-10-15T01:06:24.821892Z",
     "iopub.status.busy": "2023-10-15T01:06:24.821510Z",
     "iopub.status.idle": "2023-10-15T01:06:24.999199Z",
     "shell.execute_reply": "2023-10-15T01:06:24.998231Z"
    },
    "papermill": {
     "duration": 0.187245,
     "end_time": "2023-10-15T01:06:25.001450",
     "exception": false,
     "start_time": "2023-10-15T01:06:24.814205",
     "status": "completed"
    },
    "tags": []
   },
   "outputs": [],
   "source": [
    "model = tf.keras.models.Sequential([\n",
    "    tf.keras.layers.Input(shape=(1,)),\n",
    "    tf.keras.layers.Dense(1)\n",
    "])\n",
    "model.compile(optimizer=tf.keras.optimizers.SGD(0.001, 0.9),\n",
    "             loss='mse')"
   ]
  },
  {
   "cell_type": "code",
   "execution_count": 14,
   "id": "412e7bac",
   "metadata": {
    "execution": {
     "iopub.execute_input": "2023-10-15T01:06:25.015569Z",
     "iopub.status.busy": "2023-10-15T01:06:25.015016Z",
     "iopub.status.idle": "2023-10-15T01:06:25.019810Z",
     "shell.execute_reply": "2023-10-15T01:06:25.018944Z"
    },
    "papermill": {
     "duration": 0.014487,
     "end_time": "2023-10-15T01:06:25.022022",
     "exception": false,
     "start_time": "2023-10-15T01:06:25.007535",
     "status": "completed"
    },
    "tags": []
   },
   "outputs": [],
   "source": [
    "def schedule(epochs, lr):\n",
    "    if epochs >= 50:\n",
    "        return 0.0001\n",
    "    return 0.001\n",
    "\n",
    "scheduler = tf.keras.callbacks.LearningRateScheduler(schedule)"
   ]
  },
  {
   "cell_type": "code",
   "execution_count": 15,
   "id": "57e97930",
   "metadata": {
    "execution": {
     "iopub.execute_input": "2023-10-15T01:06:25.036009Z",
     "iopub.status.busy": "2023-10-15T01:06:25.035323Z",
     "iopub.status.idle": "2023-10-15T01:06:28.316352Z",
     "shell.execute_reply": "2023-10-15T01:06:28.315275Z"
    },
    "papermill": {
     "duration": 3.290089,
     "end_time": "2023-10-15T01:06:28.318413",
     "exception": false,
     "start_time": "2023-10-15T01:06:25.028324",
     "status": "completed"
    },
    "tags": []
   },
   "outputs": [
    {
     "name": "stdout",
     "output_type": "stream",
     "text": [
      "Epoch 1/200\n",
      "6/6 [==============================] - 0s 3ms/step - loss: 418.4034 - lr: 0.0010\n",
      "Epoch 2/200\n",
      "6/6 [==============================] - 0s 2ms/step - loss: 318.4422 - lr: 0.0010\n",
      "Epoch 3/200\n",
      "6/6 [==============================] - 0s 2ms/step - loss: 356.5088 - lr: 0.0010\n",
      "Epoch 4/200\n",
      "6/6 [==============================] - 0s 2ms/step - loss: 196.1131 - lr: 0.0010\n",
      "Epoch 5/200\n",
      "6/6 [==============================] - 0s 2ms/step - loss: 173.2250 - lr: 0.0010\n",
      "Epoch 6/200\n",
      "6/6 [==============================] - 0s 2ms/step - loss: 183.4618 - lr: 0.0010\n",
      "Epoch 7/200\n",
      "6/6 [==============================] - 0s 2ms/step - loss: 121.0041 - lr: 0.0010\n",
      "Epoch 8/200\n",
      "6/6 [==============================] - 0s 2ms/step - loss: 64.9643 - lr: 0.0010\n",
      "Epoch 9/200\n",
      "6/6 [==============================] - 0s 2ms/step - loss: 57.4095 - lr: 0.0010\n",
      "Epoch 10/200\n",
      "6/6 [==============================] - 0s 2ms/step - loss: 49.1982 - lr: 0.0010\n",
      "Epoch 11/200\n",
      "6/6 [==============================] - 0s 2ms/step - loss: 32.1478 - lr: 0.0010\n",
      "Epoch 12/200\n",
      "6/6 [==============================] - 0s 2ms/step - loss: 31.3324 - lr: 0.0010\n",
      "Epoch 13/200\n",
      "6/6 [==============================] - 0s 2ms/step - loss: 22.1427 - lr: 0.0010\n",
      "Epoch 14/200\n",
      "6/6 [==============================] - 0s 2ms/step - loss: 16.9718 - lr: 0.0010\n",
      "Epoch 15/200\n",
      "6/6 [==============================] - 0s 2ms/step - loss: 8.8136 - lr: 0.0010\n",
      "Epoch 16/200\n",
      "6/6 [==============================] - 0s 2ms/step - loss: 9.0097 - lr: 0.0010\n",
      "Epoch 17/200\n",
      "6/6 [==============================] - 0s 2ms/step - loss: 7.6783 - lr: 0.0010\n",
      "Epoch 18/200\n",
      "6/6 [==============================] - 0s 2ms/step - loss: 17.6469 - lr: 0.0010\n",
      "Epoch 19/200\n",
      "6/6 [==============================] - 0s 2ms/step - loss: 14.3713 - lr: 0.0010\n",
      "Epoch 20/200\n",
      "6/6 [==============================] - 0s 2ms/step - loss: 15.7299 - lr: 0.0010\n",
      "Epoch 21/200\n",
      "6/6 [==============================] - 0s 2ms/step - loss: 11.1521 - lr: 0.0010\n",
      "Epoch 22/200\n",
      "6/6 [==============================] - 0s 2ms/step - loss: 8.9684 - lr: 0.0010\n",
      "Epoch 23/200\n",
      "6/6 [==============================] - 0s 2ms/step - loss: 6.7941 - lr: 0.0010\n",
      "Epoch 24/200\n",
      "6/6 [==============================] - 0s 2ms/step - loss: 4.7210 - lr: 0.0010\n",
      "Epoch 25/200\n",
      "6/6 [==============================] - 0s 2ms/step - loss: 4.0199 - lr: 0.0010\n",
      "Epoch 26/200\n",
      "6/6 [==============================] - 0s 2ms/step - loss: 2.8496 - lr: 0.0010\n",
      "Epoch 27/200\n",
      "6/6 [==============================] - 0s 2ms/step - loss: 1.9540 - lr: 0.0010\n",
      "Epoch 28/200\n",
      "6/6 [==============================] - 0s 2ms/step - loss: 1.4628 - lr: 0.0010\n",
      "Epoch 29/200\n",
      "6/6 [==============================] - 0s 2ms/step - loss: 2.8183 - lr: 0.0010\n",
      "Epoch 30/200\n",
      "6/6 [==============================] - 0s 2ms/step - loss: 2.3858 - lr: 0.0010\n",
      "Epoch 31/200\n",
      "6/6 [==============================] - 0s 2ms/step - loss: 2.4941 - lr: 0.0010\n",
      "Epoch 32/200\n",
      "6/6 [==============================] - 0s 2ms/step - loss: 2.0226 - lr: 0.0010\n",
      "Epoch 33/200\n",
      "6/6 [==============================] - 0s 2ms/step - loss: 1.9105 - lr: 0.0010\n",
      "Epoch 34/200\n",
      "6/6 [==============================] - 0s 2ms/step - loss: 1.4645 - lr: 0.0010\n",
      "Epoch 35/200\n",
      "6/6 [==============================] - 0s 2ms/step - loss: 1.4519 - lr: 0.0010\n",
      "Epoch 36/200\n",
      "6/6 [==============================] - 0s 2ms/step - loss: 1.0511 - lr: 0.0010\n",
      "Epoch 37/200\n",
      "6/6 [==============================] - 0s 2ms/step - loss: 2.2661 - lr: 0.0010\n",
      "Epoch 38/200\n",
      "6/6 [==============================] - 0s 2ms/step - loss: 3.5828 - lr: 0.0010\n",
      "Epoch 39/200\n",
      "6/6 [==============================] - 0s 2ms/step - loss: 1.6391 - lr: 0.0010\n",
      "Epoch 40/200\n",
      "6/6 [==============================] - 0s 2ms/step - loss: 1.2889 - lr: 0.0010\n",
      "Epoch 41/200\n",
      "6/6 [==============================] - 0s 2ms/step - loss: 3.5773 - lr: 0.0010\n",
      "Epoch 42/200\n",
      "6/6 [==============================] - 0s 2ms/step - loss: 3.8196 - lr: 0.0010\n",
      "Epoch 43/200\n",
      "6/6 [==============================] - 0s 1ms/step - loss: 1.7964 - lr: 0.0010\n",
      "Epoch 44/200\n",
      "6/6 [==============================] - 0s 2ms/step - loss: 1.6614 - lr: 0.0010\n",
      "Epoch 45/200\n",
      "6/6 [==============================] - 0s 2ms/step - loss: 1.3917 - lr: 0.0010\n",
      "Epoch 46/200\n",
      "6/6 [==============================] - 0s 2ms/step - loss: 0.9846 - lr: 0.0010\n",
      "Epoch 47/200\n",
      "6/6 [==============================] - 0s 2ms/step - loss: 0.9444 - lr: 0.0010\n",
      "Epoch 48/200\n",
      "6/6 [==============================] - 0s 2ms/step - loss: 0.9446 - lr: 0.0010\n",
      "Epoch 49/200\n",
      "6/6 [==============================] - 0s 2ms/step - loss: 0.8798 - lr: 0.0010\n",
      "Epoch 50/200\n",
      "6/6 [==============================] - 0s 2ms/step - loss: 0.9478 - lr: 0.0010\n",
      "Epoch 51/200\n",
      "6/6 [==============================] - 0s 2ms/step - loss: 1.4805 - lr: 1.0000e-04\n",
      "Epoch 52/200\n",
      "6/6 [==============================] - 0s 2ms/step - loss: 2.2258 - lr: 1.0000e-04\n",
      "Epoch 53/200\n",
      "6/6 [==============================] - 0s 2ms/step - loss: 1.0617 - lr: 1.0000e-04\n",
      "Epoch 54/200\n",
      "6/6 [==============================] - 0s 2ms/step - loss: 1.1510 - lr: 1.0000e-04\n",
      "Epoch 55/200\n",
      "6/6 [==============================] - 0s 2ms/step - loss: 1.0289 - lr: 1.0000e-04\n",
      "Epoch 56/200\n",
      "6/6 [==============================] - 0s 2ms/step - loss: 0.8981 - lr: 1.0000e-04\n",
      "Epoch 57/200\n",
      "6/6 [==============================] - 0s 2ms/step - loss: 0.9242 - lr: 1.0000e-04\n",
      "Epoch 58/200\n",
      "6/6 [==============================] - 0s 2ms/step - loss: 0.9238 - lr: 1.0000e-04\n",
      "Epoch 59/200\n",
      "6/6 [==============================] - 0s 1ms/step - loss: 0.8747 - lr: 1.0000e-04\n",
      "Epoch 60/200\n",
      "6/6 [==============================] - 0s 2ms/step - loss: 0.8907 - lr: 1.0000e-04\n",
      "Epoch 61/200\n",
      "6/6 [==============================] - 0s 1ms/step - loss: 0.9228 - lr: 1.0000e-04\n",
      "Epoch 62/200\n",
      "6/6 [==============================] - 0s 2ms/step - loss: 0.8682 - lr: 1.0000e-04\n",
      "Epoch 63/200\n",
      "6/6 [==============================] - 0s 2ms/step - loss: 1.0253 - lr: 1.0000e-04\n",
      "Epoch 64/200\n",
      "6/6 [==============================] - 0s 2ms/step - loss: 0.9178 - lr: 1.0000e-04\n",
      "Epoch 65/200\n",
      "6/6 [==============================] - 0s 2ms/step - loss: 0.8863 - lr: 1.0000e-04\n",
      "Epoch 66/200\n",
      "6/6 [==============================] - 0s 1ms/step - loss: 0.9187 - lr: 1.0000e-04\n",
      "Epoch 67/200\n",
      "6/6 [==============================] - 0s 2ms/step - loss: 0.8870 - lr: 1.0000e-04\n",
      "Epoch 68/200\n",
      "6/6 [==============================] - 0s 2ms/step - loss: 0.8826 - lr: 1.0000e-04\n",
      "Epoch 69/200\n",
      "6/6 [==============================] - 0s 2ms/step - loss: 0.8834 - lr: 1.0000e-04\n",
      "Epoch 70/200\n",
      "6/6 [==============================] - 0s 2ms/step - loss: 0.8758 - lr: 1.0000e-04\n",
      "Epoch 71/200\n",
      "6/6 [==============================] - 0s 2ms/step - loss: 0.8865 - lr: 1.0000e-04\n",
      "Epoch 72/200\n",
      "6/6 [==============================] - 0s 2ms/step - loss: 0.8849 - lr: 1.0000e-04\n",
      "Epoch 73/200\n",
      "6/6 [==============================] - 0s 2ms/step - loss: 0.8851 - lr: 1.0000e-04\n",
      "Epoch 74/200\n",
      "6/6 [==============================] - 0s 2ms/step - loss: 0.8821 - lr: 1.0000e-04\n",
      "Epoch 75/200\n",
      "6/6 [==============================] - 0s 2ms/step - loss: 0.8750 - lr: 1.0000e-04\n",
      "Epoch 76/200\n",
      "6/6 [==============================] - 0s 2ms/step - loss: 0.8797 - lr: 1.0000e-04\n",
      "Epoch 77/200\n",
      "6/6 [==============================] - 0s 2ms/step - loss: 0.8776 - lr: 1.0000e-04\n",
      "Epoch 78/200\n",
      "6/6 [==============================] - 0s 2ms/step - loss: 0.8890 - lr: 1.0000e-04\n",
      "Epoch 79/200\n",
      "6/6 [==============================] - 0s 2ms/step - loss: 0.8971 - lr: 1.0000e-04\n",
      "Epoch 80/200\n",
      "6/6 [==============================] - 0s 2ms/step - loss: 0.8736 - lr: 1.0000e-04\n",
      "Epoch 81/200\n",
      "6/6 [==============================] - 0s 2ms/step - loss: 0.8902 - lr: 1.0000e-04\n",
      "Epoch 82/200\n",
      "6/6 [==============================] - 0s 2ms/step - loss: 0.8912 - lr: 1.0000e-04\n",
      "Epoch 83/200\n",
      "6/6 [==============================] - 0s 2ms/step - loss: 0.8769 - lr: 1.0000e-04\n",
      "Epoch 84/200\n",
      "6/6 [==============================] - 0s 2ms/step - loss: 0.8881 - lr: 1.0000e-04\n",
      "Epoch 85/200\n",
      "6/6 [==============================] - 0s 2ms/step - loss: 0.9184 - lr: 1.0000e-04\n",
      "Epoch 86/200\n",
      "6/6 [==============================] - 0s 2ms/step - loss: 0.9023 - lr: 1.0000e-04\n",
      "Epoch 87/200\n",
      "6/6 [==============================] - 0s 2ms/step - loss: 0.9221 - lr: 1.0000e-04\n",
      "Epoch 88/200\n",
      "6/6 [==============================] - 0s 2ms/step - loss: 0.9247 - lr: 1.0000e-04\n",
      "Epoch 89/200\n",
      "6/6 [==============================] - 0s 2ms/step - loss: 0.9808 - lr: 1.0000e-04\n",
      "Epoch 90/200\n",
      "6/6 [==============================] - 0s 2ms/step - loss: 1.2533 - lr: 1.0000e-04\n",
      "Epoch 91/200\n",
      "6/6 [==============================] - 0s 2ms/step - loss: 0.9474 - lr: 1.0000e-04\n",
      "Epoch 92/200\n",
      "6/6 [==============================] - 0s 2ms/step - loss: 0.8810 - lr: 1.0000e-04\n",
      "Epoch 93/200\n",
      "6/6 [==============================] - 0s 2ms/step - loss: 0.9248 - lr: 1.0000e-04\n",
      "Epoch 94/200\n",
      "6/6 [==============================] - 0s 2ms/step - loss: 0.9010 - lr: 1.0000e-04\n",
      "Epoch 95/200\n",
      "6/6 [==============================] - 0s 2ms/step - loss: 0.8813 - lr: 1.0000e-04\n",
      "Epoch 96/200\n",
      "6/6 [==============================] - 0s 2ms/step - loss: 0.9162 - lr: 1.0000e-04\n",
      "Epoch 97/200\n",
      "6/6 [==============================] - 0s 2ms/step - loss: 0.8980 - lr: 1.0000e-04\n",
      "Epoch 98/200\n",
      "6/6 [==============================] - 0s 2ms/step - loss: 0.9053 - lr: 1.0000e-04\n",
      "Epoch 99/200\n",
      "6/6 [==============================] - 0s 2ms/step - loss: 0.9849 - lr: 1.0000e-04\n",
      "Epoch 100/200\n",
      "6/6 [==============================] - 0s 2ms/step - loss: 0.8936 - lr: 1.0000e-04\n",
      "Epoch 101/200\n",
      "6/6 [==============================] - 0s 2ms/step - loss: 0.8901 - lr: 1.0000e-04\n",
      "Epoch 102/200\n",
      "6/6 [==============================] - 0s 2ms/step - loss: 0.8939 - lr: 1.0000e-04\n",
      "Epoch 103/200\n",
      "6/6 [==============================] - 0s 2ms/step - loss: 0.8705 - lr: 1.0000e-04\n",
      "Epoch 104/200\n",
      "6/6 [==============================] - 0s 2ms/step - loss: 0.8765 - lr: 1.0000e-04\n",
      "Epoch 105/200\n",
      "6/6 [==============================] - 0s 2ms/step - loss: 0.8716 - lr: 1.0000e-04\n",
      "Epoch 106/200\n",
      "6/6 [==============================] - 0s 2ms/step - loss: 0.8809 - lr: 1.0000e-04\n",
      "Epoch 107/200\n",
      "6/6 [==============================] - 0s 2ms/step - loss: 0.8774 - lr: 1.0000e-04\n",
      "Epoch 108/200\n",
      "6/6 [==============================] - 0s 2ms/step - loss: 0.8789 - lr: 1.0000e-04\n",
      "Epoch 109/200\n",
      "6/6 [==============================] - 0s 2ms/step - loss: 0.8789 - lr: 1.0000e-04\n",
      "Epoch 110/200\n",
      "6/6 [==============================] - 0s 2ms/step - loss: 0.8776 - lr: 1.0000e-04\n",
      "Epoch 111/200\n",
      "6/6 [==============================] - 0s 2ms/step - loss: 0.8881 - lr: 1.0000e-04\n",
      "Epoch 112/200\n",
      "6/6 [==============================] - 0s 1ms/step - loss: 0.8784 - lr: 1.0000e-04\n",
      "Epoch 113/200\n",
      "6/6 [==============================] - 0s 2ms/step - loss: 0.8852 - lr: 1.0000e-04\n",
      "Epoch 114/200\n",
      "6/6 [==============================] - 0s 2ms/step - loss: 0.9104 - lr: 1.0000e-04\n",
      "Epoch 115/200\n",
      "6/6 [==============================] - 0s 2ms/step - loss: 0.8844 - lr: 1.0000e-04\n",
      "Epoch 116/200\n",
      "6/6 [==============================] - 0s 2ms/step - loss: 0.9345 - lr: 1.0000e-04\n",
      "Epoch 117/200\n",
      "6/6 [==============================] - 0s 2ms/step - loss: 0.8938 - lr: 1.0000e-04\n",
      "Epoch 118/200\n",
      "6/6 [==============================] - 0s 1ms/step - loss: 0.9074 - lr: 1.0000e-04\n",
      "Epoch 119/200\n",
      "6/6 [==============================] - 0s 2ms/step - loss: 0.8853 - lr: 1.0000e-04\n",
      "Epoch 120/200\n",
      "6/6 [==============================] - 0s 2ms/step - loss: 0.9832 - lr: 1.0000e-04\n",
      "Epoch 121/200\n",
      "6/6 [==============================] - 0s 2ms/step - loss: 0.9388 - lr: 1.0000e-04\n",
      "Epoch 122/200\n",
      "6/6 [==============================] - 0s 2ms/step - loss: 0.8745 - lr: 1.0000e-04\n",
      "Epoch 123/200\n",
      "6/6 [==============================] - 0s 2ms/step - loss: 0.8844 - lr: 1.0000e-04\n",
      "Epoch 124/200\n",
      "6/6 [==============================] - 0s 2ms/step - loss: 0.9105 - lr: 1.0000e-04\n",
      "Epoch 125/200\n",
      "6/6 [==============================] - 0s 2ms/step - loss: 0.9130 - lr: 1.0000e-04\n",
      "Epoch 126/200\n",
      "6/6 [==============================] - 0s 2ms/step - loss: 0.8874 - lr: 1.0000e-04\n",
      "Epoch 127/200\n",
      "6/6 [==============================] - 0s 2ms/step - loss: 0.8747 - lr: 1.0000e-04\n",
      "Epoch 128/200\n",
      "6/6 [==============================] - 0s 2ms/step - loss: 0.8762 - lr: 1.0000e-04\n",
      "Epoch 129/200\n",
      "6/6 [==============================] - 0s 2ms/step - loss: 0.8800 - lr: 1.0000e-04\n",
      "Epoch 130/200\n",
      "6/6 [==============================] - 0s 2ms/step - loss: 0.8821 - lr: 1.0000e-04\n",
      "Epoch 131/200\n",
      "6/6 [==============================] - 0s 2ms/step - loss: 0.8745 - lr: 1.0000e-04\n",
      "Epoch 132/200\n",
      "6/6 [==============================] - 0s 1ms/step - loss: 0.9597 - lr: 1.0000e-04\n",
      "Epoch 133/200\n",
      "6/6 [==============================] - 0s 2ms/step - loss: 1.0700 - lr: 1.0000e-04\n",
      "Epoch 134/200\n",
      "6/6 [==============================] - 0s 2ms/step - loss: 0.9047 - lr: 1.0000e-04\n",
      "Epoch 135/200\n",
      "6/6 [==============================] - 0s 2ms/step - loss: 0.9149 - lr: 1.0000e-04\n",
      "Epoch 136/200\n",
      "6/6 [==============================] - 0s 2ms/step - loss: 0.9204 - lr: 1.0000e-04\n",
      "Epoch 137/200\n",
      "6/6 [==============================] - 0s 2ms/step - loss: 0.8848 - lr: 1.0000e-04\n",
      "Epoch 138/200\n",
      "6/6 [==============================] - 0s 2ms/step - loss: 0.8803 - lr: 1.0000e-04\n",
      "Epoch 139/200\n",
      "6/6 [==============================] - 0s 2ms/step - loss: 0.8791 - lr: 1.0000e-04\n",
      "Epoch 140/200\n",
      "6/6 [==============================] - 0s 2ms/step - loss: 0.8785 - lr: 1.0000e-04\n",
      "Epoch 141/200\n",
      "6/6 [==============================] - 0s 2ms/step - loss: 0.8826 - lr: 1.0000e-04\n",
      "Epoch 142/200\n",
      "6/6 [==============================] - 0s 2ms/step - loss: 0.9041 - lr: 1.0000e-04\n",
      "Epoch 143/200\n",
      "6/6 [==============================] - 0s 2ms/step - loss: 0.8908 - lr: 1.0000e-04\n",
      "Epoch 144/200\n",
      "6/6 [==============================] - 0s 2ms/step - loss: 0.8723 - lr: 1.0000e-04\n",
      "Epoch 145/200\n",
      "6/6 [==============================] - 0s 2ms/step - loss: 0.8915 - lr: 1.0000e-04\n",
      "Epoch 146/200\n",
      "6/6 [==============================] - 0s 2ms/step - loss: 0.8778 - lr: 1.0000e-04\n",
      "Epoch 147/200\n",
      "6/6 [==============================] - 0s 2ms/step - loss: 0.8839 - lr: 1.0000e-04\n",
      "Epoch 148/200\n",
      "6/6 [==============================] - 0s 2ms/step - loss: 0.8745 - lr: 1.0000e-04\n",
      "Epoch 149/200\n",
      "6/6 [==============================] - 0s 2ms/step - loss: 0.8757 - lr: 1.0000e-04\n",
      "Epoch 150/200\n",
      "6/6 [==============================] - 0s 2ms/step - loss: 0.8717 - lr: 1.0000e-04\n",
      "Epoch 151/200\n",
      "6/6 [==============================] - 0s 2ms/step - loss: 0.8824 - lr: 1.0000e-04\n",
      "Epoch 152/200\n",
      "6/6 [==============================] - 0s 2ms/step - loss: 0.8937 - lr: 1.0000e-04\n",
      "Epoch 153/200\n",
      "6/6 [==============================] - 0s 2ms/step - loss: 0.8927 - lr: 1.0000e-04\n",
      "Epoch 154/200\n",
      "6/6 [==============================] - 0s 2ms/step - loss: 0.8773 - lr: 1.0000e-04\n",
      "Epoch 155/200\n",
      "6/6 [==============================] - 0s 2ms/step - loss: 0.8815 - lr: 1.0000e-04\n",
      "Epoch 156/200\n",
      "6/6 [==============================] - 0s 2ms/step - loss: 0.8858 - lr: 1.0000e-04\n",
      "Epoch 157/200\n",
      "6/6 [==============================] - 0s 2ms/step - loss: 0.9066 - lr: 1.0000e-04\n",
      "Epoch 158/200\n",
      "6/6 [==============================] - 0s 2ms/step - loss: 0.8913 - lr: 1.0000e-04\n",
      "Epoch 159/200\n",
      "6/6 [==============================] - 0s 2ms/step - loss: 0.8943 - lr: 1.0000e-04\n",
      "Epoch 160/200\n",
      "6/6 [==============================] - 0s 2ms/step - loss: 0.8923 - lr: 1.0000e-04\n",
      "Epoch 161/200\n",
      "6/6 [==============================] - 0s 2ms/step - loss: 0.8736 - lr: 1.0000e-04\n",
      "Epoch 162/200\n",
      "6/6 [==============================] - 0s 2ms/step - loss: 0.8743 - lr: 1.0000e-04\n",
      "Epoch 163/200\n",
      "6/6 [==============================] - 0s 2ms/step - loss: 0.8780 - lr: 1.0000e-04\n",
      "Epoch 164/200\n",
      "6/6 [==============================] - 0s 2ms/step - loss: 1.0202 - lr: 1.0000e-04\n",
      "Epoch 165/200\n",
      "6/6 [==============================] - 0s 2ms/step - loss: 1.0187 - lr: 1.0000e-04\n",
      "Epoch 166/200\n",
      "6/6 [==============================] - 0s 2ms/step - loss: 0.8674 - lr: 1.0000e-04\n",
      "Epoch 167/200\n",
      "6/6 [==============================] - 0s 2ms/step - loss: 0.9021 - lr: 1.0000e-04\n",
      "Epoch 168/200\n",
      "6/6 [==============================] - 0s 2ms/step - loss: 0.8820 - lr: 1.0000e-04\n",
      "Epoch 169/200\n",
      "6/6 [==============================] - 0s 2ms/step - loss: 0.8875 - lr: 1.0000e-04\n",
      "Epoch 170/200\n",
      "6/6 [==============================] - 0s 2ms/step - loss: 0.8894 - lr: 1.0000e-04\n",
      "Epoch 171/200\n",
      "6/6 [==============================] - 0s 2ms/step - loss: 0.8844 - lr: 1.0000e-04\n",
      "Epoch 172/200\n",
      "6/6 [==============================] - 0s 2ms/step - loss: 0.9007 - lr: 1.0000e-04\n",
      "Epoch 173/200\n",
      "6/6 [==============================] - 0s 2ms/step - loss: 0.8944 - lr: 1.0000e-04\n",
      "Epoch 174/200\n",
      "6/6 [==============================] - 0s 2ms/step - loss: 0.8781 - lr: 1.0000e-04\n",
      "Epoch 175/200\n",
      "6/6 [==============================] - 0s 2ms/step - loss: 0.8726 - lr: 1.0000e-04\n",
      "Epoch 176/200\n",
      "6/6 [==============================] - 0s 2ms/step - loss: 0.8755 - lr: 1.0000e-04\n",
      "Epoch 177/200\n",
      "6/6 [==============================] - 0s 2ms/step - loss: 0.8807 - lr: 1.0000e-04\n",
      "Epoch 178/200\n",
      "6/6 [==============================] - 0s 2ms/step - loss: 0.8787 - lr: 1.0000e-04\n",
      "Epoch 179/200\n",
      "6/6 [==============================] - 0s 2ms/step - loss: 0.8717 - lr: 1.0000e-04\n",
      "Epoch 180/200\n",
      "6/6 [==============================] - 0s 2ms/step - loss: 0.8920 - lr: 1.0000e-04\n",
      "Epoch 181/200\n",
      "6/6 [==============================] - 0s 2ms/step - loss: 0.9251 - lr: 1.0000e-04\n",
      "Epoch 182/200\n",
      "6/6 [==============================] - 0s 2ms/step - loss: 0.9127 - lr: 1.0000e-04\n",
      "Epoch 183/200\n",
      "6/6 [==============================] - 0s 2ms/step - loss: 0.8769 - lr: 1.0000e-04\n",
      "Epoch 184/200\n",
      "6/6 [==============================] - 0s 2ms/step - loss: 0.8843 - lr: 1.0000e-04\n",
      "Epoch 185/200\n",
      "6/6 [==============================] - 0s 2ms/step - loss: 0.9026 - lr: 1.0000e-04\n",
      "Epoch 186/200\n",
      "6/6 [==============================] - 0s 2ms/step - loss: 0.8859 - lr: 1.0000e-04\n",
      "Epoch 187/200\n",
      "6/6 [==============================] - 0s 2ms/step - loss: 0.8821 - lr: 1.0000e-04\n",
      "Epoch 188/200\n",
      "6/6 [==============================] - 0s 2ms/step - loss: 0.8754 - lr: 1.0000e-04\n",
      "Epoch 189/200\n",
      "6/6 [==============================] - 0s 1ms/step - loss: 0.8782 - lr: 1.0000e-04\n",
      "Epoch 190/200\n",
      "6/6 [==============================] - 0s 2ms/step - loss: 0.8817 - lr: 1.0000e-04\n",
      "Epoch 191/200\n",
      "6/6 [==============================] - 0s 2ms/step - loss: 0.8785 - lr: 1.0000e-04\n",
      "Epoch 192/200\n",
      "6/6 [==============================] - 0s 2ms/step - loss: 0.9129 - lr: 1.0000e-04\n",
      "Epoch 193/200\n",
      "6/6 [==============================] - 0s 2ms/step - loss: 0.8885 - lr: 1.0000e-04\n",
      "Epoch 194/200\n",
      "6/6 [==============================] - 0s 2ms/step - loss: 0.8922 - lr: 1.0000e-04\n",
      "Epoch 195/200\n",
      "6/6 [==============================] - 0s 2ms/step - loss: 0.8855 - lr: 1.0000e-04\n",
      "Epoch 196/200\n",
      "6/6 [==============================] - 0s 2ms/step - loss: 0.8732 - lr: 1.0000e-04\n",
      "Epoch 197/200\n",
      "6/6 [==============================] - 0s 2ms/step - loss: 0.8809 - lr: 1.0000e-04\n",
      "Epoch 198/200\n",
      "6/6 [==============================] - 0s 2ms/step - loss: 0.8725 - lr: 1.0000e-04\n",
      "Epoch 199/200\n",
      "6/6 [==============================] - 0s 2ms/step - loss: 0.9059 - lr: 1.0000e-04\n",
      "Epoch 200/200\n",
      "6/6 [==============================] - 0s 2ms/step - loss: 0.9731 - lr: 1.0000e-04\n"
     ]
    }
   ],
   "source": [
    "r = model.fit(X_tr, y, epochs=200, callbacks=[scheduler])#, validation_data=(X_test, y_test))"
   ]
  },
  {
   "cell_type": "code",
   "execution_count": 16,
   "id": "cbfeef6e",
   "metadata": {
    "execution": {
     "iopub.execute_input": "2023-10-15T01:06:28.392179Z",
     "iopub.status.busy": "2023-10-15T01:06:28.391818Z",
     "iopub.status.idle": "2023-10-15T01:06:28.654920Z",
     "shell.execute_reply": "2023-10-15T01:06:28.654213Z"
    },
    "papermill": {
     "duration": 0.302098,
     "end_time": "2023-10-15T01:06:28.656670",
     "exception": false,
     "start_time": "2023-10-15T01:06:28.354572",
     "status": "completed"
    },
    "tags": []
   },
   "outputs": [
    {
     "data": {
      "text/plain": [
       "<matplotlib.legend.Legend at 0x7e833a01b730>"
      ]
     },
     "execution_count": 16,
     "metadata": {},
     "output_type": "execute_result"
    },
    {
     "data": {
      "image/png": "[encoded data removed]",
      "text/plain": [
       "<Figure size 640x480 with 1 Axes>"
      ]
     },
     "metadata": {},
     "output_type": "display_data"
    }
   ],
   "source": [
    "plt.plot(r.history['loss'], label='loss')\n",
    "# plt.plot(r.history['val_loss'], label='val_loss')\n",
    "plt.legend()"
   ]
  },
  {
   "cell_type": "code",
   "execution_count": 17,
   "id": "3f756201",
   "metadata": {
    "execution": {
     "iopub.execute_input": "2023-10-15T01:06:28.730681Z",
     "iopub.status.busy": "2023-10-15T01:06:28.730327Z",
     "iopub.status.idle": "2023-10-15T01:06:28.739454Z",
     "shell.execute_reply": "2023-10-15T01:06:28.738751Z"
    },
    "papermill": {
     "duration": 0.048861,
     "end_time": "2023-10-15T01:06:28.741354",
     "exception": false,
     "start_time": "2023-10-15T01:06:28.692493",
     "status": "completed"
    },
    "tags": []
   },
   "outputs": [
    {
     "data": {
      "text/plain": [
       "[array([[0.35954642]], dtype=float32), array([17.818964], dtype=float32)]"
      ]
     },
     "execution_count": 17,
     "metadata": {},
     "output_type": "execute_result"
    }
   ],
   "source": [
    "model.layers[0].get_weights()"
   ]
  },
  {
   "cell_type": "code",
   "execution_count": 18,
   "id": "71728264",
   "metadata": {
    "execution": {
     "iopub.execute_input": "2023-10-15T01:06:28.873420Z",
     "iopub.status.busy": "2023-10-15T01:06:28.872580Z",
     "iopub.status.idle": "2023-10-15T01:06:28.879558Z",
     "shell.execute_reply": "2023-10-15T01:06:28.878463Z"
    },
    "papermill": {
     "duration": 0.104388,
     "end_time": "2023-10-15T01:06:28.881801",
     "exception": false,
     "start_time": "2023-10-15T01:06:28.777413",
     "status": "completed"
    },
    "tags": []
   },
   "outputs": [
    {
     "data": {
      "text/plain": [
       "0.35954642"
      ]
     },
     "execution_count": 18,
     "metadata": {},
     "output_type": "execute_result"
    }
   ],
   "source": [
    "# The slope of the line is:\n",
    "a = model.layers[0].get_weights()[0][0,0]\n",
    "a"
   ]
  }
 ],
 "metadata": {
  "kernelspec": {
   "display_name": "Python 3",
   "language": "python",
   "name": "python3"
  },
  "language_info": {
   "codemirror_mode": {
    "name": "ipython",
    "version": 3
   },
   "file_extension": ".py",
   "mimetype": "text/x-python",
   "name": "python",
   "nbconvert_exporter": "python",
   "pygments_lexer": "ipython3",
   "version": "3.10.12"
  },
  "papermill": {
   "default_parameters": {},
   "duration": 24.297144,
   "end_time": "2023-10-15T01:06:31.369208",
   "environment_variables": {},
   "exception": null,
   "input_path": "__notebook__.ipynb",
   "output_path": "__notebook__.ipynb",
   "parameters": {},
   "start_time": "2023-10-15T01:06:07.072064",
   "version": "2.4.0"
  }
 },
 "nbformat": 4,
 "nbformat_minor": 5
}
